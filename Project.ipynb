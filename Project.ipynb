{
 "cells": [
  {
   "cell_type": "markdown",
   "metadata": {},
   "source": [
    "# Project"
   ]
  },
  {
   "cell_type": "markdown",
   "metadata": {},
   "source": [
    "# Setup"
   ]
  },
  {
   "cell_type": "code",
   "execution_count": 85,
   "metadata": {},
   "outputs": [],
   "source": [
    "API_KEY = \"\"\n",
    "API_SECRET = \"\""
   ]
  },
  {
   "cell_type": "code",
   "execution_count": 3,
   "metadata": {},
   "outputs": [],
   "source": [
    "import tweepy\n",
    "auth = tweepy.AppAuthHandler(API_KEY, API_SECRET)\n",
    "api = tweepy.API(auth, wait_on_rate_limit=True, wait_on_rate_limit_notify=True)"
   ]
  },
  {
   "cell_type": "code",
   "execution_count": 23,
   "metadata": {},
   "outputs": [],
   "source": [
    "# Data download"
   ]
  },
  {
   "cell_type": "code",
   "execution_count": 14,
   "metadata": {
    "scrolled": true
   },
   "outputs": [
    {
     "name": "stdout",
     "output_type": "stream",
     "text": [
      "893\n"
     ]
    }
   ],
   "source": [
    "c = tweepy.Cursor(api.search, q=\"pixel 3\", lang=\"en\")\n",
    "status_store=[]\n",
    "\n",
    "for status in c.items(10000):\n",
    "    tid = status.id\n",
    "    tid_str = status.id_str\n",
    "    retweeted = status.retweeted\n",
    "    favorited = status.favorited\n",
    "    #reply_count = status.reply_count\n",
    "    #quote_count = status.quote_count\n",
    "    created_at = status.created_at\n",
    "    coordinates = status.coordinates\n",
    "    user_location = status.user.location\n",
    "    tweet_text = status.text\n",
    "    fav_count = status.favorite_count\n",
    "    retweet_count = status.retweet_count\n",
    "    user_id = status.user.id\n",
    "    user_name = status.user.name\n",
    "    user_utc_offset = status.user.utc_offset\n",
    "    followers_count = status.user.followers_count\n",
    "    friends_count = status.user.friends_count\n",
    "    this_tweet = [tid, tid_str, retweeted, favorited, created_at, coordinates, user_location, tweet_text, fav_count, \n",
    "                  retweet_count, user_id, user_name, user_utc_offset, followers_count,\n",
    "                  friends_count]\n",
    "    status_store.append(this_tweet)\n",
    "print(len(status_store))\n",
    "#print(status_store)"
   ]
  },
  {
   "cell_type": "code",
   "execution_count": 15,
   "metadata": {},
   "outputs": [
    {
     "data": {
      "text/plain": [
       "[[1067084600982339584,\n",
       "  '1067084600982339584',\n",
       "  False,\n",
       "  False,\n",
       "  datetime.datetime(2018, 11, 26, 15, 56, 9),\n",
       "  None,\n",
       "  'Pune, India',\n",
       "  'Inside Google Marketing: Jabari Hearn explains how the ability to dream — not just data — played a part in launchin… https://t.co/qsn0XPXTCQ',\n",
       "  0,\n",
       "  0,\n",
       "  1018730750261121024,\n",
       "  'Naitik Mandot',\n",
       "  None,\n",
       "  32,\n",
       "  23],\n",
       " [1067084340457365504,\n",
       "  '1067084340457365504',\n",
       "  False,\n",
       "  False,\n",
       "  datetime.datetime(2018, 11, 26, 15, 55, 6),\n",
       "  None,\n",
       "  '',\n",
       "  'Night Sight Review: Pixel 3 Lite + The Ultimate Night Mode Upgrade! Webcast https://t.co/OHj7rYoOWC',\n",
       "  0,\n",
       "  0,\n",
       "  1045912528771997696,\n",
       "  'jiensmicjeak',\n",
       "  None,\n",
       "  119,\n",
       "  692],\n",
       " [1067084266654367744,\n",
       "  '1067084266654367744',\n",
       "  False,\n",
       "  False,\n",
       "  datetime.datetime(2018, 11, 26, 15, 54, 49),\n",
       "  None,\n",
       "  'Mountain View, California',\n",
       "  'RT @9to5toys: Google’s new Pixel Stand charges your Pixel 3 in style at $40 shipped (50% off) https://t.co/ML1KI1HEIr https://t.co/PPbJp0pX…',\n",
       "  0,\n",
       "  1,\n",
       "  177087369,\n",
       "  '9to5Google',\n",
       "  None,\n",
       "  49717,\n",
       "  84],\n",
       " [1067084234492428290,\n",
       "  '1067084234492428290',\n",
       "  False,\n",
       "  False,\n",
       "  datetime.datetime(2018, 11, 26, 15, 54, 41),\n",
       "  None,\n",
       "  'Surrey, British Columbia',\n",
       "  'More Google Pixel 3 Lite photos leaked https://t.co/jOP0kMGH3l',\n",
       "  0,\n",
       "  0,\n",
       "  363394822,\n",
       "  'Joe de la Cruz',\n",
       "  None,\n",
       "  10803,\n",
       "  189]]"
      ]
     },
     "execution_count": 15,
     "metadata": {},
     "output_type": "execute_result"
    }
   ],
   "source": [
    "status_store[:4]"
   ]
  },
  {
   "cell_type": "code",
   "execution_count": 16,
   "metadata": {},
   "outputs": [],
   "source": [
    "import pandas as pd\n",
    "df = pd.DataFrame(status_store)\n",
    "df.columns = [\"tid\", \"tid_str\", \"retweeted\", \"favorited\",\"created_at\", \"coordinates\", \"user_location\", \"tweet_text\", \"fav_count\", \n",
    "                  \"retweet_count\", \"user_id\", \"user_name\", \"user_utc_offset\", \"followers_count\",\n",
    "                  \"friends_count\"]"
   ]
  },
  {
   "cell_type": "code",
   "execution_count": 17,
   "metadata": {},
   "outputs": [
    {
     "data": {
      "text/plain": [
       "(893, 15)"
      ]
     },
     "execution_count": 17,
     "metadata": {},
     "output_type": "execute_result"
    }
   ],
   "source": [
    "df.shape"
   ]
  },
  {
   "cell_type": "code",
   "execution_count": 18,
   "metadata": {
    "scrolled": true
   },
   "outputs": [
    {
     "data": {
      "text/html": [
       "<div>\n",
       "<style scoped>\n",
       "    .dataframe tbody tr th:only-of-type {\n",
       "        vertical-align: middle;\n",
       "    }\n",
       "\n",
       "    .dataframe tbody tr th {\n",
       "        vertical-align: top;\n",
       "    }\n",
       "\n",
       "    .dataframe thead th {\n",
       "        text-align: right;\n",
       "    }\n",
       "</style>\n",
       "<table border=\"1\" class=\"dataframe\">\n",
       "  <thead>\n",
       "    <tr style=\"text-align: right;\">\n",
       "      <th></th>\n",
       "      <th>tid</th>\n",
       "      <th>tid_str</th>\n",
       "      <th>retweeted</th>\n",
       "      <th>favorited</th>\n",
       "      <th>created_at</th>\n",
       "      <th>coordinates</th>\n",
       "      <th>user_location</th>\n",
       "      <th>tweet_text</th>\n",
       "      <th>fav_count</th>\n",
       "      <th>retweet_count</th>\n",
       "      <th>user_id</th>\n",
       "      <th>user_name</th>\n",
       "      <th>user_utc_offset</th>\n",
       "      <th>followers_count</th>\n",
       "      <th>friends_count</th>\n",
       "    </tr>\n",
       "  </thead>\n",
       "  <tbody>\n",
       "    <tr>\n",
       "      <th>888</th>\n",
       "      <td>1066991989919428608</td>\n",
       "      <td>1066991989919428608</td>\n",
       "      <td>False</td>\n",
       "      <td>False</td>\n",
       "      <td>2018-11-26 09:48:08</td>\n",
       "      <td>None</td>\n",
       "      <td>Hyderabad</td>\n",
       "      <td>RT @VenyaGeskin1: Google Pixel 3 Lite is a sim...</td>\n",
       "      <td>0</td>\n",
       "      <td>21</td>\n",
       "      <td>94896121</td>\n",
       "      <td>gokul bhargav.</td>\n",
       "      <td>None</td>\n",
       "      <td>178</td>\n",
       "      <td>196</td>\n",
       "    </tr>\n",
       "    <tr>\n",
       "      <th>889</th>\n",
       "      <td>1066991755025936384</td>\n",
       "      <td>1066991755025936384</td>\n",
       "      <td>False</td>\n",
       "      <td>False</td>\n",
       "      <td>2018-11-26 09:47:12</td>\n",
       "      <td>None</td>\n",
       "      <td>Timbó/SC</td>\n",
       "      <td>Google Pixel 3 XL international giveaway! http...</td>\n",
       "      <td>0</td>\n",
       "      <td>0</td>\n",
       "      <td>361813637</td>\n",
       "      <td>Ivan Petermann</td>\n",
       "      <td>None</td>\n",
       "      <td>21</td>\n",
       "      <td>19</td>\n",
       "    </tr>\n",
       "    <tr>\n",
       "      <th>890</th>\n",
       "      <td>1066991737938145280</td>\n",
       "      <td>1066991737938145280</td>\n",
       "      <td>False</td>\n",
       "      <td>False</td>\n",
       "      <td>2018-11-26 09:47:08</td>\n",
       "      <td>None</td>\n",
       "      <td></td>\n",
       "      <td>Will #GetOutoftheRed include the pixel 3 @TMob...</td>\n",
       "      <td>0</td>\n",
       "      <td>0</td>\n",
       "      <td>14925066</td>\n",
       "      <td>Gabe Jesus</td>\n",
       "      <td>None</td>\n",
       "      <td>256</td>\n",
       "      <td>598</td>\n",
       "    </tr>\n",
       "    <tr>\n",
       "      <th>891</th>\n",
       "      <td>1066991662621048832</td>\n",
       "      <td>1066991662621048832</td>\n",
       "      <td>False</td>\n",
       "      <td>False</td>\n",
       "      <td>2018-11-26 09:46:50</td>\n",
       "      <td>None</td>\n",
       "      <td></td>\n",
       "      <td>Google Pixel 3 XL international giveaway! http...</td>\n",
       "      <td>0</td>\n",
       "      <td>0</td>\n",
       "      <td>55408556</td>\n",
       "      <td>Shilton Jonatan</td>\n",
       "      <td>None</td>\n",
       "      <td>254</td>\n",
       "      <td>383</td>\n",
       "    </tr>\n",
       "    <tr>\n",
       "      <th>892</th>\n",
       "      <td>1066991623442259969</td>\n",
       "      <td>1066991623442259969</td>\n",
       "      <td>False</td>\n",
       "      <td>False</td>\n",
       "      <td>2018-11-26 09:46:41</td>\n",
       "      <td>None</td>\n",
       "      <td>Rio de Janeiro, Brazil</td>\n",
       "      <td>Google Pixel 3 XL international giveaway! http...</td>\n",
       "      <td>0</td>\n",
       "      <td>0</td>\n",
       "      <td>104962164</td>\n",
       "      <td>Marcorélio Soares</td>\n",
       "      <td>None</td>\n",
       "      <td>34</td>\n",
       "      <td>477</td>\n",
       "    </tr>\n",
       "  </tbody>\n",
       "</table>\n",
       "</div>"
      ],
      "text/plain": [
       "                     tid              tid_str  retweeted  favorited  \\\n",
       "888  1066991989919428608  1066991989919428608      False      False   \n",
       "889  1066991755025936384  1066991755025936384      False      False   \n",
       "890  1066991737938145280  1066991737938145280      False      False   \n",
       "891  1066991662621048832  1066991662621048832      False      False   \n",
       "892  1066991623442259969  1066991623442259969      False      False   \n",
       "\n",
       "             created_at coordinates           user_location  \\\n",
       "888 2018-11-26 09:48:08        None               Hyderabad   \n",
       "889 2018-11-26 09:47:12        None                Timbó/SC   \n",
       "890 2018-11-26 09:47:08        None                           \n",
       "891 2018-11-26 09:46:50        None                           \n",
       "892 2018-11-26 09:46:41        None  Rio de Janeiro, Brazil   \n",
       "\n",
       "                                            tweet_text  fav_count  \\\n",
       "888  RT @VenyaGeskin1: Google Pixel 3 Lite is a sim...          0   \n",
       "889  Google Pixel 3 XL international giveaway! http...          0   \n",
       "890  Will #GetOutoftheRed include the pixel 3 @TMob...          0   \n",
       "891  Google Pixel 3 XL international giveaway! http...          0   \n",
       "892  Google Pixel 3 XL international giveaway! http...          0   \n",
       "\n",
       "     retweet_count    user_id          user_name user_utc_offset  \\\n",
       "888             21   94896121     gokul bhargav.            None   \n",
       "889              0  361813637     Ivan Petermann            None   \n",
       "890              0   14925066         Gabe Jesus            None   \n",
       "891              0   55408556    Shilton Jonatan            None   \n",
       "892              0  104962164  Marcorélio Soares            None   \n",
       "\n",
       "     followers_count  friends_count  \n",
       "888              178            196  \n",
       "889               21             19  \n",
       "890              256            598  \n",
       "891              254            383  \n",
       "892               34            477  "
      ]
     },
     "execution_count": 18,
     "metadata": {},
     "output_type": "execute_result"
    }
   ],
   "source": [
    "df.tail()"
   ]
  },
  {
   "cell_type": "code",
   "execution_count": 19,
   "metadata": {},
   "outputs": [],
   "source": [
    "df.to_csv(\"dataset1_pixel3nov25_2.csv\")"
   ]
  },
  {
   "cell_type": "code",
   "execution_count": 18,
   "metadata": {},
   "outputs": [
    {
     "name": "stderr",
     "output_type": "stream",
     "text": [
      "Rate limit reached. Sleeping for: 835\n"
     ]
    },
    {
     "name": "stdout",
     "output_type": "stream",
     "text": [
      "6478\n"
     ]
    }
   ],
   "source": [
    "c = tweepy.Cursor(api.search, q=\"pixel\", lang=\"en\")\n",
    "status_store1=[]\n",
    "\n",
    "for status in c.items(10000):\n",
    "    created_at = status.created_at\n",
    "    coordinates = status.coordinates\n",
    "    user_location = status.user.location\n",
    "    tweet_text = status.text\n",
    "    fav_count = status.favorite_count\n",
    "    retweet_count = status.retweet_count\n",
    "    user_id = status.user.id\n",
    "    user_name = status.user.name\n",
    "    user_utc_offset = status.user.utc_offset\n",
    "    followers_count = status.user.followers_count\n",
    "    friends_count = status.user.friends_count\n",
    "    this_tweet = [created_at, coordinates, user_location, tweet_text, fav_count, \n",
    "                  retweet_count, user_id, user_name, user_utc_offset, followers_count,\n",
    "                  friends_count]\n",
    "    status_store1.append(this_tweet)\n",
    "print(len(status_store1))\n",
    "#print(status_store)"
   ]
  },
  {
   "cell_type": "code",
   "execution_count": 22,
   "metadata": {},
   "outputs": [],
   "source": [
    "df1 = pd.DataFrame(status_store1)\n",
    "df1.columns = [\"created_at\", \"coordinates\", \"user_location\", \"tweet_text\", \"fav_count\", \n",
    "                  \"retweet_count\", \"user_id\", \"user_name\", \"user_utc_offset\", \"followers_count\",\n",
    "                  \"friends_count\"]"
   ]
  },
  {
   "cell_type": "code",
   "execution_count": 25,
   "metadata": {},
   "outputs": [
    {
     "data": {
      "text/html": [
       "<div>\n",
       "<style scoped>\n",
       "    .dataframe tbody tr th:only-of-type {\n",
       "        vertical-align: middle;\n",
       "    }\n",
       "\n",
       "    .dataframe tbody tr th {\n",
       "        vertical-align: top;\n",
       "    }\n",
       "\n",
       "    .dataframe thead th {\n",
       "        text-align: right;\n",
       "    }\n",
       "</style>\n",
       "<table border=\"1\" class=\"dataframe\">\n",
       "  <thead>\n",
       "    <tr style=\"text-align: right;\">\n",
       "      <th></th>\n",
       "      <th>created_at</th>\n",
       "      <th>coordinates</th>\n",
       "      <th>user_location</th>\n",
       "      <th>tweet_text</th>\n",
       "      <th>fav_count</th>\n",
       "      <th>retweet_count</th>\n",
       "      <th>user_id</th>\n",
       "      <th>user_name</th>\n",
       "      <th>user_utc_offset</th>\n",
       "      <th>followers_count</th>\n",
       "      <th>friends_count</th>\n",
       "    </tr>\n",
       "  </thead>\n",
       "  <tbody>\n",
       "    <tr>\n",
       "      <th>6473</th>\n",
       "      <td>2018-11-18 11:11:49</td>\n",
       "      <td>None</td>\n",
       "      <td>Hope, Indiana</td>\n",
       "      <td>Coloring by numbers is fun with Pixel Art! htt...</td>\n",
       "      <td>0</td>\n",
       "      <td>0</td>\n",
       "      <td>53339713</td>\n",
       "      <td>SherylMcQueenFreeman</td>\n",
       "      <td>None</td>\n",
       "      <td>296</td>\n",
       "      <td>2788</td>\n",
       "    </tr>\n",
       "    <tr>\n",
       "      <th>6474</th>\n",
       "      <td>2018-11-18 11:11:40</td>\n",
       "      <td>None</td>\n",
       "      <td></td>\n",
       "      <td>RT @vivo_malaysia: With V11's Dual Pixel Senso...</td>\n",
       "      <td>0</td>\n",
       "      <td>532</td>\n",
       "      <td>1063878016076472321</td>\n",
       "      <td>ذهني</td>\n",
       "      <td>None</td>\n",
       "      <td>4</td>\n",
       "      <td>0</td>\n",
       "    </tr>\n",
       "    <tr>\n",
       "      <th>6475</th>\n",
       "      <td>2018-11-18 11:11:36</td>\n",
       "      <td>None</td>\n",
       "      <td>Chicago, IL</td>\n",
       "      <td>RT @ohnePixel: 🥳GIVEAWAY TIME🥳\\n\\nTo win this ...</td>\n",
       "      <td>0</td>\n",
       "      <td>281</td>\n",
       "      <td>103150623</td>\n",
       "      <td>rone</td>\n",
       "      <td>None</td>\n",
       "      <td>654</td>\n",
       "      <td>256</td>\n",
       "    </tr>\n",
       "    <tr>\n",
       "      <th>6476</th>\n",
       "      <td>2018-11-18 11:11:31</td>\n",
       "      <td>None</td>\n",
       "      <td>Vancouver, British Columbia</td>\n",
       "      <td>RT @FieryFN: Naruto Headband Pixel Art\\nthis t...</td>\n",
       "      <td>0</td>\n",
       "      <td>5</td>\n",
       "      <td>3265347685</td>\n",
       "      <td>Rehman mann</td>\n",
       "      <td>None</td>\n",
       "      <td>20</td>\n",
       "      <td>118</td>\n",
       "    </tr>\n",
       "    <tr>\n",
       "      <th>6477</th>\n",
       "      <td>2018-11-18 11:11:18</td>\n",
       "      <td>None</td>\n",
       "      <td>Salem</td>\n",
       "      <td>@IndiaPOCO 1.Snapdragon 845 Processor 🔥🔥🔥\\n\\n2...</td>\n",
       "      <td>0</td>\n",
       "      <td>0</td>\n",
       "      <td>732090558106079237</td>\n",
       "      <td>Mersal mohan</td>\n",
       "      <td>None</td>\n",
       "      <td>213</td>\n",
       "      <td>504</td>\n",
       "    </tr>\n",
       "  </tbody>\n",
       "</table>\n",
       "</div>"
      ],
      "text/plain": [
       "              created_at coordinates                user_location  \\\n",
       "6473 2018-11-18 11:11:49        None               Hope, Indiana    \n",
       "6474 2018-11-18 11:11:40        None                                \n",
       "6475 2018-11-18 11:11:36        None                  Chicago, IL   \n",
       "6476 2018-11-18 11:11:31        None  Vancouver, British Columbia   \n",
       "6477 2018-11-18 11:11:18        None                        Salem   \n",
       "\n",
       "                                             tweet_text  fav_count  \\\n",
       "6473  Coloring by numbers is fun with Pixel Art! htt...          0   \n",
       "6474  RT @vivo_malaysia: With V11's Dual Pixel Senso...          0   \n",
       "6475  RT @ohnePixel: 🥳GIVEAWAY TIME🥳\\n\\nTo win this ...          0   \n",
       "6476  RT @FieryFN: Naruto Headband Pixel Art\\nthis t...          0   \n",
       "6477  @IndiaPOCO 1.Snapdragon 845 Processor 🔥🔥🔥\\n\\n2...          0   \n",
       "\n",
       "      retweet_count              user_id             user_name  \\\n",
       "6473              0             53339713  SherylMcQueenFreeman   \n",
       "6474            532  1063878016076472321                  ذهني   \n",
       "6475            281            103150623                  rone   \n",
       "6476              5           3265347685           Rehman mann   \n",
       "6477              0   732090558106079237          Mersal mohan   \n",
       "\n",
       "     user_utc_offset  followers_count  friends_count  \n",
       "6473            None              296           2788  \n",
       "6474            None                4              0  \n",
       "6475            None              654            256  \n",
       "6476            None               20            118  \n",
       "6477            None              213            504  "
      ]
     },
     "execution_count": 25,
     "metadata": {},
     "output_type": "execute_result"
    }
   ],
   "source": [
    "df1.tail()"
   ]
  },
  {
   "cell_type": "code",
   "execution_count": 24,
   "metadata": {},
   "outputs": [],
   "source": [
    "df1.to_csv(\"dataset1_pixelnov19_2.csv\")"
   ]
  },
  {
   "cell_type": "markdown",
   "metadata": {},
   "source": [
    "# Dataset preparation"
   ]
  },
  {
   "cell_type": "code",
   "execution_count": 25,
   "metadata": {},
   "outputs": [],
   "source": [
    "pixel12 = pd.read_csv(\"dataset1_pixel3nov12.csv\", index_col=0)\n",
    "pixel18 = pd.read_csv(\"dataset1_pixelnov18_1.csv\", index_col=0)"
   ]
  },
  {
   "cell_type": "code",
   "execution_count": 26,
   "metadata": {},
   "outputs": [
    {
     "data": {
      "text/html": [
       "<div>\n",
       "<style scoped>\n",
       "    .dataframe tbody tr th:only-of-type {\n",
       "        vertical-align: middle;\n",
       "    }\n",
       "\n",
       "    .dataframe tbody tr th {\n",
       "        vertical-align: top;\n",
       "    }\n",
       "\n",
       "    .dataframe thead th {\n",
       "        text-align: right;\n",
       "    }\n",
       "</style>\n",
       "<table border=\"1\" class=\"dataframe\">\n",
       "  <thead>\n",
       "    <tr style=\"text-align: right;\">\n",
       "      <th></th>\n",
       "      <th>created_at</th>\n",
       "      <th>coordinates</th>\n",
       "      <th>user_location</th>\n",
       "      <th>tweet_text</th>\n",
       "      <th>fav_count</th>\n",
       "      <th>retweet_count</th>\n",
       "      <th>user_id</th>\n",
       "      <th>user_name</th>\n",
       "      <th>user_utc_offset</th>\n",
       "      <th>followers_count</th>\n",
       "      <th>friends_count</th>\n",
       "    </tr>\n",
       "  </thead>\n",
       "  <tbody>\n",
       "    <tr>\n",
       "      <th>0</th>\n",
       "      <td>2018-11-13 07:03:57</td>\n",
       "      <td>NaN</td>\n",
       "      <td>New Delhi, India</td>\n",
       "      <td>RT @TechnicalGuruji: Good Morning 🙂...Night Si...</td>\n",
       "      <td>0</td>\n",
       "      <td>127</td>\n",
       "      <td>792702964959813632</td>\n",
       "      <td>💝Chandramani 💝Kumar 💞</td>\n",
       "      <td>NaN</td>\n",
       "      <td>7640</td>\n",
       "      <td>5488</td>\n",
       "    </tr>\n",
       "    <tr>\n",
       "      <th>1</th>\n",
       "      <td>2018-11-13 07:03:23</td>\n",
       "      <td>NaN</td>\n",
       "      <td>Nigeria/Ghana</td>\n",
       "      <td>RT @mohinii_u: Yesterday, I dropped by #GTBank...</td>\n",
       "      <td>0</td>\n",
       "      <td>32</td>\n",
       "      <td>851350928</td>\n",
       "      <td>O</td>\n",
       "      <td>NaN</td>\n",
       "      <td>676</td>\n",
       "      <td>264</td>\n",
       "    </tr>\n",
       "    <tr>\n",
       "      <th>2</th>\n",
       "      <td>2018-11-13 07:02:42</td>\n",
       "      <td>NaN</td>\n",
       "      <td>Malaysia</td>\n",
       "      <td>RT @Ashril_92: Damn Pixel 3 😩😭❤️ https://t.co/...</td>\n",
       "      <td>0</td>\n",
       "      <td>9270</td>\n",
       "      <td>1124217710</td>\n",
       "      <td>Farah☁️</td>\n",
       "      <td>NaN</td>\n",
       "      <td>471</td>\n",
       "      <td>287</td>\n",
       "    </tr>\n",
       "    <tr>\n",
       "      <th>3</th>\n",
       "      <td>2018-11-13 07:01:36</td>\n",
       "      <td>NaN</td>\n",
       "      <td>Kurla East, Mumbai</td>\n",
       "      <td>RT @androidcentral: The Google Pixel 3 XL is o...</td>\n",
       "      <td>0</td>\n",
       "      <td>6</td>\n",
       "      <td>4631963172</td>\n",
       "      <td>JAVED SHAIKH(JAFF_!)</td>\n",
       "      <td>NaN</td>\n",
       "      <td>96</td>\n",
       "      <td>108</td>\n",
       "    </tr>\n",
       "    <tr>\n",
       "      <th>4</th>\n",
       "      <td>2018-11-13 07:00:07</td>\n",
       "      <td>NaN</td>\n",
       "      <td>Kurla East, Mumbai</td>\n",
       "      <td>RT @androidcentral: No one wants to hide their...</td>\n",
       "      <td>0</td>\n",
       "      <td>3</td>\n",
       "      <td>4631963172</td>\n",
       "      <td>JAVED SHAIKH(JAFF_!)</td>\n",
       "      <td>NaN</td>\n",
       "      <td>96</td>\n",
       "      <td>108</td>\n",
       "    </tr>\n",
       "  </tbody>\n",
       "</table>\n",
       "</div>"
      ],
      "text/plain": [
       "            created_at  coordinates       user_location  \\\n",
       "0  2018-11-13 07:03:57          NaN   New Delhi, India    \n",
       "1  2018-11-13 07:03:23          NaN      Nigeria/Ghana    \n",
       "2  2018-11-13 07:02:42          NaN            Malaysia   \n",
       "3  2018-11-13 07:01:36          NaN  Kurla East, Mumbai   \n",
       "4  2018-11-13 07:00:07          NaN  Kurla East, Mumbai   \n",
       "\n",
       "                                          tweet_text  fav_count  \\\n",
       "0  RT @TechnicalGuruji: Good Morning 🙂...Night Si...          0   \n",
       "1  RT @mohinii_u: Yesterday, I dropped by #GTBank...          0   \n",
       "2  RT @Ashril_92: Damn Pixel 3 😩😭❤️ https://t.co/...          0   \n",
       "3  RT @androidcentral: The Google Pixel 3 XL is o...          0   \n",
       "4  RT @androidcentral: No one wants to hide their...          0   \n",
       "\n",
       "   retweet_count             user_id              user_name  user_utc_offset  \\\n",
       "0            127  792702964959813632  💝Chandramani 💝Kumar 💞              NaN   \n",
       "1             32           851350928                      O              NaN   \n",
       "2           9270          1124217710                Farah☁️              NaN   \n",
       "3              6          4631963172   JAVED SHAIKH(JAFF_!)              NaN   \n",
       "4              3          4631963172   JAVED SHAIKH(JAFF_!)              NaN   \n",
       "\n",
       "   followers_count  friends_count  \n",
       "0             7640           5488  \n",
       "1              676            264  \n",
       "2              471            287  \n",
       "3               96            108  \n",
       "4               96            108  "
      ]
     },
     "execution_count": 26,
     "metadata": {},
     "output_type": "execute_result"
    }
   ],
   "source": [
    "pixel12.head()"
   ]
  },
  {
   "cell_type": "code",
   "execution_count": 27,
   "metadata": {
    "scrolled": true
   },
   "outputs": [
    {
     "name": "stdout",
     "output_type": "stream",
     "text": [
      "(7001, 11)\n",
      "(1090, 11)\n"
     ]
    }
   ],
   "source": [
    "print(pixel18.shape)\n",
    "print(pixel12.shape)"
   ]
  },
  {
   "cell_type": "code",
   "execution_count": 28,
   "metadata": {},
   "outputs": [],
   "source": [
    "data12n18 = pd.concat([pixel18,pixel12])"
   ]
  },
  {
   "cell_type": "code",
   "execution_count": 29,
   "metadata": {},
   "outputs": [
    {
     "data": {
      "text/plain": [
       "(8091, 11)"
      ]
     },
     "execution_count": 29,
     "metadata": {},
     "output_type": "execute_result"
    }
   ],
   "source": [
    "data12n18.shape"
   ]
  },
  {
   "cell_type": "code",
   "execution_count": 31,
   "metadata": {},
   "outputs": [
    {
     "data": {
      "text/html": [
       "<div>\n",
       "<style scoped>\n",
       "    .dataframe tbody tr th:only-of-type {\n",
       "        vertical-align: middle;\n",
       "    }\n",
       "\n",
       "    .dataframe tbody tr th {\n",
       "        vertical-align: top;\n",
       "    }\n",
       "\n",
       "    .dataframe thead th {\n",
       "        text-align: right;\n",
       "    }\n",
       "</style>\n",
       "<table border=\"1\" class=\"dataframe\">\n",
       "  <thead>\n",
       "    <tr style=\"text-align: right;\">\n",
       "      <th></th>\n",
       "      <th>created_at</th>\n",
       "      <th>coordinates</th>\n",
       "      <th>user_location</th>\n",
       "      <th>tweet_text</th>\n",
       "      <th>fav_count</th>\n",
       "      <th>retweet_count</th>\n",
       "      <th>user_id</th>\n",
       "      <th>user_name</th>\n",
       "      <th>user_utc_offset</th>\n",
       "      <th>followers_count</th>\n",
       "      <th>friends_count</th>\n",
       "    </tr>\n",
       "  </thead>\n",
       "  <tbody>\n",
       "    <tr>\n",
       "      <th>1085</th>\n",
       "      <td>2018-11-12 13:16:05</td>\n",
       "      <td>NaN</td>\n",
       "      <td>VENEZUELA</td>\n",
       "      <td>Pixel 3 tips and tricks: Getting the most from...</td>\n",
       "      <td>0</td>\n",
       "      <td>0</td>\n",
       "      <td>388912217</td>\n",
       "      <td>PC-PLANET, S.A.</td>\n",
       "      <td>NaN</td>\n",
       "      <td>1267</td>\n",
       "      <td>997</td>\n",
       "    </tr>\n",
       "    <tr>\n",
       "      <th>1086</th>\n",
       "      <td>2018-11-12 13:15:31</td>\n",
       "      <td>NaN</td>\n",
       "      <td>Geneva</td>\n",
       "      <td>The Pixel 3 is not an iPhone killer. But if yo...</td>\n",
       "      <td>0</td>\n",
       "      <td>0</td>\n",
       "      <td>88403945</td>\n",
       "      <td>Gabriel Hussy 🔁</td>\n",
       "      <td>NaN</td>\n",
       "      <td>2706</td>\n",
       "      <td>1382</td>\n",
       "    </tr>\n",
       "    <tr>\n",
       "      <th>1087</th>\n",
       "      <td>2018-11-12 13:15:00</td>\n",
       "      <td>NaN</td>\n",
       "      <td>Kuala Lumpur</td>\n",
       "      <td>RT @WIRED: The Pixel 3 is not an iPhone killer...</td>\n",
       "      <td>0</td>\n",
       "      <td>8</td>\n",
       "      <td>336983384</td>\n",
       "      <td>Kemto</td>\n",
       "      <td>NaN</td>\n",
       "      <td>582</td>\n",
       "      <td>493</td>\n",
       "    </tr>\n",
       "    <tr>\n",
       "      <th>1088</th>\n",
       "      <td>2018-11-12 13:14:25</td>\n",
       "      <td>NaN</td>\n",
       "      <td>Pakistan</td>\n",
       "      <td>Google Pixel 3 XL Price And Specification http...</td>\n",
       "      <td>0</td>\n",
       "      <td>0</td>\n",
       "      <td>783964976352460800</td>\n",
       "      <td>Content.PK</td>\n",
       "      <td>NaN</td>\n",
       "      <td>87</td>\n",
       "      <td>20</td>\n",
       "    </tr>\n",
       "    <tr>\n",
       "      <th>1089</th>\n",
       "      <td>2018-11-12 13:14:01</td>\n",
       "      <td>NaN</td>\n",
       "      <td>Pakistan</td>\n",
       "      <td>RT @WIRED: The Pixel 3 is not an iPhone killer...</td>\n",
       "      <td>0</td>\n",
       "      <td>8</td>\n",
       "      <td>1060449761084420096</td>\n",
       "      <td>TechGeek2K</td>\n",
       "      <td>NaN</td>\n",
       "      <td>15</td>\n",
       "      <td>45</td>\n",
       "    </tr>\n",
       "  </tbody>\n",
       "</table>\n",
       "</div>"
      ],
      "text/plain": [
       "               created_at coordinates user_location  \\\n",
       "1085  2018-11-12 13:16:05         NaN     VENEZUELA   \n",
       "1086  2018-11-12 13:15:31         NaN        Geneva   \n",
       "1087  2018-11-12 13:15:00         NaN  Kuala Lumpur   \n",
       "1088  2018-11-12 13:14:25         NaN      Pakistan   \n",
       "1089  2018-11-12 13:14:01         NaN      Pakistan   \n",
       "\n",
       "                                             tweet_text  fav_count  \\\n",
       "1085  Pixel 3 tips and tricks: Getting the most from...          0   \n",
       "1086  The Pixel 3 is not an iPhone killer. But if yo...          0   \n",
       "1087  RT @WIRED: The Pixel 3 is not an iPhone killer...          0   \n",
       "1088  Google Pixel 3 XL Price And Specification http...          0   \n",
       "1089  RT @WIRED: The Pixel 3 is not an iPhone killer...          0   \n",
       "\n",
       "      retweet_count              user_id        user_name  user_utc_offset  \\\n",
       "1085              0            388912217  PC-PLANET, S.A.              NaN   \n",
       "1086              0             88403945  Gabriel Hussy 🔁              NaN   \n",
       "1087              8            336983384            Kemto              NaN   \n",
       "1088              0   783964976352460800       Content.PK              NaN   \n",
       "1089              8  1060449761084420096       TechGeek2K              NaN   \n",
       "\n",
       "      followers_count  friends_count  \n",
       "1085             1267            997  \n",
       "1086             2706           1382  \n",
       "1087              582            493  \n",
       "1088               87             20  \n",
       "1089               15             45  "
      ]
     },
     "execution_count": 31,
     "metadata": {},
     "output_type": "execute_result"
    }
   ],
   "source": [
    "data12n18.tail()"
   ]
  },
  {
   "cell_type": "code",
   "execution_count": 32,
   "metadata": {},
   "outputs": [],
   "source": [
    "data12n18f = data12n18.groupby(['tweet_text']).apply(lambda x: x.sort_values('user_name')).reset_index(drop=True)"
   ]
  },
  {
   "cell_type": "code",
   "execution_count": 33,
   "metadata": {
    "scrolled": true
   },
   "outputs": [
    {
     "data": {
      "text/plain": [
       "(8091, 11)"
      ]
     },
     "execution_count": 33,
     "metadata": {},
     "output_type": "execute_result"
    }
   ],
   "source": [
    "data12n18f.shape"
   ]
  },
  {
   "cell_type": "code",
   "execution_count": 34,
   "metadata": {},
   "outputs": [],
   "source": [
    "data12n18final = data12n18f.drop_duplicates(subset=['tweet_text'], keep='first')"
   ]
  },
  {
   "cell_type": "code",
   "execution_count": 35,
   "metadata": {},
   "outputs": [
    {
     "data": {
      "text/plain": [
       "(5266, 11)"
      ]
     },
     "execution_count": 35,
     "metadata": {},
     "output_type": "execute_result"
    }
   ],
   "source": [
    "data12n18final.shape"
   ]
  },
  {
   "cell_type": "code",
   "execution_count": 36,
   "metadata": {},
   "outputs": [],
   "source": [
    "data12n18final.to_csv(\"data12n18final.csv\")"
   ]
  },
  {
   "cell_type": "code",
   "execution_count": 20,
   "metadata": {},
   "outputs": [
    {
     "name": "stdout",
     "output_type": "stream",
     "text": [
      "(4779, 11)\n",
      "(4701, 11)\n",
      "(9480, 11)\n",
      "(9480, 11)\n",
      "(4188, 11)\n"
     ]
    }
   ],
   "source": [
    "pixelNov13_1 = pd.read_csv(\"dataset1_pixelxlnov13.csv\", index_col=0)\n",
    "pixelNov13_2 = pd.read_csv(\"dataset1_pixelxlnov13_2.csv\", index_col=0)\n",
    "\n",
    "#pixel12.head()\n",
    "\n",
    "print(pixelNov13_1.shape)\n",
    "print(pixelNov13_2.shape)\n",
    "\n",
    "data13 = pd.concat([pixelNov13_1,pixelNov13_2])\n",
    "\n",
    "print(data13.shape)\n",
    "\n",
    "#data1.tail()\n",
    "\n",
    "dataNov13 = data13.groupby(['tweet_text']).apply(lambda x: x.sort_values('user_name')).reset_index(drop=True)\n",
    "\n",
    "print(dataNov13.shape)\n",
    "\n",
    "dataNov13final = dataNov13.drop_duplicates(subset=['tweet_text'], keep='first')\n",
    "\n",
    "print(dataNov13final.shape)"
   ]
  },
  {
   "cell_type": "code",
   "execution_count": 22,
   "metadata": {},
   "outputs": [],
   "source": [
    "dataNov13final.to_csv(\"dataNov13final.csv\")"
   ]
  },
  {
   "cell_type": "code",
   "execution_count": 37,
   "metadata": {},
   "outputs": [
    {
     "name": "stdout",
     "output_type": "stream",
     "text": [
      "(4918, 11)\n",
      "(9882, 11)\n",
      "(14800, 11)\n",
      "(14800, 11)\n",
      "(9316, 11)\n"
     ]
    }
   ],
   "source": [
    "pixelNov17_1 = pd.read_csv(\"dataset1_pixelxlnov17_1.csv\", index_col=0)\n",
    "pixelNov17_2 = pd.read_csv(\"dataset1_pixel3nov17_1.csv\", index_col=0)\n",
    "\n",
    "print(pixelNov17_1.shape)\n",
    "print(pixelNov17_2.shape)\n",
    "\n",
    "data17 = pd.concat([pixelNov17_1,pixelNov17_2])\n",
    "\n",
    "print(data17.shape)\n",
    "\n",
    "dataNov17 = data17.groupby(['tweet_text']).apply(lambda x: x.sort_values('user_name')).reset_index(drop=True)\n",
    "\n",
    "print(dataNov17.shape)\n",
    "\n",
    "dataNov17final = dataNov17.drop_duplicates(subset=['tweet_text'], keep='first')\n",
    "\n",
    "print(dataNov17final.shape)"
   ]
  },
  {
   "cell_type": "code",
   "execution_count": 38,
   "metadata": {},
   "outputs": [],
   "source": [
    "dataNov17final.to_csv(\"dataNov17final.csv\")"
   ]
  },
  {
   "cell_type": "code",
   "execution_count": 48,
   "metadata": {},
   "outputs": [
    {
     "name": "stdout",
     "output_type": "stream",
     "text": [
      "(6479, 18)\n",
      "(6479, 18)\n",
      "(12958, 18)\n",
      "(12958, 18)\n",
      "(4496, 18)\n"
     ]
    }
   ],
   "source": [
    "#pixelNov19_1 = pd.read_csv(\"dataset1_pixelnov19_1.csv\", index_col=0)\n",
    "#pixelNov19_2 = pd.read_csv(\"dataset1_pixelnov19_2.csv\", index_col=0)\n",
    "\n",
    "pixelNov19_1 = pd.read_csv(\"dataset1_pixelnov19_1_new.csv\", index_col=0)\n",
    "pixelNov19_2 = pd.read_csv(\"dataset1_pixelnov19_2_new.csv\", index_col=0)\n",
    "\n",
    "print(pixelNov19_1.shape)\n",
    "print(pixelNov19_2.shape)\n",
    "\n",
    "data19 = pd.concat([pixelNov19_1,pixelNov19_2])\n",
    "\n",
    "print(data19.shape)\n",
    "\n",
    "dataNov19 = data19.groupby(['tweet_text']).apply(lambda x: x.sort_values('user_name')).reset_index(drop=True)\n",
    "\n",
    "print(dataNov19.shape)\n",
    "\n",
    "dataNov19final = dataNov19.drop_duplicates(subset=['tweet_text'], keep='first')\n",
    "\n",
    "print(dataNov19final.shape)"
   ]
  },
  {
   "cell_type": "code",
   "execution_count": 50,
   "metadata": {
    "scrolled": true
   },
   "outputs": [
    {
     "data": {
      "text/html": [
       "<div>\n",
       "<style scoped>\n",
       "    .dataframe tbody tr th:only-of-type {\n",
       "        vertical-align: middle;\n",
       "    }\n",
       "\n",
       "    .dataframe tbody tr th {\n",
       "        vertical-align: top;\n",
       "    }\n",
       "\n",
       "    .dataframe thead th {\n",
       "        text-align: right;\n",
       "    }\n",
       "</style>\n",
       "<table border=\"1\" class=\"dataframe\">\n",
       "  <thead>\n",
       "    <tr style=\"text-align: right;\">\n",
       "      <th></th>\n",
       "      <th>created_at</th>\n",
       "      <th>coordinates</th>\n",
       "      <th>user_location</th>\n",
       "      <th>tweet_text</th>\n",
       "      <th>fav_count</th>\n",
       "      <th>retweet_count</th>\n",
       "      <th>user_id</th>\n",
       "      <th>user_name</th>\n",
       "      <th>user_utc_offset</th>\n",
       "      <th>followers_count</th>\n",
       "      <th>friends_count</th>\n",
       "      <th>Unnamed: 12</th>\n",
       "      <th>Unnamed: 13</th>\n",
       "      <th>Unnamed: 14</th>\n",
       "      <th>Unnamed: 15</th>\n",
       "      <th>Unnamed: 16</th>\n",
       "      <th>Unnamed: 17</th>\n",
       "      <th>Unnamed: 18</th>\n",
       "    </tr>\n",
       "  </thead>\n",
       "  <tbody>\n",
       "    <tr>\n",
       "      <th>0</th>\n",
       "      <td>2018-11-19 05:31:48</td>\n",
       "      <td>NaN</td>\n",
       "      <td>sc</td>\n",
       "      <td>marchieeeeee</td>\n",
       "      <td>RT @Ashril_92: Full Tank Chicken Chop 🤤🤤\\n\\nCh...</td>\n",
       "      <td>0</td>\n",
       "      <td>600</td>\n",
       "      <td>1159748726</td>\n",
       "      <td>nekbat♡</td>\n",
       "      <td>NaN</td>\n",
       "      <td>1238</td>\n",
       "      <td>396</td>\n",
       "      <td>NaN</td>\n",
       "      <td>NaN</td>\n",
       "      <td>NaN</td>\n",
       "      <td>NaN</td>\n",
       "      <td>NaN</td>\n",
       "      <td>NaN</td>\n",
       "    </tr>\n",
       "    <tr>\n",
       "      <th>2</th>\n",
       "      <td>2018-11-18 21:09:41</td>\n",
       "      <td>NaN</td>\n",
       "      <td>parody</td>\n",
       "      <td>not her !</td>\n",
       "      <td>@xersivx PIXEL PUSSY LMFAOOOOOO</td>\n",
       "      <td>0</td>\n",
       "      <td>0</td>\n",
       "      <td>9.82804650373075E+017</td>\n",
       "      <td>muva. 💋</td>\n",
       "      <td>NaN</td>\n",
       "      <td>1869</td>\n",
       "      <td>516</td>\n",
       "      <td>NaN</td>\n",
       "      <td>NaN</td>\n",
       "      <td>NaN</td>\n",
       "      <td>NaN</td>\n",
       "      <td>NaN</td>\n",
       "      <td>NaN</td>\n",
       "    </tr>\n",
       "    <tr>\n",
       "      <th>4</th>\n",
       "      <td>2018-11-18 17:00:06</td>\n",
       "      <td>NaN</td>\n",
       "      <td>Portland, OR</td>\n",
       "      <td>\"Aiming to be more transparent about ad target...</td>\n",
       "      <td>1</td>\n",
       "      <td>1</td>\n",
       "      <td>619411599</td>\n",
       "      <td>Lytics</td>\n",
       "      <td>NaN</td>\n",
       "      <td>1176</td>\n",
       "      <td>719</td>\n",
       "      <td>NaN</td>\n",
       "      <td>NaN</td>\n",
       "      <td>NaN</td>\n",
       "      <td>NaN</td>\n",
       "      <td>NaN</td>\n",
       "      <td>NaN</td>\n",
       "      <td>NaN</td>\n",
       "    </tr>\n",
       "    <tr>\n",
       "      <th>6</th>\n",
       "      <td>2018-11-18 19:09:08</td>\n",
       "      <td>NaN</td>\n",
       "      <td>40.43729000,-3.680233000</td>\n",
       "      <td>\"I agree to receive news, updates, promotions ...</td>\n",
       "      <td>0</td>\n",
       "      <td>0</td>\n",
       "      <td>766929</td>\n",
       "      <td>Miguel Angel Moro</td>\n",
       "      <td>NaN</td>\n",
       "      <td>3225</td>\n",
       "      <td>99</td>\n",
       "      <td>NaN</td>\n",
       "      <td>NaN</td>\n",
       "      <td>NaN</td>\n",
       "      <td>NaN</td>\n",
       "      <td>NaN</td>\n",
       "      <td>NaN</td>\n",
       "      <td>NaN</td>\n",
       "    </tr>\n",
       "    <tr>\n",
       "      <th>8</th>\n",
       "      <td>2018-11-19 02:38:20</td>\n",
       "      <td>NaN</td>\n",
       "      <td>Marylandonia, Yuesei</td>\n",
       "      <td>\"I don't feel like getting out my tablet or sc...</td>\n",
       "      <td>0</td>\n",
       "      <td>0</td>\n",
       "      <td>12449372</td>\n",
       "      <td>A. Lee</td>\n",
       "      <td>NaN</td>\n",
       "      <td>48</td>\n",
       "      <td>151</td>\n",
       "      <td>NaN</td>\n",
       "      <td>NaN</td>\n",
       "      <td>NaN</td>\n",
       "      <td>NaN</td>\n",
       "      <td>NaN</td>\n",
       "      <td>NaN</td>\n",
       "      <td>NaN</td>\n",
       "    </tr>\n",
       "  </tbody>\n",
       "</table>\n",
       "</div>"
      ],
      "text/plain": [
       "            created_at coordinates             user_location  \\\n",
       "0  2018-11-19 05:31:48         NaN                        sc   \n",
       "2  2018-11-18 21:09:41         NaN                   parody    \n",
       "4  2018-11-18 17:00:06         NaN              Portland, OR   \n",
       "6  2018-11-18 19:09:08         NaN  40.43729000,-3.680233000   \n",
       "8  2018-11-19 02:38:20         NaN      Marylandonia, Yuesei   \n",
       "\n",
       "                                          tweet_text  \\\n",
       "0                                       marchieeeeee   \n",
       "2                                         not her !    \n",
       "4  \"Aiming to be more transparent about ad target...   \n",
       "6  \"I agree to receive news, updates, promotions ...   \n",
       "8  \"I don't feel like getting out my tablet or sc...   \n",
       "\n",
       "                                           fav_count retweet_count    user_id  \\\n",
       "0  RT @Ashril_92: Full Tank Chicken Chop 🤤🤤\\n\\nCh...             0        600   \n",
       "2                    @xersivx PIXEL PUSSY LMFAOOOOOO             0          0   \n",
       "4                                                  1             1  619411599   \n",
       "6                                                  0             0     766929   \n",
       "8                                                  0             0   12449372   \n",
       "\n",
       "               user_name user_utc_offset followers_count friends_count  \\\n",
       "0             1159748726         nekbat♡             NaN          1238   \n",
       "2  9.82804650373075E+017         muva. 💋             NaN          1869   \n",
       "4                 Lytics             NaN            1176           719   \n",
       "6      Miguel Angel Moro             NaN            3225            99   \n",
       "8                 A. Lee             NaN              48           151   \n",
       "\n",
       "  Unnamed: 12  Unnamed: 13  Unnamed: 14 Unnamed: 15  Unnamed: 16  Unnamed: 17  \\\n",
       "0         396          NaN          NaN         NaN          NaN          NaN   \n",
       "2         516          NaN          NaN         NaN          NaN          NaN   \n",
       "4         NaN          NaN          NaN         NaN          NaN          NaN   \n",
       "6         NaN          NaN          NaN         NaN          NaN          NaN   \n",
       "8         NaN          NaN          NaN         NaN          NaN          NaN   \n",
       "\n",
       "   Unnamed: 18  \n",
       "0          NaN  \n",
       "2          NaN  \n",
       "4          NaN  \n",
       "6          NaN  \n",
       "8          NaN  "
      ]
     },
     "execution_count": 50,
     "metadata": {},
     "output_type": "execute_result"
    }
   ],
   "source": [
    "dataNov19final.head()"
   ]
  },
  {
   "cell_type": "code",
   "execution_count": 52,
   "metadata": {},
   "outputs": [],
   "source": [
    "dataNov19fin = dataNov19final.drop(columns = [\"Unnamed: 12\", \"Unnamed: 13\", \"Unnamed: 14\", \"Unnamed: 15\", \"Unnamed: 16\", \"Unnamed: 17\", \"Unnamed: 18\" ])"
   ]
  },
  {
   "cell_type": "code",
   "execution_count": 53,
   "metadata": {
    "scrolled": true
   },
   "outputs": [
    {
     "data": {
      "text/html": [
       "<div>\n",
       "<style scoped>\n",
       "    .dataframe tbody tr th:only-of-type {\n",
       "        vertical-align: middle;\n",
       "    }\n",
       "\n",
       "    .dataframe tbody tr th {\n",
       "        vertical-align: top;\n",
       "    }\n",
       "\n",
       "    .dataframe thead th {\n",
       "        text-align: right;\n",
       "    }\n",
       "</style>\n",
       "<table border=\"1\" class=\"dataframe\">\n",
       "  <thead>\n",
       "    <tr style=\"text-align: right;\">\n",
       "      <th></th>\n",
       "      <th>created_at</th>\n",
       "      <th>coordinates</th>\n",
       "      <th>user_location</th>\n",
       "      <th>tweet_text</th>\n",
       "      <th>fav_count</th>\n",
       "      <th>retweet_count</th>\n",
       "      <th>user_id</th>\n",
       "      <th>user_name</th>\n",
       "      <th>user_utc_offset</th>\n",
       "      <th>followers_count</th>\n",
       "      <th>friends_count</th>\n",
       "    </tr>\n",
       "  </thead>\n",
       "  <tbody>\n",
       "    <tr>\n",
       "      <th>0</th>\n",
       "      <td>2018-11-19 05:31:48</td>\n",
       "      <td>NaN</td>\n",
       "      <td>sc</td>\n",
       "      <td>marchieeeeee</td>\n",
       "      <td>RT @Ashril_92: Full Tank Chicken Chop 🤤🤤\\n\\nCh...</td>\n",
       "      <td>0</td>\n",
       "      <td>600</td>\n",
       "      <td>1159748726</td>\n",
       "      <td>nekbat♡</td>\n",
       "      <td>NaN</td>\n",
       "      <td>1238</td>\n",
       "    </tr>\n",
       "    <tr>\n",
       "      <th>2</th>\n",
       "      <td>2018-11-18 21:09:41</td>\n",
       "      <td>NaN</td>\n",
       "      <td>parody</td>\n",
       "      <td>not her !</td>\n",
       "      <td>@xersivx PIXEL PUSSY LMFAOOOOOO</td>\n",
       "      <td>0</td>\n",
       "      <td>0</td>\n",
       "      <td>9.82804650373075E+017</td>\n",
       "      <td>muva. 💋</td>\n",
       "      <td>NaN</td>\n",
       "      <td>1869</td>\n",
       "    </tr>\n",
       "    <tr>\n",
       "      <th>4</th>\n",
       "      <td>2018-11-18 17:00:06</td>\n",
       "      <td>NaN</td>\n",
       "      <td>Portland, OR</td>\n",
       "      <td>\"Aiming to be more transparent about ad target...</td>\n",
       "      <td>1</td>\n",
       "      <td>1</td>\n",
       "      <td>619411599</td>\n",
       "      <td>Lytics</td>\n",
       "      <td>NaN</td>\n",
       "      <td>1176</td>\n",
       "      <td>719</td>\n",
       "    </tr>\n",
       "    <tr>\n",
       "      <th>6</th>\n",
       "      <td>2018-11-18 19:09:08</td>\n",
       "      <td>NaN</td>\n",
       "      <td>40.43729000,-3.680233000</td>\n",
       "      <td>\"I agree to receive news, updates, promotions ...</td>\n",
       "      <td>0</td>\n",
       "      <td>0</td>\n",
       "      <td>766929</td>\n",
       "      <td>Miguel Angel Moro</td>\n",
       "      <td>NaN</td>\n",
       "      <td>3225</td>\n",
       "      <td>99</td>\n",
       "    </tr>\n",
       "    <tr>\n",
       "      <th>8</th>\n",
       "      <td>2018-11-19 02:38:20</td>\n",
       "      <td>NaN</td>\n",
       "      <td>Marylandonia, Yuesei</td>\n",
       "      <td>\"I don't feel like getting out my tablet or sc...</td>\n",
       "      <td>0</td>\n",
       "      <td>0</td>\n",
       "      <td>12449372</td>\n",
       "      <td>A. Lee</td>\n",
       "      <td>NaN</td>\n",
       "      <td>48</td>\n",
       "      <td>151</td>\n",
       "    </tr>\n",
       "  </tbody>\n",
       "</table>\n",
       "</div>"
      ],
      "text/plain": [
       "            created_at coordinates             user_location  \\\n",
       "0  2018-11-19 05:31:48         NaN                        sc   \n",
       "2  2018-11-18 21:09:41         NaN                   parody    \n",
       "4  2018-11-18 17:00:06         NaN              Portland, OR   \n",
       "6  2018-11-18 19:09:08         NaN  40.43729000,-3.680233000   \n",
       "8  2018-11-19 02:38:20         NaN      Marylandonia, Yuesei   \n",
       "\n",
       "                                          tweet_text  \\\n",
       "0                                       marchieeeeee   \n",
       "2                                         not her !    \n",
       "4  \"Aiming to be more transparent about ad target...   \n",
       "6  \"I agree to receive news, updates, promotions ...   \n",
       "8  \"I don't feel like getting out my tablet or sc...   \n",
       "\n",
       "                                           fav_count retweet_count    user_id  \\\n",
       "0  RT @Ashril_92: Full Tank Chicken Chop 🤤🤤\\n\\nCh...             0        600   \n",
       "2                    @xersivx PIXEL PUSSY LMFAOOOOOO             0          0   \n",
       "4                                                  1             1  619411599   \n",
       "6                                                  0             0     766929   \n",
       "8                                                  0             0   12449372   \n",
       "\n",
       "               user_name user_utc_offset followers_count friends_count  \n",
       "0             1159748726         nekbat♡             NaN          1238  \n",
       "2  9.82804650373075E+017         muva. 💋             NaN          1869  \n",
       "4                 Lytics             NaN            1176           719  \n",
       "6      Miguel Angel Moro             NaN            3225            99  \n",
       "8                 A. Lee             NaN              48           151  "
      ]
     },
     "execution_count": 53,
     "metadata": {},
     "output_type": "execute_result"
    }
   ],
   "source": [
    "dataNov19fin.head()"
   ]
  },
  {
   "cell_type": "code",
   "execution_count": 54,
   "metadata": {},
   "outputs": [
    {
     "data": {
      "text/plain": [
       "(4496, 11)"
      ]
     },
     "execution_count": 54,
     "metadata": {},
     "output_type": "execute_result"
    }
   ],
   "source": [
    "dataNov19fin.shape"
   ]
  },
  {
   "cell_type": "code",
   "execution_count": 55,
   "metadata": {},
   "outputs": [],
   "source": [
    "dataNov19fin.to_csv(\"dataNov19final.csv\")"
   ]
  },
  {
   "cell_type": "code",
   "execution_count": 49,
   "metadata": {},
   "outputs": [
    {
     "name": "stdout",
     "output_type": "stream",
     "text": [
      "(10000, 15)\n",
      "(893, 15)\n",
      "(10893, 15)\n",
      "(10893, 15)\n",
      "(6465, 15)\n"
     ]
    }
   ],
   "source": [
    "pixelNov25_1 = pd.read_csv(\"dataset1_pixelxlnov25_1.csv\", index_col=0)\n",
    "pixelNov25_2 = pd.read_csv(\"dataset1_pixel3nov25_2.csv\", index_col=0)\n",
    "\n",
    "print(pixelNov25_1.shape)\n",
    "print(pixelNov25_2.shape)\n",
    "\n",
    "data25 = pd.concat([pixelNov25_1,pixelNov25_2])\n",
    "\n",
    "print(data25.shape)\n",
    "\n",
    "dataNov25 = data25.groupby(['tweet_text']).apply(lambda x: x.sort_values('user_name')).reset_index(drop=True)\n",
    "\n",
    "print(dataNov25.shape)\n",
    "\n",
    "dataNov25final = dataNov25.drop_duplicates(subset=['tweet_text'], keep='first')\n",
    "\n",
    "print(dataNov25final.shape)"
   ]
  },
  {
   "cell_type": "code",
   "execution_count": 57,
   "metadata": {},
   "outputs": [],
   "source": [
    "dataNov25fin = dataNov25final.drop(columns = [\"tid\", \"tid_str\", \"retweeted\", \"favorited\"])"
   ]
  },
  {
   "cell_type": "code",
   "execution_count": 60,
   "metadata": {},
   "outputs": [
    {
     "data": {
      "text/plain": [
       "(6465, 11)"
      ]
     },
     "execution_count": 60,
     "metadata": {},
     "output_type": "execute_result"
    }
   ],
   "source": [
    "dataNov25fin.shape"
   ]
  },
  {
   "cell_type": "code",
   "execution_count": 61,
   "metadata": {},
   "outputs": [],
   "source": [
    "dataNov25fin.to_csv(\"dataNov25final.csv\")"
   ]
  },
  {
   "cell_type": "code",
   "execution_count": 62,
   "metadata": {},
   "outputs": [
    {
     "name": "stdout",
     "output_type": "stream",
     "text": [
      "(29731, 11)\n",
      "(29731, 11)\n",
      "(25826, 11)\n"
     ]
    }
   ],
   "source": [
    "pixelNov13final = pd.read_csv(\"dataNov13final.csv\", index_col=0)\n",
    "pixelNov12n18final = pd.read_csv(\"data12n18final.csv\", index_col=0)\n",
    "dataNov17final = pd.read_csv(\"dataNov17final.csv\", index_col=0)\n",
    "dataNov19final = pd.read_csv(\"dataNov19final.csv\", index_col=0)\n",
    "dataNov25final = pd.read_csv(\"dataNov25final.csv\", index_col=0)\n",
    "\n",
    "datacom = pd.concat([pixelNov13final,pixelNov12n18final, dataNov17final, dataNov19final, dataNov25final])\n",
    "\n",
    "print(datacom.shape)\n",
    "\n",
    "datafin = datacom.groupby(['tweet_text']).apply(lambda x: x.sort_values('user_name')).reset_index(drop=True)\n",
    "\n",
    "print(datafin.shape)\n",
    "\n",
    "datafinal = datafin.drop_duplicates(subset=['tweet_text'], keep='first')\n",
    "\n",
    "print(datafinal.shape)"
   ]
  },
  {
   "cell_type": "code",
   "execution_count": 63,
   "metadata": {},
   "outputs": [],
   "source": [
    "datafinal.to_csv(\"finaldataset.csv\")"
   ]
  },
  {
   "cell_type": "markdown",
   "metadata": {},
   "source": [
    "# Data Preprocessing"
   ]
  },
  {
   "cell_type": "code",
   "execution_count": 65,
   "metadata": {
    "scrolled": true
   },
   "outputs": [
    {
     "name": "stdout",
     "output_type": "stream",
     "text": [
      "['This', 'sentence', 'is', 'a', 'string', ',', 'but', 'after', 'it', \"'s\", 'passed', 'through', 'word_tokenize', ',', 'it', 'becomes', 'a', 'list', 'of', 'words', '.']\n"
     ]
    }
   ],
   "source": [
    "from nltk import word_tokenize\n",
    "\n",
    "print(word_tokenize(\"This sentence is a string, but after it's passed through word_tokenize, it becomes a list of words.\"))"
   ]
  },
  {
   "cell_type": "markdown",
   "metadata": {},
   "source": [
    "# Calculate polarity score"
   ]
  },
  {
   "cell_type": "code",
   "execution_count": 66,
   "metadata": {},
   "outputs": [],
   "source": [
    "from afinn import Afinn"
   ]
  },
  {
   "cell_type": "code",
   "execution_count": 67,
   "metadata": {},
   "outputs": [],
   "source": [
    "afinn = Afinn()"
   ]
  },
  {
   "cell_type": "code",
   "execution_count": 68,
   "metadata": {},
   "outputs": [
    {
     "data": {
      "text/plain": [
       "[0.0, 2.0, 1.0, 1.0, 1.0]"
      ]
     },
     "execution_count": 68,
     "metadata": {},
     "output_type": "execute_result"
    }
   ],
   "source": [
    "pscore = []\n",
    "\n",
    "for text in dataNov25fin['tweet_text']:\n",
    "    pscore.append(afinn.score(text))\n",
    "    \n",
    "pscore[:5]"
   ]
  },
  {
   "cell_type": "code",
   "execution_count": 69,
   "metadata": {},
   "outputs": [
    {
     "data": {
      "text/html": [
       "<div>\n",
       "<style scoped>\n",
       "    .dataframe tbody tr th:only-of-type {\n",
       "        vertical-align: middle;\n",
       "    }\n",
       "\n",
       "    .dataframe tbody tr th {\n",
       "        vertical-align: top;\n",
       "    }\n",
       "\n",
       "    .dataframe thead th {\n",
       "        text-align: right;\n",
       "    }\n",
       "</style>\n",
       "<table border=\"1\" class=\"dataframe\">\n",
       "  <thead>\n",
       "    <tr style=\"text-align: right;\">\n",
       "      <th></th>\n",
       "      <th>created_at</th>\n",
       "      <th>coordinates</th>\n",
       "      <th>user_location</th>\n",
       "      <th>tweet_text</th>\n",
       "      <th>fav_count</th>\n",
       "      <th>retweet_count</th>\n",
       "      <th>user_id</th>\n",
       "      <th>user_name</th>\n",
       "      <th>user_utc_offset</th>\n",
       "      <th>followers_count</th>\n",
       "      <th>friends_count</th>\n",
       "      <th>pscore</th>\n",
       "    </tr>\n",
       "  </thead>\n",
       "  <tbody>\n",
       "    <tr>\n",
       "      <th>0</th>\n",
       "      <td>2018-11-25 16:43:50</td>\n",
       "      <td>NaN</td>\n",
       "      <td>Missouri, USA</td>\n",
       "      <td>\"All the pixel killers must be in church.\" - M...</td>\n",
       "      <td>0</td>\n",
       "      <td>0</td>\n",
       "      <td>1044482040027115520</td>\n",
       "      <td>lisamarie81</td>\n",
       "      <td>NaN</td>\n",
       "      <td>211</td>\n",
       "      <td>392</td>\n",
       "      <td>0.0</td>\n",
       "    </tr>\n",
       "    <tr>\n",
       "      <th>1</th>\n",
       "      <td>2018-11-25 06:42:34</td>\n",
       "      <td>NaN</td>\n",
       "      <td>Lagos, Nigeria</td>\n",
       "      <td>\"Allah has the picture, we've only got a pixel...</td>\n",
       "      <td>0</td>\n",
       "      <td>0</td>\n",
       "      <td>1782823832</td>\n",
       "      <td>Sodrudeen</td>\n",
       "      <td>NaN</td>\n",
       "      <td>37</td>\n",
       "      <td>166</td>\n",
       "      <td>2.0</td>\n",
       "    </tr>\n",
       "    <tr>\n",
       "      <th>2</th>\n",
       "      <td>2018-11-26 00:27:40</td>\n",
       "      <td>NaN</td>\n",
       "      <td>San Francisco/New York</td>\n",
       "      <td>\"Allow me to make that dinner reservation for ...</td>\n",
       "      <td>32</td>\n",
       "      <td>11</td>\n",
       "      <td>1344951</td>\n",
       "      <td>WIRED</td>\n",
       "      <td>NaN</td>\n",
       "      <td>10351712</td>\n",
       "      <td>345</td>\n",
       "      <td>1.0</td>\n",
       "    </tr>\n",
       "    <tr>\n",
       "      <th>3</th>\n",
       "      <td>2018-11-26 00:28:35</td>\n",
       "      <td>NaN</td>\n",
       "      <td>Lyon, France</td>\n",
       "      <td>\"Allow me to make that dinner reservation for ...</td>\n",
       "      <td>0</td>\n",
       "      <td>0</td>\n",
       "      <td>44607361</td>\n",
       "      <td>ben carpano</td>\n",
       "      <td>NaN</td>\n",
       "      <td>1053</td>\n",
       "      <td>701</td>\n",
       "      <td>1.0</td>\n",
       "    </tr>\n",
       "    <tr>\n",
       "      <th>4</th>\n",
       "      <td>2018-11-26 00:29:25</td>\n",
       "      <td>NaN</td>\n",
       "      <td>Geneva</td>\n",
       "      <td>\"Allow me to make that dinner reservation for ...</td>\n",
       "      <td>0</td>\n",
       "      <td>0</td>\n",
       "      <td>88403945</td>\n",
       "      <td>Gabriel Hussy 🔁</td>\n",
       "      <td>NaN</td>\n",
       "      <td>2710</td>\n",
       "      <td>1383</td>\n",
       "      <td>1.0</td>\n",
       "    </tr>\n",
       "  </tbody>\n",
       "</table>\n",
       "</div>"
      ],
      "text/plain": [
       "            created_at coordinates           user_location  \\\n",
       "0  2018-11-25 16:43:50         NaN           Missouri, USA   \n",
       "1  2018-11-25 06:42:34         NaN          Lagos, Nigeria   \n",
       "2  2018-11-26 00:27:40         NaN  San Francisco/New York   \n",
       "3  2018-11-26 00:28:35         NaN            Lyon, France   \n",
       "4  2018-11-26 00:29:25         NaN                  Geneva   \n",
       "\n",
       "                                          tweet_text  fav_count  \\\n",
       "0  \"All the pixel killers must be in church.\" - M...          0   \n",
       "1  \"Allah has the picture, we've only got a pixel...          0   \n",
       "2  \"Allow me to make that dinner reservation for ...         32   \n",
       "3  \"Allow me to make that dinner reservation for ...          0   \n",
       "4  \"Allow me to make that dinner reservation for ...          0   \n",
       "\n",
       "   retweet_count              user_id        user_name  user_utc_offset  \\\n",
       "0              0  1044482040027115520      lisamarie81              NaN   \n",
       "1              0           1782823832        Sodrudeen              NaN   \n",
       "2             11              1344951            WIRED              NaN   \n",
       "3              0             44607361      ben carpano              NaN   \n",
       "4              0             88403945  Gabriel Hussy 🔁              NaN   \n",
       "\n",
       "   followers_count  friends_count  pscore  \n",
       "0              211            392     0.0  \n",
       "1               37            166     2.0  \n",
       "2         10351712            345     1.0  \n",
       "3             1053            701     1.0  \n",
       "4             2710           1383     1.0  "
      ]
     },
     "execution_count": 69,
     "metadata": {},
     "output_type": "execute_result"
    }
   ],
   "source": [
    "dataNov25fin['pscore'] = pscore\n",
    "dataNov25fin.head()"
   ]
  },
  {
   "cell_type": "code",
   "execution_count": 71,
   "metadata": {},
   "outputs": [
    {
     "data": {
      "image/png": "[encoded data removed]",
      "text/plain": [
       "<Figure size 432x288 with 1 Axes>"
      ]
     },
     "metadata": {},
     "output_type": "display_data"
    }
   ],
   "source": [
    "%matplotlib inline\n",
    "import matplotlib.pyplot as plt\n",
    "\n",
    "plt.boxplot([dataNov25fin['pscore']],labels=[\"Pixel\"])\n",
    "plt.show()"
   ]
  },
  {
   "cell_type": "code",
   "execution_count": 73,
   "metadata": {},
   "outputs": [
    {
     "name": "stdout",
     "output_type": "stream",
     "text": [
      "HIGHEST POLARITY\n",
      "--------------------------------------------------\n",
      "('@stephn_r @madebygoogle Good luck. All the loyal Pixel users are out of luck this year. I ordered the 3 &amp; 3XL and l… https://t.co/Sknzrhm9SS', 12.0)\n",
      "**************************************************\n",
      "('I liked a @YouTube video https://t.co/Hiki8K8qOq Greetings: Best Free Horror Game On Steam!? WOW Halloween Series 2018', 12.0)\n",
      "**************************************************\n",
      "('RT @ErikyashaArt: New Pixel Pal get! Super Mario World is a great game and it’s exciting to add some gorgeous Super Nintendo decor to the G…', 12.0)\n",
      "**************************************************\n",
      "('When a clients satisfied. Its a pleasure. See what they say!!!! \\n#Fiverr\\n#awesome\\n#landing pages\\n#amazing\\n#signup… https://t.co/ffcUXtKUCw', 13.0)\n",
      "**************************************************\n",
      "('RT @RedLeafTweets: This game looks so impressive, the pixel art lighting looks stunning. Impressive animation and a fun concept https://t.c…', 14.0)\n",
      "**************************************************\n",
      "--------------------------------------------------\n"
     ]
    }
   ],
   "source": [
    "print(\"HIGHEST POLARITY\")\n",
    "print(\"-\"*50)\n",
    "dataNov25fin = dataNov25fin.sort_values(by='pscore')\n",
    "for index, row in dataNov25fin.tail().iterrows():\n",
    "    print((row['tweet_text'], row['pscore']))\n",
    "    print(\"*\"*50)\n",
    "print(\"-\"*50)"
   ]
  },
  {
   "cell_type": "code",
   "execution_count": 74,
   "metadata": {},
   "outputs": [
    {
     "name": "stdout",
     "output_type": "stream",
     "text": [
      "LOWEST POLARITY\n",
      "--------------------------------------------------\n",
      "('RT @softedhearts: the signs as bitches\\n\\naries: tough bitch\\ntaurus: stupid bitch\\ngemini: resting bitch face bitch\\ncancer: sensitive bitch\\nle…', -33.0)\n",
      "**************************************************\n",
      "('@HQawiyy Nah it’s shit data. I was worried that it would fuck up my pixel data\\n\\nI already have 15,000+ View Content… https://t.co/rzomjFaZ94', -11.0)\n",
      "**************************************************\n",
      "(\"I FUCKING HATE THESE SOUNDS AND THESE PIXEL VOMIT HEADS\\n\\ni didn't kno i was playing a horror game\", -10.0)\n",
      "**************************************************\n",
      "('@kissedbygravity I got an Android too, a Google Pixel XL specifically. I hate iPhones. Both their battery and storage fucking suck.', -10.0)\n",
      "**************************************************\n",
      "('If that stink bug on my window sill isn’t dead he probably high as hell', -9.0)\n",
      "**************************************************\n",
      "--------------------------------------------------\n"
     ]
    }
   ],
   "source": [
    "print(\"LOWEST POLARITY\")\n",
    "print(\"-\"*50)\n",
    "dataNov25fin = dataNov25fin.sort_values(by='pscore')\n",
    "for index, row in dataNov25fin.head().iterrows():\n",
    "    print((row['tweet_text'], row['pscore']))\n",
    "    print(\"*\"*50)\n",
    "print(\"-\"*50)"
   ]
  },
  {
   "cell_type": "markdown",
   "metadata": {},
   "source": [
    "# Supervised learning  - classification using emoticon"
   ]
  },
  {
   "cell_type": "markdown",
   "metadata": {},
   "source": [
    "Tested on small dataset"
   ]
  },
  {
   "cell_type": "code",
   "execution_count": 76,
   "metadata": {},
   "outputs": [],
   "source": [
    "training = pd.read_csv(\"training.1600000.processed.noemoticon.csv\", names=[\"polarity\", \"tid\", \"date\", \"query\", \"user\", \"text\"], encoding=\"latin1\")"
   ]
  },
  {
   "cell_type": "code",
   "execution_count": 77,
   "metadata": {},
   "outputs": [],
   "source": [
    "from sklearn.feature_extraction.text import TfidfVectorizer\n",
    "\n",
    "tv = TfidfVectorizer(min_df=50)\n",
    "X = tv.fit_transform(training['text'])"
   ]
  },
  {
   "cell_type": "code",
   "execution_count": 78,
   "metadata": {},
   "outputs": [
    {
     "data": {
      "text/plain": [
       "(1600000, 13451)"
      ]
     },
     "execution_count": 78,
     "metadata": {},
     "output_type": "execute_result"
    }
   ],
   "source": [
    "X.shape"
   ]
  },
  {
   "cell_type": "code",
   "execution_count": 79,
   "metadata": {},
   "outputs": [],
   "source": [
    "y = training['polarity']\n",
    "\n",
    "from sklearn.utils import shuffle\n",
    "\n",
    "X, y = shuffle(X, y)\n",
    "\n",
    "X, y = X[:50000], y[:50000]"
   ]
  },
  {
   "cell_type": "code",
   "execution_count": 80,
   "metadata": {},
   "outputs": [
    {
     "name": "stdout",
     "output_type": "stream",
     "text": [
      "[LibSVM]"
     ]
    },
    {
     "data": {
      "text/plain": [
       "SVC(C=1.0, cache_size=200, class_weight=None, coef0=0.0,\n",
       "  decision_function_shape='ovr', degree=3, gamma='auto', kernel='linear',\n",
       "  max_iter=-1, probability=False, random_state=None, shrinking=True,\n",
       "  tol=0.001, verbose=3)"
      ]
     },
     "execution_count": 80,
     "metadata": {},
     "output_type": "execute_result"
    }
   ],
   "source": [
    "from sklearn.svm import SVC\n",
    "from sklearn.model_selection import train_test_split\n",
    "X_train, X_test, y_train, y_test = train_test_split(X, y, test_size=0.25, random_state=3057)\n",
    "clf = SVC(kernel=\"linear\", verbose=3)\n",
    "clf.fit(X_train, y_train)"
   ]
  },
  {
   "cell_type": "code",
   "execution_count": 81,
   "metadata": {},
   "outputs": [],
   "source": [
    "tweet_tfidf = tv.transform(dataNov25fin['tweet_text'])"
   ]
  },
  {
   "cell_type": "code",
   "execution_count": 82,
   "metadata": {},
   "outputs": [],
   "source": [
    "tweet_pred = clf.predict(tweet_tfidf)"
   ]
  },
  {
   "cell_type": "code",
   "execution_count": 83,
   "metadata": {},
   "outputs": [],
   "source": [
    "dataNov25fin[\"sent_pred\"] = tweet_pred"
   ]
  },
  {
   "cell_type": "code",
   "execution_count": 84,
   "metadata": {},
   "outputs": [
    {
     "name": "stdout",
     "output_type": "stream",
     "text": [
      "('RT @softedhearts: the signs as bitches\\n\\naries: tough bitch\\ntaurus: stupid bitch\\ngemini: resting bitch face bitch\\ncancer: sensitive bitch\\nle…', 0)\n",
      "**************************************************\n",
      "('@HQawiyy Nah it’s shit data. I was worried that it would fuck up my pixel data\\n\\nI already have 15,000+ View Content… https://t.co/rzomjFaZ94', 4)\n",
      "**************************************************\n",
      "(\"I FUCKING HATE THESE SOUNDS AND THESE PIXEL VOMIT HEADS\\n\\ni didn't kno i was playing a horror game\", 0)\n",
      "**************************************************\n",
      "('@kissedbygravity I got an Android too, a Google Pixel XL specifically. I hate iPhones. Both their battery and storage fucking suck.', 0)\n",
      "**************************************************\n",
      "('If that stink bug on my window sill isn’t dead he probably high as hell', 0)\n",
      "**************************************************\n",
      "(\"@eclecticbrotha Sorry not sorry, I tuned him out.\\nGoogle ain't updated this BS Pixel XL with the latest dumb fuck p… https://t.co/u43zhiIdSO\", 0)\n",
      "**************************************************\n",
      "('2nd day with mai pixel 3XL and im faking sad right nw battery life worst than my 5year old phone.', 0)\n",
      "**************************************************\n",
      "(\"@StevenP72041125 Plus, you forgot to mention how I'm a racist Nazi, who killed Jesus while denouncing my disdain fo… https://t.co/CKOn8r68M5\", 4)\n",
      "**************************************************\n",
      "('RT @_Spilling_Tea: Retweet if you too are not dead, only tired and ugly https://t.co/wlm16VPqjG', 0)\n",
      "**************************************************\n",
      "('RT @moth_sprout: Fuckin pissed https://t.co/wfUybP6eHn', 4)\n",
      "**************************************************\n",
      "('RT @PyjamaOdengie: Yall hold on what tje fuck i was lookong for pixel art of bts that i could recreate in minecraft what the fUCK dID I FIN…', 4)\n",
      "**************************************************\n",
      "(\"RT @fluffysmolcloud: I forgot to mention, but the worst that's come out of the SSBU leaks is just.\\n\\nPeople fucking giving out the ROM to SS…\", 0)\n",
      "**************************************************\n",
      "(\"this #thotaudit shit is fuckin hilarious, biggest war between 4chan and SJWs I've ever seen\", 4)\n",
      "**************************************************\n",
      "(\"The Google pixel 3 is fuckin lit- I'm never switching back to Apple or Samsung fuck all that noise\", 0)\n",
      "**************************************************\n",
      "(\"Holy shit 1 month till Christmas, I'm fucking hyping up rn\", 4)\n",
      "**************************************************\n",
      "('This bitch is dead https://t.co/Wkyjweg7Qd', 0)\n",
      "**************************************************\n",
      "('Yall hold on what tje fuck i was lookong for pixel art of bts that i could recreate in minecraft what the fUCK dID… https://t.co/eddH8oVz36', 4)\n",
      "**************************************************\n",
      "(\"@squibbot wait tHIS IS A BOT OH SHIT\\nI'M DUMB\", 4)\n",
      "**************************************************\n",
      "('RT @MicaBurton: Black Klansman is a hard movie to watch. So fucking hard. But my god does everyone need to watch it. It is sadly so relevan…', 0)\n",
      "**************************************************\n",
      "('RT @realTheePaint: what the fuck else did you think it was moron https://t.co/fVmH7o7Mz0', 4)\n",
      "**************************************************\n",
      "(\"ugh I hate making pixel icons for minecraft, but the mod I'm working on would be pretty boring without textures\", 0)\n",
      "**************************************************\n",
      "(\"RT @selneversleeps: ur fave pokemon's final ugly ass evolution https://t.co/gBCUzqbpLP\", 4)\n",
      "**************************************************\n",
      "(\"Missed tonight's stream? Never fear here is a quick clip of the madness you missed. Thanks @Sakaane \\n\\nhttps://t.co/rKAluZIhu1\", 0)\n",
      "**************************************************\n",
      "('RT @lambcurl: a fiend who steals your friends body and calls you a bitch! (#fma) https://t.co/7UJ6sxXjTa', 4)\n",
      "**************************************************\n",
      "(\"RT @JIR0US: thanksgiving is literally the worst holiday and u can't change my mind\\n\\n-historically shit\\n-u gotta hang out with a bunch of fa…\", 0)\n",
      "**************************************************\n",
      "('Pixel, you drunk fuck.', 4)\n",
      "**************************************************\n",
      "('RT @lilezvert: weeaboos are all fucking methheads i swear https://t.co/4ULSgzl4NU', 4)\n",
      "**************************************************\n",
      "('@Google cut the crap..make #Allo sms capable..get some exclusiveness to your #Pixel line-up. Apple is killing it wi… https://t.co/JdyKarCXxX', 4)\n",
      "**************************************************\n",
      "('@Ieagueofvillain Fuck yes!! I was meaning to watch that but i kinda forgot it exists oops', 0)\n",
      "**************************************************\n",
      "('playing this sick ass pixel game', 0)\n",
      "**************************************************\n",
      "('Worst thing about switching to the pixel has to be the loss of Apple music', 0)\n",
      "**************************************************\n",
      "('twinkle’s levi phase was SO weird she would message me at random ass hours gushing over her pixel boyfriend and his… https://t.co/ivu4sZDo4u', 0)\n",
      "**************************************************\n",
      "('@heymiker @melgotserved I switched from iPhone to Pixel last year, and I hate the Pixel even more than I hate Mike… https://t.co/9QzmKvUz6w', 0)\n",
      "**************************************************\n",
      "('@VerizonSupport my pixel 3 does not turn on wifi calling. And error message says emergency address management app fails. Any suggestions?', 0)\n",
      "**************************************************\n",
      "('Some old as hell pixel mess I did--- idk when the kirby stuff and  Prinny were made, but I did the pokemon X Maple… https://t.co/HprRIYlCTL', 0)\n",
      "**************************************************\n",
      "('RT @Not1FuckisGiven: “On today’s episode of white people aren’t scared of shit but equal rights” https://t.co/WVydqYECrB', 0)\n",
      "**************************************************\n",
      "(\"@StevenP72041125 Damn your are new at this, your piss ant little comments show who's brain is RIDDLED with syphilis… https://t.co/62HnRoHaay\", 4)\n",
      "**************************************************\n",
      "('RT @edgedestroys: \"you can\\'t fire me I quit\" lmao piss yourself for an eternity you rancid sack of shit https://t.co/TtUouzJTvi', 4)\n",
      "**************************************************\n",
      "(\"What sucks about the Pixel phone, there's no way to up the touch sensitivity. I refuse to take off my screen protector. Google, why?\", 0)\n",
      "**************************************************\n",
      "('Alright pixel ads you can stop telling me that my shopping cart misses me FOOL ME 5x - YOU ARE ABUSING POWER', 0)\n",
      "**************************************************\n",
      "('@demonyongs I literally did and you said. I’m bad at real life pool something abt also being bad at pixel pool', 0)\n",
      "**************************************************\n",
      "('theres a singular fucking purple pixel i missed in the original here its fixed get your coochie cronus https://t.co/tntsZ9ZGyt', 4)\n",
      "**************************************************\n",
      "('RT @suffera6le: theres a singular fucking purple pixel i missed in the original here its fixed get your coochie cronus https://t.co/tntsZ9Z…', 4)\n",
      "**************************************************\n",
      "('@Steve6620 @AndroidAuth @DGiTDaily damnit thunder... when you gunna realize that you aint gettin no god damn google pixel?', 0)\n",
      "**************************************************\n",
      "('@LapizTheRelic nows not the time for hentai when i could be making celeste pixel art\\n*fucking cries*', 0)\n",
      "**************************************************\n",
      "('RT @EG_Fade: Some old as hell pixel mess I did--- idk when the kirby stuff and  Prinny were made, but I did the pokemon X Maple this year..…', 0)\n",
      "**************************************************\n",
      "('@catchdhanish @Google Google is awful on that end. Even the after sales service is such a drag ._. buying the pixel phone = much regret.', 0)\n",
      "**************************************************\n",
      "('Notice any difference?  I used a binary marker^^ and oh my god its a pain in the ass man to use! Total props and re… https://t.co/pmIPSe5GhQ', 0)\n",
      "**************************************************\n",
      "('@darren_cullen Ike is also hates extraterrestrials and a complete fascist, and his reptillian agenda is complete BS… https://t.co/wiwDhbzO69', 4)\n",
      "**************************************************\n",
      "('RT @niathejawn: Soon as a bitch call me ugly in a argument I automatically know I’ve won. Couldn’t think of nothing else so you started lyi…', 0)\n",
      "**************************************************\n"
     ]
    }
   ],
   "source": [
    "for index, row in dataNov25fin.head(50).iterrows():\n",
    "    print((row['tweet_text'], row['sent_pred']))\n",
    "    print(\"*\"*50)"
   ]
  },
  {
   "cell_type": "code",
   "execution_count": null,
   "metadata": {},
   "outputs": [],
   "source": []
  }
 ],
 "metadata": {
  "anaconda-cloud": {},
  "kernelspec": {
   "display_name": "Python 3",
   "language": "python",
   "name": "python3"
  },
  "language_info": {
   "codemirror_mode": {
    "name": "ipython",
    "version": 3
   },
   "file_extension": ".py",
   "mimetype": "text/x-python",
   "name": "python",
   "nbconvert_exporter": "python",
   "pygments_lexer": "ipython3",
   "version": "3.5.5"
  },
  "toc": {
   "base_numbering": 1,
   "nav_menu": {},
   "number_sections": true,
   "sideBar": true,
   "skip_h1_title": false,
   "title_cell": "Table of Contents",
   "title_sidebar": "Contents",
   "toc_cell": false,
   "toc_position": {},
   "toc_section_display": true,
   "toc_window_display": true
  }
 },
 "nbformat": 4,
 "nbformat_minor": 1
}
