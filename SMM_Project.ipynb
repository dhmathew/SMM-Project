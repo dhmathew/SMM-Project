{
 "cells": [
  {
   "cell_type": "markdown",
   "metadata": {},
   "source": [
    "# Project"
   ]
  },
  {
   "cell_type": "markdown",
   "metadata": {},
   "source": [
    "# Setup"
   ]
  },
  {
   "cell_type": "code",
   "execution_count": 1,
   "metadata": {},
   "outputs": [],
   "source": [
    "API_KEY = \"QBFFL4qysNCwIZFXQgOITE7hf\"\n",
    "API_SECRET = \"a9e0yoi1tNCYDF5y4d8tfMORsUCpkRVIafm3uus59E4AlNHoGc\""
   ]
  },
  {
   "cell_type": "code",
   "execution_count": 187,
   "metadata": {},
   "outputs": [],
   "source": [
    "import tweepy\n",
    "import pandas as pd\n",
    "import matplotlib\n",
    "import matplotlib.pyplot as plt\n",
    "import numpy as np\n",
    "from bs4 import BeautifulSoup\n",
    "from sklearn.svm import SVC\n",
    "from sklearn.model_selection import train_test_split\n",
    "from sklearn.utils import shuffle\n",
    "\n",
    "auth = tweepy.AppAuthHandler(API_KEY, API_SECRET)\n",
    "api = tweepy.API(auth, wait_on_rate_limit=True, wait_on_rate_limit_notify=True)"
   ]
  },
  {
   "cell_type": "code",
   "execution_count": 4,
   "metadata": {},
   "outputs": [
    {
     "data": {
      "text/plain": [
       "'\"All the pixel killers must be in church.\" - My husband as he\\'s waiting for a que in blackops 4'"
      ]
     },
     "execution_count": 4,
     "metadata": {},
     "output_type": "execute_result"
    }
   ],
   "source": [
    "trial = pd.read_csv(\"dataNov25final.csv\", index_col=0)\n",
    "trialtweet = trial\n",
    "\n",
    "trialtweet = trial['tweet_text'].values\n",
    "\n",
    "trialtweet[0]"
   ]
  },
  {
   "cell_type": "markdown",
   "metadata": {},
   "source": [
    "# Getting data from Twitter"
   ]
  },
  {
   "cell_type": "code",
   "execution_count": 14,
   "metadata": {
    "scrolled": true
   },
   "outputs": [
    {
     "name": "stdout",
     "output_type": "stream",
     "text": [
      "893\n"
     ]
    }
   ],
   "source": [
    "c = tweepy.Cursor(api.search, q=\"pixel 3\", lang=\"en\")\n",
    "status_store=[]\n",
    "\n",
    "for status in c.items(10000):\n",
    "    tid = status.id\n",
    "    tid_str = status.id_str\n",
    "    retweeted = status.retweeted\n",
    "    favorited = status.favorited\n",
    "    #reply_count = status.reply_count\n",
    "    #quote_count = status.quote_count\n",
    "    created_at = status.created_at\n",
    "    coordinates = status.coordinates\n",
    "    user_location = status.user.location\n",
    "    tweet_text = status.text\n",
    "    fav_count = status.favorite_count\n",
    "    retweet_count = status.retweet_count\n",
    "    user_id = status.user.id\n",
    "    user_name = status.user.name\n",
    "    user_utc_offset = status.user.utc_offset\n",
    "    followers_count = status.user.followers_count\n",
    "    friends_count = status.user.friends_count\n",
    "    this_tweet = [tid, tid_str, retweeted, favorited, created_at, coordinates, user_location, tweet_text, fav_count, \n",
    "                  retweet_count, user_id, user_name, user_utc_offset, followers_count,\n",
    "                  friends_count]\n",
    "    status_store.append(this_tweet)\n",
    "print(len(status_store))\n",
    "#print(status_store)"
   ]
  },
  {
   "cell_type": "code",
   "execution_count": 15,
   "metadata": {},
   "outputs": [
    {
     "data": {
      "text/plain": [
       "[[1067084600982339584,\n",
       "  '1067084600982339584',\n",
       "  False,\n",
       "  False,\n",
       "  datetime.datetime(2018, 11, 26, 15, 56, 9),\n",
       "  None,\n",
       "  'Pune, India',\n",
       "  'Inside Google Marketing: Jabari Hearn explains how the ability to dream — not just data — played a part in launchin… https://t.co/qsn0XPXTCQ',\n",
       "  0,\n",
       "  0,\n",
       "  1018730750261121024,\n",
       "  'Naitik Mandot',\n",
       "  None,\n",
       "  32,\n",
       "  23],\n",
       " [1067084340457365504,\n",
       "  '1067084340457365504',\n",
       "  False,\n",
       "  False,\n",
       "  datetime.datetime(2018, 11, 26, 15, 55, 6),\n",
       "  None,\n",
       "  '',\n",
       "  'Night Sight Review: Pixel 3 Lite + The Ultimate Night Mode Upgrade! Webcast https://t.co/OHj7rYoOWC',\n",
       "  0,\n",
       "  0,\n",
       "  1045912528771997696,\n",
       "  'jiensmicjeak',\n",
       "  None,\n",
       "  119,\n",
       "  692],\n",
       " [1067084266654367744,\n",
       "  '1067084266654367744',\n",
       "  False,\n",
       "  False,\n",
       "  datetime.datetime(2018, 11, 26, 15, 54, 49),\n",
       "  None,\n",
       "  'Mountain View, California',\n",
       "  'RT @9to5toys: Google’s new Pixel Stand charges your Pixel 3 in style at $40 shipped (50% off) https://t.co/ML1KI1HEIr https://t.co/PPbJp0pX…',\n",
       "  0,\n",
       "  1,\n",
       "  177087369,\n",
       "  '9to5Google',\n",
       "  None,\n",
       "  49717,\n",
       "  84],\n",
       " [1067084234492428290,\n",
       "  '1067084234492428290',\n",
       "  False,\n",
       "  False,\n",
       "  datetime.datetime(2018, 11, 26, 15, 54, 41),\n",
       "  None,\n",
       "  'Surrey, British Columbia',\n",
       "  'More Google Pixel 3 Lite photos leaked https://t.co/jOP0kMGH3l',\n",
       "  0,\n",
       "  0,\n",
       "  363394822,\n",
       "  'Joe de la Cruz',\n",
       "  None,\n",
       "  10803,\n",
       "  189]]"
      ]
     },
     "execution_count": 15,
     "metadata": {},
     "output_type": "execute_result"
    }
   ],
   "source": [
    "status_store[:4]"
   ]
  },
  {
   "cell_type": "code",
   "execution_count": 16,
   "metadata": {},
   "outputs": [],
   "source": [
    "import pandas as pd\n",
    "df = pd.DataFrame(status_store)\n",
    "df.columns = [\"tid\", \"tid_str\", \"retweeted\", \"favorited\",\"created_at\", \"coordinates\", \"user_location\", \"tweet_text\", \"fav_count\", \n",
    "                  \"retweet_count\", \"user_id\", \"user_name\", \"user_utc_offset\", \"followers_count\",\n",
    "                  \"friends_count\"]"
   ]
  },
  {
   "cell_type": "code",
   "execution_count": 17,
   "metadata": {},
   "outputs": [
    {
     "data": {
      "text/plain": [
       "(893, 15)"
      ]
     },
     "execution_count": 17,
     "metadata": {},
     "output_type": "execute_result"
    }
   ],
   "source": [
    "df.shape"
   ]
  },
  {
   "cell_type": "code",
   "execution_count": 18,
   "metadata": {
    "scrolled": true
   },
   "outputs": [
    {
     "data": {
      "text/html": [
       "<div>\n",
       "<style scoped>\n",
       "    .dataframe tbody tr th:only-of-type {\n",
       "        vertical-align: middle;\n",
       "    }\n",
       "\n",
       "    .dataframe tbody tr th {\n",
       "        vertical-align: top;\n",
       "    }\n",
       "\n",
       "    .dataframe thead th {\n",
       "        text-align: right;\n",
       "    }\n",
       "</style>\n",
       "<table border=\"1\" class=\"dataframe\">\n",
       "  <thead>\n",
       "    <tr style=\"text-align: right;\">\n",
       "      <th></th>\n",
       "      <th>tid</th>\n",
       "      <th>tid_str</th>\n",
       "      <th>retweeted</th>\n",
       "      <th>favorited</th>\n",
       "      <th>created_at</th>\n",
       "      <th>coordinates</th>\n",
       "      <th>user_location</th>\n",
       "      <th>tweet_text</th>\n",
       "      <th>fav_count</th>\n",
       "      <th>retweet_count</th>\n",
       "      <th>user_id</th>\n",
       "      <th>user_name</th>\n",
       "      <th>user_utc_offset</th>\n",
       "      <th>followers_count</th>\n",
       "      <th>friends_count</th>\n",
       "    </tr>\n",
       "  </thead>\n",
       "  <tbody>\n",
       "    <tr>\n",
       "      <th>888</th>\n",
       "      <td>1066991989919428608</td>\n",
       "      <td>1066991989919428608</td>\n",
       "      <td>False</td>\n",
       "      <td>False</td>\n",
       "      <td>2018-11-26 09:48:08</td>\n",
       "      <td>None</td>\n",
       "      <td>Hyderabad</td>\n",
       "      <td>RT @VenyaGeskin1: Google Pixel 3 Lite is a sim...</td>\n",
       "      <td>0</td>\n",
       "      <td>21</td>\n",
       "      <td>94896121</td>\n",
       "      <td>gokul bhargav.</td>\n",
       "      <td>None</td>\n",
       "      <td>178</td>\n",
       "      <td>196</td>\n",
       "    </tr>\n",
       "    <tr>\n",
       "      <th>889</th>\n",
       "      <td>1066991755025936384</td>\n",
       "      <td>1066991755025936384</td>\n",
       "      <td>False</td>\n",
       "      <td>False</td>\n",
       "      <td>2018-11-26 09:47:12</td>\n",
       "      <td>None</td>\n",
       "      <td>Timbó/SC</td>\n",
       "      <td>Google Pixel 3 XL international giveaway! http...</td>\n",
       "      <td>0</td>\n",
       "      <td>0</td>\n",
       "      <td>361813637</td>\n",
       "      <td>Ivan Petermann</td>\n",
       "      <td>None</td>\n",
       "      <td>21</td>\n",
       "      <td>19</td>\n",
       "    </tr>\n",
       "    <tr>\n",
       "      <th>890</th>\n",
       "      <td>1066991737938145280</td>\n",
       "      <td>1066991737938145280</td>\n",
       "      <td>False</td>\n",
       "      <td>False</td>\n",
       "      <td>2018-11-26 09:47:08</td>\n",
       "      <td>None</td>\n",
       "      <td></td>\n",
       "      <td>Will #GetOutoftheRed include the pixel 3 @TMob...</td>\n",
       "      <td>0</td>\n",
       "      <td>0</td>\n",
       "      <td>14925066</td>\n",
       "      <td>Gabe Jesus</td>\n",
       "      <td>None</td>\n",
       "      <td>256</td>\n",
       "      <td>598</td>\n",
       "    </tr>\n",
       "    <tr>\n",
       "      <th>891</th>\n",
       "      <td>1066991662621048832</td>\n",
       "      <td>1066991662621048832</td>\n",
       "      <td>False</td>\n",
       "      <td>False</td>\n",
       "      <td>2018-11-26 09:46:50</td>\n",
       "      <td>None</td>\n",
       "      <td></td>\n",
       "      <td>Google Pixel 3 XL international giveaway! http...</td>\n",
       "      <td>0</td>\n",
       "      <td>0</td>\n",
       "      <td>55408556</td>\n",
       "      <td>Shilton Jonatan</td>\n",
       "      <td>None</td>\n",
       "      <td>254</td>\n",
       "      <td>383</td>\n",
       "    </tr>\n",
       "    <tr>\n",
       "      <th>892</th>\n",
       "      <td>1066991623442259969</td>\n",
       "      <td>1066991623442259969</td>\n",
       "      <td>False</td>\n",
       "      <td>False</td>\n",
       "      <td>2018-11-26 09:46:41</td>\n",
       "      <td>None</td>\n",
       "      <td>Rio de Janeiro, Brazil</td>\n",
       "      <td>Google Pixel 3 XL international giveaway! http...</td>\n",
       "      <td>0</td>\n",
       "      <td>0</td>\n",
       "      <td>104962164</td>\n",
       "      <td>Marcorélio Soares</td>\n",
       "      <td>None</td>\n",
       "      <td>34</td>\n",
       "      <td>477</td>\n",
       "    </tr>\n",
       "  </tbody>\n",
       "</table>\n",
       "</div>"
      ],
      "text/plain": [
       "                     tid              tid_str  retweeted  favorited  \\\n",
       "888  1066991989919428608  1066991989919428608      False      False   \n",
       "889  1066991755025936384  1066991755025936384      False      False   \n",
       "890  1066991737938145280  1066991737938145280      False      False   \n",
       "891  1066991662621048832  1066991662621048832      False      False   \n",
       "892  1066991623442259969  1066991623442259969      False      False   \n",
       "\n",
       "             created_at coordinates           user_location  \\\n",
       "888 2018-11-26 09:48:08        None               Hyderabad   \n",
       "889 2018-11-26 09:47:12        None                Timbó/SC   \n",
       "890 2018-11-26 09:47:08        None                           \n",
       "891 2018-11-26 09:46:50        None                           \n",
       "892 2018-11-26 09:46:41        None  Rio de Janeiro, Brazil   \n",
       "\n",
       "                                            tweet_text  fav_count  \\\n",
       "888  RT @VenyaGeskin1: Google Pixel 3 Lite is a sim...          0   \n",
       "889  Google Pixel 3 XL international giveaway! http...          0   \n",
       "890  Will #GetOutoftheRed include the pixel 3 @TMob...          0   \n",
       "891  Google Pixel 3 XL international giveaway! http...          0   \n",
       "892  Google Pixel 3 XL international giveaway! http...          0   \n",
       "\n",
       "     retweet_count    user_id          user_name user_utc_offset  \\\n",
       "888             21   94896121     gokul bhargav.            None   \n",
       "889              0  361813637     Ivan Petermann            None   \n",
       "890              0   14925066         Gabe Jesus            None   \n",
       "891              0   55408556    Shilton Jonatan            None   \n",
       "892              0  104962164  Marcorélio Soares            None   \n",
       "\n",
       "     followers_count  friends_count  \n",
       "888              178            196  \n",
       "889               21             19  \n",
       "890              256            598  \n",
       "891              254            383  \n",
       "892               34            477  "
      ]
     },
     "execution_count": 18,
     "metadata": {},
     "output_type": "execute_result"
    }
   ],
   "source": [
    "df.tail()"
   ]
  },
  {
   "cell_type": "code",
   "execution_count": 19,
   "metadata": {},
   "outputs": [],
   "source": [
    "df.to_csv(\"dataset1_pixel3nov25_2.csv\")"
   ]
  },
  {
   "cell_type": "code",
   "execution_count": 18,
   "metadata": {},
   "outputs": [
    {
     "name": "stderr",
     "output_type": "stream",
     "text": [
      "Rate limit reached. Sleeping for: 835\n"
     ]
    },
    {
     "name": "stdout",
     "output_type": "stream",
     "text": [
      "6478\n"
     ]
    }
   ],
   "source": [
    "c = tweepy.Cursor(api.search, q=\"pixel\", lang=\"en\")\n",
    "status_store1=[]\n",
    "\n",
    "for status in c.items(10000):\n",
    "    created_at = status.created_at\n",
    "    coordinates = status.coordinates\n",
    "    user_location = status.user.location\n",
    "    tweet_text = status.text\n",
    "    fav_count = status.favorite_count\n",
    "    retweet_count = status.retweet_count\n",
    "    user_id = status.user.id\n",
    "    user_name = status.user.name\n",
    "    user_utc_offset = status.user.utc_offset\n",
    "    followers_count = status.user.followers_count\n",
    "    friends_count = status.user.friends_count\n",
    "    this_tweet = [created_at, coordinates, user_location, tweet_text, fav_count, \n",
    "                  retweet_count, user_id, user_name, user_utc_offset, followers_count,\n",
    "                  friends_count]\n",
    "    status_store1.append(this_tweet)\n",
    "print(len(status_store1))\n",
    "#print(status_store)"
   ]
  },
  {
   "cell_type": "code",
   "execution_count": 22,
   "metadata": {},
   "outputs": [],
   "source": [
    "df1 = pd.DataFrame(status_store1)\n",
    "df1.columns = [\"created_at\", \"coordinates\", \"user_location\", \"tweet_text\", \"fav_count\", \n",
    "                  \"retweet_count\", \"user_id\", \"user_name\", \"user_utc_offset\", \"followers_count\",\n",
    "                  \"friends_count\"]"
   ]
  },
  {
   "cell_type": "code",
   "execution_count": 25,
   "metadata": {},
   "outputs": [
    {
     "data": {
      "text/html": [
       "<div>\n",
       "<style scoped>\n",
       "    .dataframe tbody tr th:only-of-type {\n",
       "        vertical-align: middle;\n",
       "    }\n",
       "\n",
       "    .dataframe tbody tr th {\n",
       "        vertical-align: top;\n",
       "    }\n",
       "\n",
       "    .dataframe thead th {\n",
       "        text-align: right;\n",
       "    }\n",
       "</style>\n",
       "<table border=\"1\" class=\"dataframe\">\n",
       "  <thead>\n",
       "    <tr style=\"text-align: right;\">\n",
       "      <th></th>\n",
       "      <th>created_at</th>\n",
       "      <th>coordinates</th>\n",
       "      <th>user_location</th>\n",
       "      <th>tweet_text</th>\n",
       "      <th>fav_count</th>\n",
       "      <th>retweet_count</th>\n",
       "      <th>user_id</th>\n",
       "      <th>user_name</th>\n",
       "      <th>user_utc_offset</th>\n",
       "      <th>followers_count</th>\n",
       "      <th>friends_count</th>\n",
       "    </tr>\n",
       "  </thead>\n",
       "  <tbody>\n",
       "    <tr>\n",
       "      <th>6473</th>\n",
       "      <td>2018-11-18 11:11:49</td>\n",
       "      <td>None</td>\n",
       "      <td>Hope, Indiana</td>\n",
       "      <td>Coloring by numbers is fun with Pixel Art! htt...</td>\n",
       "      <td>0</td>\n",
       "      <td>0</td>\n",
       "      <td>53339713</td>\n",
       "      <td>SherylMcQueenFreeman</td>\n",
       "      <td>None</td>\n",
       "      <td>296</td>\n",
       "      <td>2788</td>\n",
       "    </tr>\n",
       "    <tr>\n",
       "      <th>6474</th>\n",
       "      <td>2018-11-18 11:11:40</td>\n",
       "      <td>None</td>\n",
       "      <td></td>\n",
       "      <td>RT @vivo_malaysia: With V11's Dual Pixel Senso...</td>\n",
       "      <td>0</td>\n",
       "      <td>532</td>\n",
       "      <td>1063878016076472321</td>\n",
       "      <td>ذهني</td>\n",
       "      <td>None</td>\n",
       "      <td>4</td>\n",
       "      <td>0</td>\n",
       "    </tr>\n",
       "    <tr>\n",
       "      <th>6475</th>\n",
       "      <td>2018-11-18 11:11:36</td>\n",
       "      <td>None</td>\n",
       "      <td>Chicago, IL</td>\n",
       "      <td>RT @ohnePixel: 🥳GIVEAWAY TIME🥳\\n\\nTo win this ...</td>\n",
       "      <td>0</td>\n",
       "      <td>281</td>\n",
       "      <td>103150623</td>\n",
       "      <td>rone</td>\n",
       "      <td>None</td>\n",
       "      <td>654</td>\n",
       "      <td>256</td>\n",
       "    </tr>\n",
       "    <tr>\n",
       "      <th>6476</th>\n",
       "      <td>2018-11-18 11:11:31</td>\n",
       "      <td>None</td>\n",
       "      <td>Vancouver, British Columbia</td>\n",
       "      <td>RT @FieryFN: Naruto Headband Pixel Art\\nthis t...</td>\n",
       "      <td>0</td>\n",
       "      <td>5</td>\n",
       "      <td>3265347685</td>\n",
       "      <td>Rehman mann</td>\n",
       "      <td>None</td>\n",
       "      <td>20</td>\n",
       "      <td>118</td>\n",
       "    </tr>\n",
       "    <tr>\n",
       "      <th>6477</th>\n",
       "      <td>2018-11-18 11:11:18</td>\n",
       "      <td>None</td>\n",
       "      <td>Salem</td>\n",
       "      <td>@IndiaPOCO 1.Snapdragon 845 Processor 🔥🔥🔥\\n\\n2...</td>\n",
       "      <td>0</td>\n",
       "      <td>0</td>\n",
       "      <td>732090558106079237</td>\n",
       "      <td>Mersal mohan</td>\n",
       "      <td>None</td>\n",
       "      <td>213</td>\n",
       "      <td>504</td>\n",
       "    </tr>\n",
       "  </tbody>\n",
       "</table>\n",
       "</div>"
      ],
      "text/plain": [
       "              created_at coordinates                user_location  \\\n",
       "6473 2018-11-18 11:11:49        None               Hope, Indiana    \n",
       "6474 2018-11-18 11:11:40        None                                \n",
       "6475 2018-11-18 11:11:36        None                  Chicago, IL   \n",
       "6476 2018-11-18 11:11:31        None  Vancouver, British Columbia   \n",
       "6477 2018-11-18 11:11:18        None                        Salem   \n",
       "\n",
       "                                             tweet_text  fav_count  \\\n",
       "6473  Coloring by numbers is fun with Pixel Art! htt...          0   \n",
       "6474  RT @vivo_malaysia: With V11's Dual Pixel Senso...          0   \n",
       "6475  RT @ohnePixel: 🥳GIVEAWAY TIME🥳\\n\\nTo win this ...          0   \n",
       "6476  RT @FieryFN: Naruto Headband Pixel Art\\nthis t...          0   \n",
       "6477  @IndiaPOCO 1.Snapdragon 845 Processor 🔥🔥🔥\\n\\n2...          0   \n",
       "\n",
       "      retweet_count              user_id             user_name  \\\n",
       "6473              0             53339713  SherylMcQueenFreeman   \n",
       "6474            532  1063878016076472321                  ذهني   \n",
       "6475            281            103150623                  rone   \n",
       "6476              5           3265347685           Rehman mann   \n",
       "6477              0   732090558106079237          Mersal mohan   \n",
       "\n",
       "     user_utc_offset  followers_count  friends_count  \n",
       "6473            None              296           2788  \n",
       "6474            None                4              0  \n",
       "6475            None              654            256  \n",
       "6476            None               20            118  \n",
       "6477            None              213            504  "
      ]
     },
     "execution_count": 25,
     "metadata": {},
     "output_type": "execute_result"
    }
   ],
   "source": [
    "df1.tail()"
   ]
  },
  {
   "cell_type": "code",
   "execution_count": 24,
   "metadata": {},
   "outputs": [],
   "source": [
    "df1.to_csv(\"dataset1_pixelnov19_2.csv\")"
   ]
  },
  {
   "cell_type": "markdown",
   "metadata": {},
   "source": [
    "# Dataset preparation"
   ]
  },
  {
   "cell_type": "markdown",
   "metadata": {},
   "source": [
    "## Combine data pulled at different time frame"
   ]
  },
  {
   "cell_type": "code",
   "execution_count": 25,
   "metadata": {},
   "outputs": [],
   "source": [
    "pixel12 = pd.read_csv(\"dataset1_pixel3nov12.csv\", index_col=0)\n",
    "pixel18 = pd.read_csv(\"dataset1_pixelnov18_1.csv\", index_col=0)"
   ]
  },
  {
   "cell_type": "code",
   "execution_count": 26,
   "metadata": {},
   "outputs": [
    {
     "data": {
      "text/html": [
       "<div>\n",
       "<style scoped>\n",
       "    .dataframe tbody tr th:only-of-type {\n",
       "        vertical-align: middle;\n",
       "    }\n",
       "\n",
       "    .dataframe tbody tr th {\n",
       "        vertical-align: top;\n",
       "    }\n",
       "\n",
       "    .dataframe thead th {\n",
       "        text-align: right;\n",
       "    }\n",
       "</style>\n",
       "<table border=\"1\" class=\"dataframe\">\n",
       "  <thead>\n",
       "    <tr style=\"text-align: right;\">\n",
       "      <th></th>\n",
       "      <th>created_at</th>\n",
       "      <th>coordinates</th>\n",
       "      <th>user_location</th>\n",
       "      <th>tweet_text</th>\n",
       "      <th>fav_count</th>\n",
       "      <th>retweet_count</th>\n",
       "      <th>user_id</th>\n",
       "      <th>user_name</th>\n",
       "      <th>user_utc_offset</th>\n",
       "      <th>followers_count</th>\n",
       "      <th>friends_count</th>\n",
       "    </tr>\n",
       "  </thead>\n",
       "  <tbody>\n",
       "    <tr>\n",
       "      <th>0</th>\n",
       "      <td>2018-11-13 07:03:57</td>\n",
       "      <td>NaN</td>\n",
       "      <td>New Delhi, India</td>\n",
       "      <td>RT @TechnicalGuruji: Good Morning 🙂...Night Si...</td>\n",
       "      <td>0</td>\n",
       "      <td>127</td>\n",
       "      <td>792702964959813632</td>\n",
       "      <td>💝Chandramani 💝Kumar 💞</td>\n",
       "      <td>NaN</td>\n",
       "      <td>7640</td>\n",
       "      <td>5488</td>\n",
       "    </tr>\n",
       "    <tr>\n",
       "      <th>1</th>\n",
       "      <td>2018-11-13 07:03:23</td>\n",
       "      <td>NaN</td>\n",
       "      <td>Nigeria/Ghana</td>\n",
       "      <td>RT @mohinii_u: Yesterday, I dropped by #GTBank...</td>\n",
       "      <td>0</td>\n",
       "      <td>32</td>\n",
       "      <td>851350928</td>\n",
       "      <td>O</td>\n",
       "      <td>NaN</td>\n",
       "      <td>676</td>\n",
       "      <td>264</td>\n",
       "    </tr>\n",
       "    <tr>\n",
       "      <th>2</th>\n",
       "      <td>2018-11-13 07:02:42</td>\n",
       "      <td>NaN</td>\n",
       "      <td>Malaysia</td>\n",
       "      <td>RT @Ashril_92: Damn Pixel 3 😩😭❤️ https://t.co/...</td>\n",
       "      <td>0</td>\n",
       "      <td>9270</td>\n",
       "      <td>1124217710</td>\n",
       "      <td>Farah☁️</td>\n",
       "      <td>NaN</td>\n",
       "      <td>471</td>\n",
       "      <td>287</td>\n",
       "    </tr>\n",
       "    <tr>\n",
       "      <th>3</th>\n",
       "      <td>2018-11-13 07:01:36</td>\n",
       "      <td>NaN</td>\n",
       "      <td>Kurla East, Mumbai</td>\n",
       "      <td>RT @androidcentral: The Google Pixel 3 XL is o...</td>\n",
       "      <td>0</td>\n",
       "      <td>6</td>\n",
       "      <td>4631963172</td>\n",
       "      <td>JAVED SHAIKH(JAFF_!)</td>\n",
       "      <td>NaN</td>\n",
       "      <td>96</td>\n",
       "      <td>108</td>\n",
       "    </tr>\n",
       "    <tr>\n",
       "      <th>4</th>\n",
       "      <td>2018-11-13 07:00:07</td>\n",
       "      <td>NaN</td>\n",
       "      <td>Kurla East, Mumbai</td>\n",
       "      <td>RT @androidcentral: No one wants to hide their...</td>\n",
       "      <td>0</td>\n",
       "      <td>3</td>\n",
       "      <td>4631963172</td>\n",
       "      <td>JAVED SHAIKH(JAFF_!)</td>\n",
       "      <td>NaN</td>\n",
       "      <td>96</td>\n",
       "      <td>108</td>\n",
       "    </tr>\n",
       "  </tbody>\n",
       "</table>\n",
       "</div>"
      ],
      "text/plain": [
       "            created_at  coordinates       user_location  \\\n",
       "0  2018-11-13 07:03:57          NaN   New Delhi, India    \n",
       "1  2018-11-13 07:03:23          NaN      Nigeria/Ghana    \n",
       "2  2018-11-13 07:02:42          NaN            Malaysia   \n",
       "3  2018-11-13 07:01:36          NaN  Kurla East, Mumbai   \n",
       "4  2018-11-13 07:00:07          NaN  Kurla East, Mumbai   \n",
       "\n",
       "                                          tweet_text  fav_count  \\\n",
       "0  RT @TechnicalGuruji: Good Morning 🙂...Night Si...          0   \n",
       "1  RT @mohinii_u: Yesterday, I dropped by #GTBank...          0   \n",
       "2  RT @Ashril_92: Damn Pixel 3 😩😭❤️ https://t.co/...          0   \n",
       "3  RT @androidcentral: The Google Pixel 3 XL is o...          0   \n",
       "4  RT @androidcentral: No one wants to hide their...          0   \n",
       "\n",
       "   retweet_count             user_id              user_name  user_utc_offset  \\\n",
       "0            127  792702964959813632  💝Chandramani 💝Kumar 💞              NaN   \n",
       "1             32           851350928                      O              NaN   \n",
       "2           9270          1124217710                Farah☁️              NaN   \n",
       "3              6          4631963172   JAVED SHAIKH(JAFF_!)              NaN   \n",
       "4              3          4631963172   JAVED SHAIKH(JAFF_!)              NaN   \n",
       "\n",
       "   followers_count  friends_count  \n",
       "0             7640           5488  \n",
       "1              676            264  \n",
       "2              471            287  \n",
       "3               96            108  \n",
       "4               96            108  "
      ]
     },
     "execution_count": 26,
     "metadata": {},
     "output_type": "execute_result"
    }
   ],
   "source": [
    "pixel12.head()"
   ]
  },
  {
   "cell_type": "code",
   "execution_count": 27,
   "metadata": {
    "scrolled": true
   },
   "outputs": [
    {
     "name": "stdout",
     "output_type": "stream",
     "text": [
      "(7001, 11)\n",
      "(1090, 11)\n"
     ]
    }
   ],
   "source": [
    "print(pixel18.shape)\n",
    "print(pixel12.shape)"
   ]
  },
  {
   "cell_type": "code",
   "execution_count": 28,
   "metadata": {},
   "outputs": [],
   "source": [
    "data12n18 = pd.concat([pixel18,pixel12])"
   ]
  },
  {
   "cell_type": "code",
   "execution_count": 29,
   "metadata": {},
   "outputs": [
    {
     "data": {
      "text/plain": [
       "(8091, 11)"
      ]
     },
     "execution_count": 29,
     "metadata": {},
     "output_type": "execute_result"
    }
   ],
   "source": [
    "data12n18.shape"
   ]
  },
  {
   "cell_type": "code",
   "execution_count": 31,
   "metadata": {},
   "outputs": [
    {
     "data": {
      "text/html": [
       "<div>\n",
       "<style scoped>\n",
       "    .dataframe tbody tr th:only-of-type {\n",
       "        vertical-align: middle;\n",
       "    }\n",
       "\n",
       "    .dataframe tbody tr th {\n",
       "        vertical-align: top;\n",
       "    }\n",
       "\n",
       "    .dataframe thead th {\n",
       "        text-align: right;\n",
       "    }\n",
       "</style>\n",
       "<table border=\"1\" class=\"dataframe\">\n",
       "  <thead>\n",
       "    <tr style=\"text-align: right;\">\n",
       "      <th></th>\n",
       "      <th>created_at</th>\n",
       "      <th>coordinates</th>\n",
       "      <th>user_location</th>\n",
       "      <th>tweet_text</th>\n",
       "      <th>fav_count</th>\n",
       "      <th>retweet_count</th>\n",
       "      <th>user_id</th>\n",
       "      <th>user_name</th>\n",
       "      <th>user_utc_offset</th>\n",
       "      <th>followers_count</th>\n",
       "      <th>friends_count</th>\n",
       "    </tr>\n",
       "  </thead>\n",
       "  <tbody>\n",
       "    <tr>\n",
       "      <th>1085</th>\n",
       "      <td>2018-11-12 13:16:05</td>\n",
       "      <td>NaN</td>\n",
       "      <td>VENEZUELA</td>\n",
       "      <td>Pixel 3 tips and tricks: Getting the most from...</td>\n",
       "      <td>0</td>\n",
       "      <td>0</td>\n",
       "      <td>388912217</td>\n",
       "      <td>PC-PLANET, S.A.</td>\n",
       "      <td>NaN</td>\n",
       "      <td>1267</td>\n",
       "      <td>997</td>\n",
       "    </tr>\n",
       "    <tr>\n",
       "      <th>1086</th>\n",
       "      <td>2018-11-12 13:15:31</td>\n",
       "      <td>NaN</td>\n",
       "      <td>Geneva</td>\n",
       "      <td>The Pixel 3 is not an iPhone killer. But if yo...</td>\n",
       "      <td>0</td>\n",
       "      <td>0</td>\n",
       "      <td>88403945</td>\n",
       "      <td>Gabriel Hussy 🔁</td>\n",
       "      <td>NaN</td>\n",
       "      <td>2706</td>\n",
       "      <td>1382</td>\n",
       "    </tr>\n",
       "    <tr>\n",
       "      <th>1087</th>\n",
       "      <td>2018-11-12 13:15:00</td>\n",
       "      <td>NaN</td>\n",
       "      <td>Kuala Lumpur</td>\n",
       "      <td>RT @WIRED: The Pixel 3 is not an iPhone killer...</td>\n",
       "      <td>0</td>\n",
       "      <td>8</td>\n",
       "      <td>336983384</td>\n",
       "      <td>Kemto</td>\n",
       "      <td>NaN</td>\n",
       "      <td>582</td>\n",
       "      <td>493</td>\n",
       "    </tr>\n",
       "    <tr>\n",
       "      <th>1088</th>\n",
       "      <td>2018-11-12 13:14:25</td>\n",
       "      <td>NaN</td>\n",
       "      <td>Pakistan</td>\n",
       "      <td>Google Pixel 3 XL Price And Specification http...</td>\n",
       "      <td>0</td>\n",
       "      <td>0</td>\n",
       "      <td>783964976352460800</td>\n",
       "      <td>Content.PK</td>\n",
       "      <td>NaN</td>\n",
       "      <td>87</td>\n",
       "      <td>20</td>\n",
       "    </tr>\n",
       "    <tr>\n",
       "      <th>1089</th>\n",
       "      <td>2018-11-12 13:14:01</td>\n",
       "      <td>NaN</td>\n",
       "      <td>Pakistan</td>\n",
       "      <td>RT @WIRED: The Pixel 3 is not an iPhone killer...</td>\n",
       "      <td>0</td>\n",
       "      <td>8</td>\n",
       "      <td>1060449761084420096</td>\n",
       "      <td>TechGeek2K</td>\n",
       "      <td>NaN</td>\n",
       "      <td>15</td>\n",
       "      <td>45</td>\n",
       "    </tr>\n",
       "  </tbody>\n",
       "</table>\n",
       "</div>"
      ],
      "text/plain": [
       "               created_at coordinates user_location  \\\n",
       "1085  2018-11-12 13:16:05         NaN     VENEZUELA   \n",
       "1086  2018-11-12 13:15:31         NaN        Geneva   \n",
       "1087  2018-11-12 13:15:00         NaN  Kuala Lumpur   \n",
       "1088  2018-11-12 13:14:25         NaN      Pakistan   \n",
       "1089  2018-11-12 13:14:01         NaN      Pakistan   \n",
       "\n",
       "                                             tweet_text  fav_count  \\\n",
       "1085  Pixel 3 tips and tricks: Getting the most from...          0   \n",
       "1086  The Pixel 3 is not an iPhone killer. But if yo...          0   \n",
       "1087  RT @WIRED: The Pixel 3 is not an iPhone killer...          0   \n",
       "1088  Google Pixel 3 XL Price And Specification http...          0   \n",
       "1089  RT @WIRED: The Pixel 3 is not an iPhone killer...          0   \n",
       "\n",
       "      retweet_count              user_id        user_name  user_utc_offset  \\\n",
       "1085              0            388912217  PC-PLANET, S.A.              NaN   \n",
       "1086              0             88403945  Gabriel Hussy 🔁              NaN   \n",
       "1087              8            336983384            Kemto              NaN   \n",
       "1088              0   783964976352460800       Content.PK              NaN   \n",
       "1089              8  1060449761084420096       TechGeek2K              NaN   \n",
       "\n",
       "      followers_count  friends_count  \n",
       "1085             1267            997  \n",
       "1086             2706           1382  \n",
       "1087              582            493  \n",
       "1088               87             20  \n",
       "1089               15             45  "
      ]
     },
     "execution_count": 31,
     "metadata": {},
     "output_type": "execute_result"
    }
   ],
   "source": [
    "data12n18.tail()"
   ]
  },
  {
   "cell_type": "code",
   "execution_count": 32,
   "metadata": {},
   "outputs": [],
   "source": [
    "data12n18f = data12n18.groupby(['tweet_text']).apply(lambda x: x.sort_values('user_name')).reset_index(drop=True)"
   ]
  },
  {
   "cell_type": "code",
   "execution_count": 50,
   "metadata": {
    "scrolled": true
   },
   "outputs": [
    {
     "ename": "NameError",
     "evalue": "name 'data12n18f' is not defined",
     "output_type": "error",
     "traceback": [
      "\u001b[0;31m---------------------------------------------------------------------------\u001b[0m",
      "\u001b[0;31mNameError\u001b[0m                                 Traceback (most recent call last)",
      "\u001b[0;32m<ipython-input-50-a849e8367a2b>\u001b[0m in \u001b[0;36m<module>\u001b[0;34m()\u001b[0m\n\u001b[0;32m----> 1\u001b[0;31m \u001b[0mdata12n18f\u001b[0m\u001b[0;34m.\u001b[0m\u001b[0mshape\u001b[0m\u001b[0;34m\u001b[0m\u001b[0m\n\u001b[0m",
      "\u001b[0;31mNameError\u001b[0m: name 'data12n18f' is not defined"
     ]
    }
   ],
   "source": [
    "data12n18f.shape"
   ]
  },
  {
   "cell_type": "markdown",
   "metadata": {},
   "source": [
    "## Remove duplicates"
   ]
  },
  {
   "cell_type": "code",
   "execution_count": 34,
   "metadata": {},
   "outputs": [],
   "source": [
    "data12n18final = data12n18f.drop_duplicates(subset=['tweet_text'], keep='first')"
   ]
  },
  {
   "cell_type": "code",
   "execution_count": 35,
   "metadata": {},
   "outputs": [
    {
     "data": {
      "text/plain": [
       "(5266, 11)"
      ]
     },
     "execution_count": 35,
     "metadata": {},
     "output_type": "execute_result"
    }
   ],
   "source": [
    "data12n18final.shape"
   ]
  },
  {
   "cell_type": "code",
   "execution_count": 36,
   "metadata": {},
   "outputs": [],
   "source": [
    "data12n18final.to_csv(\"data12n18final.csv\")"
   ]
  },
  {
   "cell_type": "code",
   "execution_count": 20,
   "metadata": {},
   "outputs": [
    {
     "name": "stdout",
     "output_type": "stream",
     "text": [
      "(4779, 11)\n",
      "(4701, 11)\n",
      "(9480, 11)\n",
      "(9480, 11)\n",
      "(4188, 11)\n"
     ]
    }
   ],
   "source": [
    "pixelNov13_1 = pd.read_csv(\"dataset1_pixelxlnov13.csv\", index_col=0)\n",
    "pixelNov13_2 = pd.read_csv(\"dataset1_pixelxlnov13_2.csv\", index_col=0)\n",
    "\n",
    "#pixel12.head()\n",
    "\n",
    "print(pixelNov13_1.shape)\n",
    "print(pixelNov13_2.shape)\n",
    "\n",
    "data13 = pd.concat([pixelNov13_1,pixelNov13_2])\n",
    "\n",
    "print(data13.shape)\n",
    "\n",
    "#data1.tail()\n",
    "\n",
    "dataNov13 = data13.groupby(['tweet_text']).apply(lambda x: x.sort_values('user_name')).reset_index(drop=True)\n",
    "\n",
    "print(dataNov13.shape)\n",
    "\n",
    "dataNov13final = dataNov13.drop_duplicates(subset=['tweet_text'], keep='first')\n",
    "\n",
    "print(dataNov13final.shape)"
   ]
  },
  {
   "cell_type": "code",
   "execution_count": 22,
   "metadata": {},
   "outputs": [],
   "source": [
    "dataNov13final.to_csv(\"dataNov13final.csv\")"
   ]
  },
  {
   "cell_type": "code",
   "execution_count": 37,
   "metadata": {},
   "outputs": [
    {
     "name": "stdout",
     "output_type": "stream",
     "text": [
      "(4918, 11)\n",
      "(9882, 11)\n",
      "(14800, 11)\n",
      "(14800, 11)\n",
      "(9316, 11)\n"
     ]
    }
   ],
   "source": [
    "pixelNov17_1 = pd.read_csv(\"dataset1_pixelxlnov17_1.csv\", index_col=0)\n",
    "pixelNov17_2 = pd.read_csv(\"dataset1_pixel3nov17_1.csv\", index_col=0)\n",
    "\n",
    "print(pixelNov17_1.shape)\n",
    "print(pixelNov17_2.shape)\n",
    "\n",
    "data17 = pd.concat([pixelNov17_1,pixelNov17_2])\n",
    "\n",
    "print(data17.shape)\n",
    "\n",
    "dataNov17 = data17.groupby(['tweet_text']).apply(lambda x: x.sort_values('user_name')).reset_index(drop=True)\n",
    "\n",
    "print(dataNov17.shape)\n",
    "\n",
    "dataNov17final = dataNov17.drop_duplicates(subset=['tweet_text'], keep='first')\n",
    "\n",
    "print(dataNov17final.shape)"
   ]
  },
  {
   "cell_type": "code",
   "execution_count": 38,
   "metadata": {},
   "outputs": [],
   "source": [
    "dataNov17final.to_csv(\"dataNov17final.csv\")"
   ]
  },
  {
   "cell_type": "code",
   "execution_count": 48,
   "metadata": {},
   "outputs": [
    {
     "name": "stdout",
     "output_type": "stream",
     "text": [
      "(6479, 18)\n",
      "(6479, 18)\n",
      "(12958, 18)\n",
      "(12958, 18)\n",
      "(4496, 18)\n"
     ]
    }
   ],
   "source": [
    "#pixelNov19_1 = pd.read_csv(\"dataset1_pixelnov19_1.csv\", index_col=0)\n",
    "#pixelNov19_2 = pd.read_csv(\"dataset1_pixelnov19_2.csv\", index_col=0)\n",
    "\n",
    "pixelNov19_1 = pd.read_csv(\"dataset1_pixelnov19_1_new.csv\", index_col=0)\n",
    "pixelNov19_2 = pd.read_csv(\"dataset1_pixelnov19_2_new.csv\", index_col=0)\n",
    "\n",
    "print(pixelNov19_1.shape)\n",
    "print(pixelNov19_2.shape)\n",
    "\n",
    "data19 = pd.concat([pixelNov19_1,pixelNov19_2])\n",
    "\n",
    "print(data19.shape)\n",
    "\n",
    "dataNov19 = data19.groupby(['tweet_text']).apply(lambda x: x.sort_values('user_name')).reset_index(drop=True)\n",
    "\n",
    "print(dataNov19.shape)\n",
    "\n",
    "dataNov19final = dataNov19.drop_duplicates(subset=['tweet_text'], keep='first')\n",
    "\n",
    "print(dataNov19final.shape)"
   ]
  },
  {
   "cell_type": "code",
   "execution_count": 50,
   "metadata": {
    "scrolled": true
   },
   "outputs": [
    {
     "data": {
      "text/html": [
       "<div>\n",
       "<style scoped>\n",
       "    .dataframe tbody tr th:only-of-type {\n",
       "        vertical-align: middle;\n",
       "    }\n",
       "\n",
       "    .dataframe tbody tr th {\n",
       "        vertical-align: top;\n",
       "    }\n",
       "\n",
       "    .dataframe thead th {\n",
       "        text-align: right;\n",
       "    }\n",
       "</style>\n",
       "<table border=\"1\" class=\"dataframe\">\n",
       "  <thead>\n",
       "    <tr style=\"text-align: right;\">\n",
       "      <th></th>\n",
       "      <th>created_at</th>\n",
       "      <th>coordinates</th>\n",
       "      <th>user_location</th>\n",
       "      <th>tweet_text</th>\n",
       "      <th>fav_count</th>\n",
       "      <th>retweet_count</th>\n",
       "      <th>user_id</th>\n",
       "      <th>user_name</th>\n",
       "      <th>user_utc_offset</th>\n",
       "      <th>followers_count</th>\n",
       "      <th>friends_count</th>\n",
       "      <th>Unnamed: 12</th>\n",
       "      <th>Unnamed: 13</th>\n",
       "      <th>Unnamed: 14</th>\n",
       "      <th>Unnamed: 15</th>\n",
       "      <th>Unnamed: 16</th>\n",
       "      <th>Unnamed: 17</th>\n",
       "      <th>Unnamed: 18</th>\n",
       "    </tr>\n",
       "  </thead>\n",
       "  <tbody>\n",
       "    <tr>\n",
       "      <th>0</th>\n",
       "      <td>2018-11-19 05:31:48</td>\n",
       "      <td>NaN</td>\n",
       "      <td>sc</td>\n",
       "      <td>marchieeeeee</td>\n",
       "      <td>RT @Ashril_92: Full Tank Chicken Chop 🤤🤤\\n\\nCh...</td>\n",
       "      <td>0</td>\n",
       "      <td>600</td>\n",
       "      <td>1159748726</td>\n",
       "      <td>nekbat♡</td>\n",
       "      <td>NaN</td>\n",
       "      <td>1238</td>\n",
       "      <td>396</td>\n",
       "      <td>NaN</td>\n",
       "      <td>NaN</td>\n",
       "      <td>NaN</td>\n",
       "      <td>NaN</td>\n",
       "      <td>NaN</td>\n",
       "      <td>NaN</td>\n",
       "    </tr>\n",
       "    <tr>\n",
       "      <th>2</th>\n",
       "      <td>2018-11-18 21:09:41</td>\n",
       "      <td>NaN</td>\n",
       "      <td>parody</td>\n",
       "      <td>not her !</td>\n",
       "      <td>@xersivx PIXEL PUSSY LMFAOOOOOO</td>\n",
       "      <td>0</td>\n",
       "      <td>0</td>\n",
       "      <td>9.82804650373075E+017</td>\n",
       "      <td>muva. 💋</td>\n",
       "      <td>NaN</td>\n",
       "      <td>1869</td>\n",
       "      <td>516</td>\n",
       "      <td>NaN</td>\n",
       "      <td>NaN</td>\n",
       "      <td>NaN</td>\n",
       "      <td>NaN</td>\n",
       "      <td>NaN</td>\n",
       "      <td>NaN</td>\n",
       "    </tr>\n",
       "    <tr>\n",
       "      <th>4</th>\n",
       "      <td>2018-11-18 17:00:06</td>\n",
       "      <td>NaN</td>\n",
       "      <td>Portland, OR</td>\n",
       "      <td>\"Aiming to be more transparent about ad target...</td>\n",
       "      <td>1</td>\n",
       "      <td>1</td>\n",
       "      <td>619411599</td>\n",
       "      <td>Lytics</td>\n",
       "      <td>NaN</td>\n",
       "      <td>1176</td>\n",
       "      <td>719</td>\n",
       "      <td>NaN</td>\n",
       "      <td>NaN</td>\n",
       "      <td>NaN</td>\n",
       "      <td>NaN</td>\n",
       "      <td>NaN</td>\n",
       "      <td>NaN</td>\n",
       "      <td>NaN</td>\n",
       "    </tr>\n",
       "    <tr>\n",
       "      <th>6</th>\n",
       "      <td>2018-11-18 19:09:08</td>\n",
       "      <td>NaN</td>\n",
       "      <td>40.43729000,-3.680233000</td>\n",
       "      <td>\"I agree to receive news, updates, promotions ...</td>\n",
       "      <td>0</td>\n",
       "      <td>0</td>\n",
       "      <td>766929</td>\n",
       "      <td>Miguel Angel Moro</td>\n",
       "      <td>NaN</td>\n",
       "      <td>3225</td>\n",
       "      <td>99</td>\n",
       "      <td>NaN</td>\n",
       "      <td>NaN</td>\n",
       "      <td>NaN</td>\n",
       "      <td>NaN</td>\n",
       "      <td>NaN</td>\n",
       "      <td>NaN</td>\n",
       "      <td>NaN</td>\n",
       "    </tr>\n",
       "    <tr>\n",
       "      <th>8</th>\n",
       "      <td>2018-11-19 02:38:20</td>\n",
       "      <td>NaN</td>\n",
       "      <td>Marylandonia, Yuesei</td>\n",
       "      <td>\"I don't feel like getting out my tablet or sc...</td>\n",
       "      <td>0</td>\n",
       "      <td>0</td>\n",
       "      <td>12449372</td>\n",
       "      <td>A. Lee</td>\n",
       "      <td>NaN</td>\n",
       "      <td>48</td>\n",
       "      <td>151</td>\n",
       "      <td>NaN</td>\n",
       "      <td>NaN</td>\n",
       "      <td>NaN</td>\n",
       "      <td>NaN</td>\n",
       "      <td>NaN</td>\n",
       "      <td>NaN</td>\n",
       "      <td>NaN</td>\n",
       "    </tr>\n",
       "  </tbody>\n",
       "</table>\n",
       "</div>"
      ],
      "text/plain": [
       "            created_at coordinates             user_location  \\\n",
       "0  2018-11-19 05:31:48         NaN                        sc   \n",
       "2  2018-11-18 21:09:41         NaN                   parody    \n",
       "4  2018-11-18 17:00:06         NaN              Portland, OR   \n",
       "6  2018-11-18 19:09:08         NaN  40.43729000,-3.680233000   \n",
       "8  2018-11-19 02:38:20         NaN      Marylandonia, Yuesei   \n",
       "\n",
       "                                          tweet_text  \\\n",
       "0                                       marchieeeeee   \n",
       "2                                         not her !    \n",
       "4  \"Aiming to be more transparent about ad target...   \n",
       "6  \"I agree to receive news, updates, promotions ...   \n",
       "8  \"I don't feel like getting out my tablet or sc...   \n",
       "\n",
       "                                           fav_count retweet_count    user_id  \\\n",
       "0  RT @Ashril_92: Full Tank Chicken Chop 🤤🤤\\n\\nCh...             0        600   \n",
       "2                    @xersivx PIXEL PUSSY LMFAOOOOOO             0          0   \n",
       "4                                                  1             1  619411599   \n",
       "6                                                  0             0     766929   \n",
       "8                                                  0             0   12449372   \n",
       "\n",
       "               user_name user_utc_offset followers_count friends_count  \\\n",
       "0             1159748726         nekbat♡             NaN          1238   \n",
       "2  9.82804650373075E+017         muva. 💋             NaN          1869   \n",
       "4                 Lytics             NaN            1176           719   \n",
       "6      Miguel Angel Moro             NaN            3225            99   \n",
       "8                 A. Lee             NaN              48           151   \n",
       "\n",
       "  Unnamed: 12  Unnamed: 13  Unnamed: 14 Unnamed: 15  Unnamed: 16  Unnamed: 17  \\\n",
       "0         396          NaN          NaN         NaN          NaN          NaN   \n",
       "2         516          NaN          NaN         NaN          NaN          NaN   \n",
       "4         NaN          NaN          NaN         NaN          NaN          NaN   \n",
       "6         NaN          NaN          NaN         NaN          NaN          NaN   \n",
       "8         NaN          NaN          NaN         NaN          NaN          NaN   \n",
       "\n",
       "   Unnamed: 18  \n",
       "0          NaN  \n",
       "2          NaN  \n",
       "4          NaN  \n",
       "6          NaN  \n",
       "8          NaN  "
      ]
     },
     "execution_count": 50,
     "metadata": {},
     "output_type": "execute_result"
    }
   ],
   "source": [
    "dataNov19final.head()"
   ]
  },
  {
   "cell_type": "code",
   "execution_count": 52,
   "metadata": {},
   "outputs": [],
   "source": [
    "dataNov19fin = dataNov19final.drop(columns = [\"Unnamed: 12\", \"Unnamed: 13\", \"Unnamed: 14\", \"Unnamed: 15\", \"Unnamed: 16\", \"Unnamed: 17\", \"Unnamed: 18\" ])"
   ]
  },
  {
   "cell_type": "code",
   "execution_count": 53,
   "metadata": {
    "scrolled": true
   },
   "outputs": [
    {
     "data": {
      "text/html": [
       "<div>\n",
       "<style scoped>\n",
       "    .dataframe tbody tr th:only-of-type {\n",
       "        vertical-align: middle;\n",
       "    }\n",
       "\n",
       "    .dataframe tbody tr th {\n",
       "        vertical-align: top;\n",
       "    }\n",
       "\n",
       "    .dataframe thead th {\n",
       "        text-align: right;\n",
       "    }\n",
       "</style>\n",
       "<table border=\"1\" class=\"dataframe\">\n",
       "  <thead>\n",
       "    <tr style=\"text-align: right;\">\n",
       "      <th></th>\n",
       "      <th>created_at</th>\n",
       "      <th>coordinates</th>\n",
       "      <th>user_location</th>\n",
       "      <th>tweet_text</th>\n",
       "      <th>fav_count</th>\n",
       "      <th>retweet_count</th>\n",
       "      <th>user_id</th>\n",
       "      <th>user_name</th>\n",
       "      <th>user_utc_offset</th>\n",
       "      <th>followers_count</th>\n",
       "      <th>friends_count</th>\n",
       "    </tr>\n",
       "  </thead>\n",
       "  <tbody>\n",
       "    <tr>\n",
       "      <th>0</th>\n",
       "      <td>2018-11-19 05:31:48</td>\n",
       "      <td>NaN</td>\n",
       "      <td>sc</td>\n",
       "      <td>marchieeeeee</td>\n",
       "      <td>RT @Ashril_92: Full Tank Chicken Chop 🤤🤤\\n\\nCh...</td>\n",
       "      <td>0</td>\n",
       "      <td>600</td>\n",
       "      <td>1159748726</td>\n",
       "      <td>nekbat♡</td>\n",
       "      <td>NaN</td>\n",
       "      <td>1238</td>\n",
       "    </tr>\n",
       "    <tr>\n",
       "      <th>2</th>\n",
       "      <td>2018-11-18 21:09:41</td>\n",
       "      <td>NaN</td>\n",
       "      <td>parody</td>\n",
       "      <td>not her !</td>\n",
       "      <td>@xersivx PIXEL PUSSY LMFAOOOOOO</td>\n",
       "      <td>0</td>\n",
       "      <td>0</td>\n",
       "      <td>9.82804650373075E+017</td>\n",
       "      <td>muva. 💋</td>\n",
       "      <td>NaN</td>\n",
       "      <td>1869</td>\n",
       "    </tr>\n",
       "    <tr>\n",
       "      <th>4</th>\n",
       "      <td>2018-11-18 17:00:06</td>\n",
       "      <td>NaN</td>\n",
       "      <td>Portland, OR</td>\n",
       "      <td>\"Aiming to be more transparent about ad target...</td>\n",
       "      <td>1</td>\n",
       "      <td>1</td>\n",
       "      <td>619411599</td>\n",
       "      <td>Lytics</td>\n",
       "      <td>NaN</td>\n",
       "      <td>1176</td>\n",
       "      <td>719</td>\n",
       "    </tr>\n",
       "    <tr>\n",
       "      <th>6</th>\n",
       "      <td>2018-11-18 19:09:08</td>\n",
       "      <td>NaN</td>\n",
       "      <td>40.43729000,-3.680233000</td>\n",
       "      <td>\"I agree to receive news, updates, promotions ...</td>\n",
       "      <td>0</td>\n",
       "      <td>0</td>\n",
       "      <td>766929</td>\n",
       "      <td>Miguel Angel Moro</td>\n",
       "      <td>NaN</td>\n",
       "      <td>3225</td>\n",
       "      <td>99</td>\n",
       "    </tr>\n",
       "    <tr>\n",
       "      <th>8</th>\n",
       "      <td>2018-11-19 02:38:20</td>\n",
       "      <td>NaN</td>\n",
       "      <td>Marylandonia, Yuesei</td>\n",
       "      <td>\"I don't feel like getting out my tablet or sc...</td>\n",
       "      <td>0</td>\n",
       "      <td>0</td>\n",
       "      <td>12449372</td>\n",
       "      <td>A. Lee</td>\n",
       "      <td>NaN</td>\n",
       "      <td>48</td>\n",
       "      <td>151</td>\n",
       "    </tr>\n",
       "  </tbody>\n",
       "</table>\n",
       "</div>"
      ],
      "text/plain": [
       "            created_at coordinates             user_location  \\\n",
       "0  2018-11-19 05:31:48         NaN                        sc   \n",
       "2  2018-11-18 21:09:41         NaN                   parody    \n",
       "4  2018-11-18 17:00:06         NaN              Portland, OR   \n",
       "6  2018-11-18 19:09:08         NaN  40.43729000,-3.680233000   \n",
       "8  2018-11-19 02:38:20         NaN      Marylandonia, Yuesei   \n",
       "\n",
       "                                          tweet_text  \\\n",
       "0                                       marchieeeeee   \n",
       "2                                         not her !    \n",
       "4  \"Aiming to be more transparent about ad target...   \n",
       "6  \"I agree to receive news, updates, promotions ...   \n",
       "8  \"I don't feel like getting out my tablet or sc...   \n",
       "\n",
       "                                           fav_count retweet_count    user_id  \\\n",
       "0  RT @Ashril_92: Full Tank Chicken Chop 🤤🤤\\n\\nCh...             0        600   \n",
       "2                    @xersivx PIXEL PUSSY LMFAOOOOOO             0          0   \n",
       "4                                                  1             1  619411599   \n",
       "6                                                  0             0     766929   \n",
       "8                                                  0             0   12449372   \n",
       "\n",
       "               user_name user_utc_offset followers_count friends_count  \n",
       "0             1159748726         nekbat♡             NaN          1238  \n",
       "2  9.82804650373075E+017         muva. 💋             NaN          1869  \n",
       "4                 Lytics             NaN            1176           719  \n",
       "6      Miguel Angel Moro             NaN            3225            99  \n",
       "8                 A. Lee             NaN              48           151  "
      ]
     },
     "execution_count": 53,
     "metadata": {},
     "output_type": "execute_result"
    }
   ],
   "source": [
    "dataNov19fin.head()"
   ]
  },
  {
   "cell_type": "code",
   "execution_count": 54,
   "metadata": {},
   "outputs": [
    {
     "data": {
      "text/plain": [
       "(4496, 11)"
      ]
     },
     "execution_count": 54,
     "metadata": {},
     "output_type": "execute_result"
    }
   ],
   "source": [
    "dataNov19fin.shape"
   ]
  },
  {
   "cell_type": "code",
   "execution_count": 55,
   "metadata": {},
   "outputs": [],
   "source": [
    "dataNov19fin.to_csv(\"dataNov19final.csv\")"
   ]
  },
  {
   "cell_type": "code",
   "execution_count": 49,
   "metadata": {},
   "outputs": [
    {
     "name": "stdout",
     "output_type": "stream",
     "text": [
      "(10000, 15)\n",
      "(893, 15)\n",
      "(10893, 15)\n",
      "(10893, 15)\n",
      "(6465, 15)\n"
     ]
    }
   ],
   "source": [
    "pixelNov25_1 = pd.read_csv(\"dataset1_pixelxlnov25_1.csv\", index_col=0)\n",
    "pixelNov25_2 = pd.read_csv(\"dataset1_pixel3nov25_2.csv\", index_col=0)\n",
    "\n",
    "print(pixelNov25_1.shape)\n",
    "print(pixelNov25_2.shape)\n",
    "\n",
    "data25 = pd.concat([pixelNov25_1,pixelNov25_2])\n",
    "\n",
    "print(data25.shape)\n",
    "\n",
    "dataNov25 = data25.groupby(['tweet_text']).apply(lambda x: x.sort_values('user_name')).reset_index(drop=True)\n",
    "\n",
    "print(dataNov25.shape)\n",
    "\n",
    "dataNov25final = dataNov25.drop_duplicates(subset=['tweet_text'], keep='first')\n",
    "\n",
    "print(dataNov25final.shape)"
   ]
  },
  {
   "cell_type": "code",
   "execution_count": 57,
   "metadata": {},
   "outputs": [],
   "source": [
    "dataNov25fin = dataNov25final.drop(columns = [\"tid\", \"tid_str\", \"retweeted\", \"favorited\"])"
   ]
  },
  {
   "cell_type": "code",
   "execution_count": 60,
   "metadata": {},
   "outputs": [
    {
     "data": {
      "text/plain": [
       "(6465, 11)"
      ]
     },
     "execution_count": 60,
     "metadata": {},
     "output_type": "execute_result"
    }
   ],
   "source": [
    "dataNov25fin.shape"
   ]
  },
  {
   "cell_type": "code",
   "execution_count": 61,
   "metadata": {},
   "outputs": [],
   "source": [
    "dataNov25fin.to_csv(\"dataNov25final.csv\")"
   ]
  },
  {
   "cell_type": "code",
   "execution_count": 62,
   "metadata": {},
   "outputs": [
    {
     "name": "stdout",
     "output_type": "stream",
     "text": [
      "(29731, 11)\n",
      "(29731, 11)\n",
      "(25826, 11)\n"
     ]
    }
   ],
   "source": [
    "pixelNov13final = pd.read_csv(\"dataNov13final.csv\", index_col=0)\n",
    "pixelNov12n18final = pd.read_csv(\"data12n18final.csv\", index_col=0)\n",
    "dataNov17final = pd.read_csv(\"dataNov17final.csv\", index_col=0)\n",
    "dataNov19final = pd.read_csv(\"dataNov19final.csv\", index_col=0)\n",
    "dataNov25final = pd.read_csv(\"dataNov25final.csv\", index_col=0)\n",
    "\n",
    "datacom = pd.concat([pixelNov13final,pixelNov12n18final, dataNov17final, dataNov19final, dataNov25final])\n",
    "\n",
    "print(datacom.shape)\n",
    "\n",
    "datafin = datacom.groupby(['tweet_text']).apply(lambda x: x.sort_values('user_name')).reset_index(drop=True)\n",
    "\n",
    "print(datafin.shape)\n",
    "\n",
    "datafinal = datafin.drop_duplicates(subset=['tweet_text'], keep='first')\n",
    "\n",
    "print(datafinal.shape)"
   ]
  },
  {
   "cell_type": "code",
   "execution_count": 63,
   "metadata": {},
   "outputs": [],
   "source": [
    "datafinal.to_csv(\"finaldataset.csv\")"
   ]
  },
  {
   "cell_type": "markdown",
   "metadata": {},
   "source": [
    "# Exploratory data analysis"
   ]
  },
  {
   "cell_type": "code",
   "execution_count": 135,
   "metadata": {
    "scrolled": true
   },
   "outputs": [],
   "source": [
    "Data_pixel = pd.read_csv(\"dataNov25final.csv\", index_col=0)"
   ]
  },
  {
   "cell_type": "code",
   "execution_count": 136,
   "metadata": {},
   "outputs": [
    {
     "data": {
      "text/html": [
       "<div>\n",
       "<style scoped>\n",
       "    .dataframe tbody tr th:only-of-type {\n",
       "        vertical-align: middle;\n",
       "    }\n",
       "\n",
       "    .dataframe tbody tr th {\n",
       "        vertical-align: top;\n",
       "    }\n",
       "\n",
       "    .dataframe thead th {\n",
       "        text-align: right;\n",
       "    }\n",
       "</style>\n",
       "<table border=\"1\" class=\"dataframe\">\n",
       "  <thead>\n",
       "    <tr style=\"text-align: right;\">\n",
       "      <th></th>\n",
       "      <th>created_at</th>\n",
       "      <th>coordinates</th>\n",
       "      <th>user_location</th>\n",
       "      <th>tweet_text</th>\n",
       "      <th>fav_count</th>\n",
       "      <th>retweet_count</th>\n",
       "      <th>user_id</th>\n",
       "      <th>user_name</th>\n",
       "      <th>user_utc_offset</th>\n",
       "      <th>followers_count</th>\n",
       "      <th>friends_count</th>\n",
       "    </tr>\n",
       "  </thead>\n",
       "  <tbody>\n",
       "    <tr>\n",
       "      <th>0</th>\n",
       "      <td>2018-11-25 16:43:50</td>\n",
       "      <td>NaN</td>\n",
       "      <td>Missouri, USA</td>\n",
       "      <td>\"All the pixel killers must be in church.\" - M...</td>\n",
       "      <td>0</td>\n",
       "      <td>0</td>\n",
       "      <td>1044482040027115520</td>\n",
       "      <td>lisamarie81</td>\n",
       "      <td>NaN</td>\n",
       "      <td>211</td>\n",
       "      <td>392</td>\n",
       "    </tr>\n",
       "    <tr>\n",
       "      <th>1</th>\n",
       "      <td>2018-11-25 06:42:34</td>\n",
       "      <td>NaN</td>\n",
       "      <td>Lagos, Nigeria</td>\n",
       "      <td>\"Allah has the picture, we've only got a pixel...</td>\n",
       "      <td>0</td>\n",
       "      <td>0</td>\n",
       "      <td>1782823832</td>\n",
       "      <td>Sodrudeen</td>\n",
       "      <td>NaN</td>\n",
       "      <td>37</td>\n",
       "      <td>166</td>\n",
       "    </tr>\n",
       "    <tr>\n",
       "      <th>2</th>\n",
       "      <td>2018-11-26 00:27:40</td>\n",
       "      <td>NaN</td>\n",
       "      <td>San Francisco/New York</td>\n",
       "      <td>\"Allow me to make that dinner reservation for ...</td>\n",
       "      <td>32</td>\n",
       "      <td>11</td>\n",
       "      <td>1344951</td>\n",
       "      <td>WIRED</td>\n",
       "      <td>NaN</td>\n",
       "      <td>10351712</td>\n",
       "      <td>345</td>\n",
       "    </tr>\n",
       "    <tr>\n",
       "      <th>3</th>\n",
       "      <td>2018-11-26 00:28:35</td>\n",
       "      <td>NaN</td>\n",
       "      <td>Lyon, France</td>\n",
       "      <td>\"Allow me to make that dinner reservation for ...</td>\n",
       "      <td>0</td>\n",
       "      <td>0</td>\n",
       "      <td>44607361</td>\n",
       "      <td>ben carpano</td>\n",
       "      <td>NaN</td>\n",
       "      <td>1053</td>\n",
       "      <td>701</td>\n",
       "    </tr>\n",
       "    <tr>\n",
       "      <th>4</th>\n",
       "      <td>2018-11-26 00:29:25</td>\n",
       "      <td>NaN</td>\n",
       "      <td>Geneva</td>\n",
       "      <td>\"Allow me to make that dinner reservation for ...</td>\n",
       "      <td>0</td>\n",
       "      <td>0</td>\n",
       "      <td>88403945</td>\n",
       "      <td>Gabriel Hussy 🔁</td>\n",
       "      <td>NaN</td>\n",
       "      <td>2710</td>\n",
       "      <td>1383</td>\n",
       "    </tr>\n",
       "  </tbody>\n",
       "</table>\n",
       "</div>"
      ],
      "text/plain": [
       "            created_at coordinates           user_location  \\\n",
       "0  2018-11-25 16:43:50         NaN           Missouri, USA   \n",
       "1  2018-11-25 06:42:34         NaN          Lagos, Nigeria   \n",
       "2  2018-11-26 00:27:40         NaN  San Francisco/New York   \n",
       "3  2018-11-26 00:28:35         NaN            Lyon, France   \n",
       "4  2018-11-26 00:29:25         NaN                  Geneva   \n",
       "\n",
       "                                          tweet_text  fav_count  \\\n",
       "0  \"All the pixel killers must be in church.\" - M...          0   \n",
       "1  \"Allah has the picture, we've only got a pixel...          0   \n",
       "2  \"Allow me to make that dinner reservation for ...         32   \n",
       "3  \"Allow me to make that dinner reservation for ...          0   \n",
       "4  \"Allow me to make that dinner reservation for ...          0   \n",
       "\n",
       "   retweet_count              user_id        user_name  user_utc_offset  \\\n",
       "0              0  1044482040027115520      lisamarie81              NaN   \n",
       "1              0           1782823832        Sodrudeen              NaN   \n",
       "2             11              1344951            WIRED              NaN   \n",
       "3              0             44607361      ben carpano              NaN   \n",
       "4              0             88403945  Gabriel Hussy 🔁              NaN   \n",
       "\n",
       "   followers_count  friends_count  \n",
       "0              211            392  \n",
       "1               37            166  \n",
       "2         10351712            345  \n",
       "3             1053            701  \n",
       "4             2710           1383  "
      ]
     },
     "execution_count": 136,
     "metadata": {},
     "output_type": "execute_result"
    }
   ],
   "source": [
    "Data_pixel.head()"
   ]
  },
  {
   "cell_type": "code",
   "execution_count": 137,
   "metadata": {},
   "outputs": [],
   "source": [
    "Data_pixel = Data_pixel.drop(columns = [\"created_at\", \"coordinates\", \"user_location\", \"fav_count\", \n",
    "                  \"retweet_count\", \"user_id\", \"user_name\", \"user_utc_offset\", \"followers_count\",\n",
    "                  \"friends_count\"])"
   ]
  },
  {
   "cell_type": "code",
   "execution_count": 138,
   "metadata": {
    "scrolled": true
   },
   "outputs": [
    {
     "data": {
      "text/html": [
       "<div>\n",
       "<style scoped>\n",
       "    .dataframe tbody tr th:only-of-type {\n",
       "        vertical-align: middle;\n",
       "    }\n",
       "\n",
       "    .dataframe tbody tr th {\n",
       "        vertical-align: top;\n",
       "    }\n",
       "\n",
       "    .dataframe thead th {\n",
       "        text-align: right;\n",
       "    }\n",
       "</style>\n",
       "<table border=\"1\" class=\"dataframe\">\n",
       "  <thead>\n",
       "    <tr style=\"text-align: right;\">\n",
       "      <th></th>\n",
       "      <th>tweet_text</th>\n",
       "    </tr>\n",
       "  </thead>\n",
       "  <tbody>\n",
       "    <tr>\n",
       "      <th>0</th>\n",
       "      <td>\"All the pixel killers must be in church.\" - M...</td>\n",
       "    </tr>\n",
       "    <tr>\n",
       "      <th>1</th>\n",
       "      <td>\"Allah has the picture, we've only got a pixel...</td>\n",
       "    </tr>\n",
       "    <tr>\n",
       "      <th>2</th>\n",
       "      <td>\"Allow me to make that dinner reservation for ...</td>\n",
       "    </tr>\n",
       "    <tr>\n",
       "      <th>3</th>\n",
       "      <td>\"Allow me to make that dinner reservation for ...</td>\n",
       "    </tr>\n",
       "    <tr>\n",
       "      <th>4</th>\n",
       "      <td>\"Allow me to make that dinner reservation for ...</td>\n",
       "    </tr>\n",
       "  </tbody>\n",
       "</table>\n",
       "</div>"
      ],
      "text/plain": [
       "                                          tweet_text\n",
       "0  \"All the pixel killers must be in church.\" - M...\n",
       "1  \"Allah has the picture, we've only got a pixel...\n",
       "2  \"Allow me to make that dinner reservation for ...\n",
       "3  \"Allow me to make that dinner reservation for ...\n",
       "4  \"Allow me to make that dinner reservation for ..."
      ]
     },
     "execution_count": 138,
     "metadata": {},
     "output_type": "execute_result"
    }
   ],
   "source": [
    "Data_pixel.head()"
   ]
  },
  {
   "cell_type": "code",
   "execution_count": 139,
   "metadata": {
    "scrolled": false
   },
   "outputs": [
    {
     "data": {
      "text/plain": [
       "(6465, 1)"
      ]
     },
     "execution_count": 139,
     "metadata": {},
     "output_type": "execute_result"
    }
   ],
   "source": [
    "Data_pixel.shape"
   ]
  },
  {
   "cell_type": "code",
   "execution_count": 140,
   "metadata": {},
   "outputs": [
    {
     "data": {
      "text/html": [
       "<div>\n",
       "<style scoped>\n",
       "    .dataframe tbody tr th:only-of-type {\n",
       "        vertical-align: middle;\n",
       "    }\n",
       "\n",
       "    .dataframe tbody tr th {\n",
       "        vertical-align: top;\n",
       "    }\n",
       "\n",
       "    .dataframe thead th {\n",
       "        text-align: right;\n",
       "    }\n",
       "</style>\n",
       "<table border=\"1\" class=\"dataframe\">\n",
       "  <thead>\n",
       "    <tr style=\"text-align: right;\">\n",
       "      <th></th>\n",
       "      <th>tweet_text</th>\n",
       "    </tr>\n",
       "  </thead>\n",
       "  <tbody>\n",
       "    <tr>\n",
       "      <th>0</th>\n",
       "      <td>\"All the pixel killers must be in church.\" - M...</td>\n",
       "    </tr>\n",
       "    <tr>\n",
       "      <th>1</th>\n",
       "      <td>\"Allah has the picture, we've only got a pixel...</td>\n",
       "    </tr>\n",
       "    <tr>\n",
       "      <th>2</th>\n",
       "      <td>\"Allow me to make that dinner reservation for ...</td>\n",
       "    </tr>\n",
       "    <tr>\n",
       "      <th>3</th>\n",
       "      <td>\"Allow me to make that dinner reservation for ...</td>\n",
       "    </tr>\n",
       "    <tr>\n",
       "      <th>4</th>\n",
       "      <td>\"Allow me to make that dinner reservation for ...</td>\n",
       "    </tr>\n",
       "  </tbody>\n",
       "</table>\n",
       "</div>"
      ],
      "text/plain": [
       "                                          tweet_text\n",
       "0  \"All the pixel killers must be in church.\" - M...\n",
       "1  \"Allah has the picture, we've only got a pixel...\n",
       "2  \"Allow me to make that dinner reservation for ...\n",
       "3  \"Allow me to make that dinner reservation for ...\n",
       "4  \"Allow me to make that dinner reservation for ..."
      ]
     },
     "execution_count": 140,
     "metadata": {},
     "output_type": "execute_result"
    }
   ],
   "source": [
    "Data_pixel.head()"
   ]
  },
  {
   "cell_type": "markdown",
   "metadata": {},
   "source": [
    "## Average length of tweets"
   ]
  },
  {
   "cell_type": "code",
   "execution_count": 141,
   "metadata": {},
   "outputs": [],
   "source": [
    "Data_pixel['pre_clean_len'] = [len(t) for t in Data_pixel.tweet_text]"
   ]
  },
  {
   "cell_type": "code",
   "execution_count": 142,
   "metadata": {},
   "outputs": [
    {
     "data": {
      "text/plain": [
       "(6465, 2)"
      ]
     },
     "execution_count": 142,
     "metadata": {},
     "output_type": "execute_result"
    }
   ],
   "source": [
    "Data_pixel.shape"
   ]
  },
  {
   "cell_type": "code",
   "execution_count": 143,
   "metadata": {},
   "outputs": [],
   "source": [
    "df = Data_pixel"
   ]
  },
  {
   "cell_type": "code",
   "execution_count": 144,
   "metadata": {},
   "outputs": [
    {
     "data": {
      "image/png": "[encoded data removed]",
      "text/plain": [
       "<Figure size 360x360 with 1 Axes>"
      ]
     },
     "metadata": {},
     "output_type": "display_data"
    }
   ],
   "source": [
    "fig, ax = plt.subplots(figsize=(5, 5))\n",
    "plt.boxplot(df.pre_clean_len)\n",
    "plt.show()"
   ]
  },
  {
   "cell_type": "code",
   "execution_count": 145,
   "metadata": {},
   "outputs": [
    {
     "data": {
      "text/html": [
       "<div>\n",
       "<style scoped>\n",
       "    .dataframe tbody tr th:only-of-type {\n",
       "        vertical-align: middle;\n",
       "    }\n",
       "\n",
       "    .dataframe tbody tr th {\n",
       "        vertical-align: top;\n",
       "    }\n",
       "\n",
       "    .dataframe thead th {\n",
       "        text-align: right;\n",
       "    }\n",
       "</style>\n",
       "<table border=\"1\" class=\"dataframe\">\n",
       "  <thead>\n",
       "    <tr style=\"text-align: right;\">\n",
       "      <th></th>\n",
       "      <th>tweet_text</th>\n",
       "      <th>pre_clean_len</th>\n",
       "    </tr>\n",
       "  </thead>\n",
       "  <tbody>\n",
       "    <tr>\n",
       "      <th>0</th>\n",
       "      <td>\"All the pixel killers must be in church.\" - M...</td>\n",
       "      <td>95</td>\n",
       "    </tr>\n",
       "    <tr>\n",
       "      <th>1</th>\n",
       "      <td>\"Allah has the picture, we've only got a pixel...</td>\n",
       "      <td>69</td>\n",
       "    </tr>\n",
       "    <tr>\n",
       "      <th>2</th>\n",
       "      <td>\"Allow me to make that dinner reservation for ...</td>\n",
       "      <td>90</td>\n",
       "    </tr>\n",
       "    <tr>\n",
       "      <th>3</th>\n",
       "      <td>\"Allow me to make that dinner reservation for ...</td>\n",
       "      <td>90</td>\n",
       "    </tr>\n",
       "    <tr>\n",
       "      <th>4</th>\n",
       "      <td>\"Allow me to make that dinner reservation for ...</td>\n",
       "      <td>90</td>\n",
       "    </tr>\n",
       "  </tbody>\n",
       "</table>\n",
       "</div>"
      ],
      "text/plain": [
       "                                          tweet_text  pre_clean_len\n",
       "0  \"All the pixel killers must be in church.\" - M...             95\n",
       "1  \"Allah has the picture, we've only got a pixel...             69\n",
       "2  \"Allow me to make that dinner reservation for ...             90\n",
       "3  \"Allow me to make that dinner reservation for ...             90\n",
       "4  \"Allow me to make that dinner reservation for ...             90"
      ]
     },
     "execution_count": 145,
     "metadata": {},
     "output_type": "execute_result"
    }
   ],
   "source": [
    "df.head()"
   ]
  },
  {
   "cell_type": "code",
   "execution_count": 146,
   "metadata": {
    "scrolled": false
   },
   "outputs": [
    {
     "data": {
      "text/html": [
       "<div>\n",
       "<style scoped>\n",
       "    .dataframe tbody tr th:only-of-type {\n",
       "        vertical-align: middle;\n",
       "    }\n",
       "\n",
       "    .dataframe tbody tr th {\n",
       "        vertical-align: top;\n",
       "    }\n",
       "\n",
       "    .dataframe thead th {\n",
       "        text-align: right;\n",
       "    }\n",
       "</style>\n",
       "<table border=\"1\" class=\"dataframe\">\n",
       "  <thead>\n",
       "    <tr style=\"text-align: right;\">\n",
       "      <th></th>\n",
       "      <th>tweet_text</th>\n",
       "      <th>pre_clean_len</th>\n",
       "    </tr>\n",
       "  </thead>\n",
       "  <tbody>\n",
       "    <tr>\n",
       "      <th>68</th>\n",
       "      <td>#Splatoon2 #NintendoSwitch Looky what we have ...</td>\n",
       "      <td>143</td>\n",
       "    </tr>\n",
       "    <tr>\n",
       "      <th>128</th>\n",
       "      <td>--&amp;gt; The abyss waves back.\\n\\nthing for @Fle...</td>\n",
       "      <td>143</td>\n",
       "    </tr>\n",
       "    <tr>\n",
       "      <th>252</th>\n",
       "      <td>@AndroidAuth @DGiTDaily\\nDone all steps ☑️ ☑️\\...</td>\n",
       "      <td>144</td>\n",
       "    </tr>\n",
       "    <tr>\n",
       "      <th>319</th>\n",
       "      <td>@BestBuy you took money for your pixel 3xl and...</td>\n",
       "      <td>144</td>\n",
       "    </tr>\n",
       "    <tr>\n",
       "      <th>402</th>\n",
       "      <td>@DatNaturalHigh try this one. It's the one I'v...</td>\n",
       "      <td>144</td>\n",
       "    </tr>\n",
       "    <tr>\n",
       "      <th>505</th>\n",
       "      <td>@Hipsterrrific Because no one will buy Samsung...</td>\n",
       "      <td>144</td>\n",
       "    </tr>\n",
       "    <tr>\n",
       "      <th>613</th>\n",
       "      <td>@LAGTVMB It’s not you Jeoff. There’s some doub...</td>\n",
       "      <td>144</td>\n",
       "    </tr>\n",
       "    <tr>\n",
       "      <th>1522</th>\n",
       "      <td>@nmiltner Our last 2 phones for the kids were ...</td>\n",
       "      <td>144</td>\n",
       "    </tr>\n",
       "    <tr>\n",
       "      <th>1700</th>\n",
       "      <td>@sramkrishna @ebassi I guess some people are u...</td>\n",
       "      <td>144</td>\n",
       "    </tr>\n",
       "    <tr>\n",
       "      <th>1703</th>\n",
       "      <td>@stephn_r @madebygoogle Good luck. All the loy...</td>\n",
       "      <td>144</td>\n",
       "    </tr>\n",
       "  </tbody>\n",
       "</table>\n",
       "</div>"
      ],
      "text/plain": [
       "                                             tweet_text  pre_clean_len\n",
       "68    #Splatoon2 #NintendoSwitch Looky what we have ...            143\n",
       "128   --&gt; The abyss waves back.\\n\\nthing for @Fle...            143\n",
       "252   @AndroidAuth @DGiTDaily\\nDone all steps ☑️ ☑️\\...            144\n",
       "319   @BestBuy you took money for your pixel 3xl and...            144\n",
       "402   @DatNaturalHigh try this one. It's the one I'v...            144\n",
       "505   @Hipsterrrific Because no one will buy Samsung...            144\n",
       "613   @LAGTVMB It’s not you Jeoff. There’s some doub...            144\n",
       "1522  @nmiltner Our last 2 phones for the kids were ...            144\n",
       "1700  @sramkrishna @ebassi I guess some people are u...            144\n",
       "1703  @stephn_r @madebygoogle Good luck. All the loy...            144"
      ]
     },
     "execution_count": 146,
     "metadata": {},
     "output_type": "execute_result"
    }
   ],
   "source": [
    "df[df.pre_clean_len > 140].head(10)\n"
   ]
  },
  {
   "cell_type": "markdown",
   "metadata": {},
   "source": [
    "## Look for NULL values"
   ]
  },
  {
   "cell_type": "code",
   "execution_count": 147,
   "metadata": {},
   "outputs": [
    {
     "data": {
      "text/plain": [
       "0"
      ]
     },
     "execution_count": 147,
     "metadata": {},
     "output_type": "execute_result"
    }
   ],
   "source": [
    "# Check for null values\n",
    "np.sum(df.isnull().any(axis=1))"
   ]
  },
  {
   "cell_type": "code",
   "execution_count": 148,
   "metadata": {},
   "outputs": [
    {
     "name": "stdout",
     "output_type": "stream",
     "text": [
      "<class 'pandas.core.frame.DataFrame'>\n",
      "Int64Index: 6465 entries, 0 to 10892\n",
      "Data columns (total 2 columns):\n",
      "tweet_text       6465 non-null object\n",
      "pre_clean_len    6465 non-null int64\n",
      "dtypes: int64(1), object(1)\n",
      "memory usage: 151.5+ KB\n"
     ]
    }
   ],
   "source": [
    "#drop null values\n",
    "#training.dropna(inplace=True)\n",
    "#training.reset_index(drop=True,inplace=True)\n",
    "df.info()"
   ]
  },
  {
   "cell_type": "markdown",
   "metadata": {},
   "source": [
    "# Data Cleaning"
   ]
  },
  {
   "cell_type": "markdown",
   "metadata": {},
   "source": [
    "## Decode HTML to general text"
   ]
  },
  {
   "cell_type": "code",
   "execution_count": 158,
   "metadata": {},
   "outputs": [
    {
     "name": "stdout",
     "output_type": "stream",
     "text": [
      "#pixel #pixel2 #maldivesislands #malecity # nightlights @ Male, Maldives https://t.co/pqwZ56ZFdb\n"
     ]
    }
   ],
   "source": [
    "# Decoding HTML to general text\n",
    "from bs4 import BeautifulSoup\n",
    "sample = BeautifulSoup(df.tweet_text[100], 'lxml')\n",
    "print(sample.get_text())"
   ]
  },
  {
   "cell_type": "markdown",
   "metadata": {},
   "source": [
    "## Remove '@’"
   ]
  },
  {
   "cell_type": "code",
   "execution_count": 159,
   "metadata": {},
   "outputs": [
    {
     "data": {
      "text/plain": [
       "'#my_2ndpost\\nI Learn Editing From @piximperfect \\nI Edit On @Photoshop \\n#portraits #portrait #portraits_ig  #pixel_ig… https://t.co/an2xx0HonJ'"
      ]
     },
     "execution_count": 159,
     "metadata": {},
     "output_type": "execute_result"
    }
   ],
   "source": [
    "df.tweet_text[85]"
   ]
  },
  {
   "cell_type": "code",
   "execution_count": 160,
   "metadata": {
    "scrolled": true
   },
   "outputs": [
    {
     "data": {
      "text/plain": [
       "'#my_2ndpost\\nI Learn Editing From  \\nI Edit On  \\n#portraits #portrait #portraits_ig  #pixel_ig… https://t.co/an2xx0HonJ'"
      ]
     },
     "execution_count": 160,
     "metadata": {},
     "output_type": "execute_result"
    }
   ],
   "source": [
    "# Remove '@’mention\n",
    "import re\n",
    "re.sub(r'@[A-Za-z0-9]+','',df.tweet_text[85])"
   ]
  },
  {
   "cell_type": "markdown",
   "metadata": {},
   "source": [
    "## Remove URL links"
   ]
  },
  {
   "cell_type": "code",
   "execution_count": 162,
   "metadata": {},
   "outputs": [
    {
     "data": {
      "text/plain": [
       "'#my_2ndpost\\nI Learn Editing From @piximperfect \\nI Edit On @Photoshop \\n#portraits #portrait #portraits_ig  #pixel_ig… https://t.co/an2xx0HonJ'"
      ]
     },
     "execution_count": 162,
     "metadata": {},
     "output_type": "execute_result"
    }
   ],
   "source": [
    "# Remove URL links\n",
    "df.tweet_text[85]"
   ]
  },
  {
   "cell_type": "code",
   "execution_count": 163,
   "metadata": {
    "scrolled": true
   },
   "outputs": [
    {
     "data": {
      "text/plain": [
       "'#my_2ndpost\\nI Learn Editing From @piximperfect \\nI Edit On @Photoshop \\n#portraits #portrait #portraits_ig  #pixel_ig… '"
      ]
     },
     "execution_count": 163,
     "metadata": {},
     "output_type": "execute_result"
    }
   ],
   "source": [
    "re.sub('https?://[A-Za-z0-9./]+','',df.tweet_text[85])"
   ]
  },
  {
   "cell_type": "markdown",
   "metadata": {},
   "source": [
    "## remove hashtag / numbers (Remove \"#\" and retain the text)"
   ]
  },
  {
   "cell_type": "code",
   "execution_count": 165,
   "metadata": {},
   "outputs": [
    {
     "data": {
      "text/plain": [
       "'#my_2ndpost\\nI Learn Editing From @piximperfect \\nI Edit On @Photoshop \\n#portraits #portrait #portraits_ig  #pixel_ig… https://t.co/an2xx0HonJ'"
      ]
     },
     "execution_count": 165,
     "metadata": {},
     "output_type": "execute_result"
    }
   ],
   "source": [
    "# remove hashtag / numbers. Remove \"#\" and retain the text\n",
    "\n",
    "df.tweet_text[85]"
   ]
  },
  {
   "cell_type": "code",
   "execution_count": 167,
   "metadata": {},
   "outputs": [
    {
     "data": {
      "text/plain": [
       "' my  ndpost I Learn Editing From  piximperfect  I Edit On  Photoshop   portraits  portrait  portraits ig   pixel ig  https   t co an xx HonJ'"
      ]
     },
     "execution_count": 167,
     "metadata": {},
     "output_type": "execute_result"
    }
   ],
   "source": [
    "re.sub(\"[^a-zA-Z]\", \" \", df.tweet_text[85])"
   ]
  },
  {
   "cell_type": "markdown",
   "metadata": {},
   "source": [
    "## Function for Data Cleaning - Can use in Machine Learning pipeline"
   ]
  },
  {
   "cell_type": "code",
   "execution_count": 170,
   "metadata": {},
   "outputs": [
    {
     "data": {
      "text/plain": [
       "['all the pixel killers must be in church my husband as he s waiting for a que in blackops',\n",
       " 'allah has the picture we ve only got a pixel always reassuring',\n",
       " 'allow me to make that dinner reservation for you google s bot',\n",
       " 'allow me to make that dinner reservation for you google s bot',\n",
       " 'allow me to make that dinner reservation for you google s bot',\n",
       " 'an obsession with pixel perfect rendering is futile',\n",
       " 'better late than never dailies broken pixel dailies pixelart',\n",
       " 'come back button masher w pixel art by myself via',\n",
       " 'candy axe pixel art animation by me requested by',\n",
       " 'christmas tree pixel art animation by me']"
      ]
     },
     "execution_count": 170,
     "metadata": {},
     "output_type": "execute_result"
    }
   ],
   "source": [
    "from nltk.tokenize import WordPunctTokenizer\n",
    "tok = WordPunctTokenizer()\n",
    "\n",
    "def cleaner(text):\n",
    "    soup = BeautifulSoup(text, 'lxml')\n",
    "    souped_text = soup.get_text()\n",
    "    text_rmat = re.sub(r'@[A-Za-z0-9]+','', souped_text)\n",
    "    text_rmurl = re.sub('https?://[A-Za-z0-9./]+','',text_rmat)\n",
    "    text_rmwww = re.sub(r'www.[^ ]+','',text_rmurl)\n",
    "    text_rmhash = re.sub(\"[^a-zA-Z]\", \" \", text_rmwww)\n",
    "    text_lower = text_rmhash.lower()\n",
    "    \n",
    "    # tokenize and join together to remove unneccessary white spaces\n",
    "    text_words = tok.tokenize(text_lower)\n",
    "    return (\" \".join(text_words)).strip()\n",
    "testing = df.tweet_text[:10]\n",
    "test_result = []\n",
    "for t in testing:\n",
    "    test_result.append(cleaner(t))\n",
    "test_result"
   ]
  },
  {
   "cell_type": "markdown",
   "metadata": {},
   "source": [
    "Below is the updated datacleaning function. The order of the cleaning is\n",
    "\n",
    "- Souping\n",
    "- BOM removing\n",
    "- url address(‘http:’pattern), twitter ID removing\n",
    "- url address(‘www.'pattern) removing\n",
    "- lower-case\n",
    "- removing numbers and special characters\n",
    "- tokenizing and joining"
   ]
  },
  {
   "cell_type": "markdown",
   "metadata": {},
   "source": [
    "## Check for NULL Values after cleaning"
   ]
  },
  {
   "cell_type": "code",
   "execution_count": 172,
   "metadata": {},
   "outputs": [
    {
     "data": {
      "text/plain": [
       "0"
      ]
     },
     "execution_count": 172,
     "metadata": {},
     "output_type": "execute_result"
    }
   ],
   "source": [
    "# Check for null values\n",
    "np.sum(df.isnull().any(axis=1))"
   ]
  },
  {
   "cell_type": "code",
   "execution_count": 173,
   "metadata": {},
   "outputs": [
    {
     "name": "stdout",
     "output_type": "stream",
     "text": [
      "<class 'pandas.core.frame.DataFrame'>\n",
      "Int64Index: 6465 entries, 0 to 10892\n",
      "Data columns (total 2 columns):\n",
      "tweet_text       6465 non-null object\n",
      "pre_clean_len    6465 non-null int64\n",
      "dtypes: int64(1), object(1)\n",
      "memory usage: 471.5+ KB\n"
     ]
    }
   ],
   "source": [
    "#drop null values\n",
    "#training.dropna(inplace=True)\n",
    "#training.reset_index(drop=True,inplace=True)\n",
    "df.info()"
   ]
  },
  {
   "cell_type": "code",
   "execution_count": null,
   "metadata": {},
   "outputs": [],
   "source": []
  },
  {
   "cell_type": "markdown",
   "metadata": {},
   "source": [
    "## Number of tweets in the time frame for different models"
   ]
  },
  {
   "cell_type": "markdown",
   "metadata": {},
   "source": []
  },
  {
   "cell_type": "markdown",
   "metadata": {},
   "source": [
    "# Data Preprocessing"
   ]
  },
  {
   "cell_type": "markdown",
   "metadata": {
    "scrolled": true
   },
   "source": [
    "Data pre-processing steps:\n",
    "    - tockenization\n",
    "    - Stemming\n",
    "    - lemmatization\n",
    "    - stop words removal\n",
    "will be carried out inside pipeline"
   ]
  },
  {
   "cell_type": "markdown",
   "metadata": {},
   "source": [
    "# Training Data split"
   ]
  },
  {
   "cell_type": "code",
   "execution_count": 176,
   "metadata": {},
   "outputs": [],
   "source": [
    "training = pd.read_csv(\"training.1600000.processed.noemoticon.csv\", names=[\"polarity\", \"tid\", \"date\", \"query\", \"user\", \"text\"], encoding=\"latin1\")"
   ]
  },
  {
   "cell_type": "code",
   "execution_count": 77,
   "metadata": {},
   "outputs": [],
   "source": [
    "#from sklearn.feature_extraction.text import TfidfVectorizer\n",
    "\n",
    "#tv = TfidfVectorizer(min_df=50)\n",
    "#X = tv.fit_transform(training['text'])"
   ]
  },
  {
   "cell_type": "code",
   "execution_count": 177,
   "metadata": {
    "scrolled": false
   },
   "outputs": [
    {
     "data": {
      "text/plain": [
       "(1600000, 6)"
      ]
     },
     "execution_count": 177,
     "metadata": {},
     "output_type": "execute_result"
    }
   ],
   "source": [
    "training.shape"
   ]
  },
  {
   "cell_type": "code",
   "execution_count": 201,
   "metadata": {
    "scrolled": true
   },
   "outputs": [
    {
     "data": {
      "text/html": [
       "<div>\n",
       "<style scoped>\n",
       "    .dataframe tbody tr th:only-of-type {\n",
       "        vertical-align: middle;\n",
       "    }\n",
       "\n",
       "    .dataframe tbody tr th {\n",
       "        vertical-align: top;\n",
       "    }\n",
       "\n",
       "    .dataframe thead th {\n",
       "        text-align: right;\n",
       "    }\n",
       "</style>\n",
       "<table border=\"1\" class=\"dataframe\">\n",
       "  <thead>\n",
       "    <tr style=\"text-align: right;\">\n",
       "      <th></th>\n",
       "      <th>polarity</th>\n",
       "      <th>tid</th>\n",
       "      <th>date</th>\n",
       "      <th>query</th>\n",
       "      <th>user</th>\n",
       "      <th>text</th>\n",
       "    </tr>\n",
       "  </thead>\n",
       "  <tbody>\n",
       "    <tr>\n",
       "      <th>1599995</th>\n",
       "      <td>4</td>\n",
       "      <td>2193601966</td>\n",
       "      <td>Tue Jun 16 08:40:49 PDT 2009</td>\n",
       "      <td>NO_QUERY</td>\n",
       "      <td>AmandaMarie1028</td>\n",
       "      <td>Just woke up. Having no school is the best fee...</td>\n",
       "    </tr>\n",
       "    <tr>\n",
       "      <th>1599996</th>\n",
       "      <td>4</td>\n",
       "      <td>2193601969</td>\n",
       "      <td>Tue Jun 16 08:40:49 PDT 2009</td>\n",
       "      <td>NO_QUERY</td>\n",
       "      <td>TheWDBoards</td>\n",
       "      <td>TheWDB.com - Very cool to hear old Walt interv...</td>\n",
       "    </tr>\n",
       "    <tr>\n",
       "      <th>1599997</th>\n",
       "      <td>4</td>\n",
       "      <td>2193601991</td>\n",
       "      <td>Tue Jun 16 08:40:49 PDT 2009</td>\n",
       "      <td>NO_QUERY</td>\n",
       "      <td>bpbabe</td>\n",
       "      <td>Are you ready for your MoJo Makeover? Ask me f...</td>\n",
       "    </tr>\n",
       "    <tr>\n",
       "      <th>1599998</th>\n",
       "      <td>4</td>\n",
       "      <td>2193602064</td>\n",
       "      <td>Tue Jun 16 08:40:49 PDT 2009</td>\n",
       "      <td>NO_QUERY</td>\n",
       "      <td>tinydiamondz</td>\n",
       "      <td>Happy 38th Birthday to my boo of alll time!!! ...</td>\n",
       "    </tr>\n",
       "    <tr>\n",
       "      <th>1599999</th>\n",
       "      <td>4</td>\n",
       "      <td>2193602129</td>\n",
       "      <td>Tue Jun 16 08:40:50 PDT 2009</td>\n",
       "      <td>NO_QUERY</td>\n",
       "      <td>RyanTrevMorris</td>\n",
       "      <td>happy #charitytuesday @theNSPCC @SparksCharity...</td>\n",
       "    </tr>\n",
       "  </tbody>\n",
       "</table>\n",
       "</div>"
      ],
      "text/plain": [
       "         polarity         tid                          date     query  \\\n",
       "1599995         4  2193601966  Tue Jun 16 08:40:49 PDT 2009  NO_QUERY   \n",
       "1599996         4  2193601969  Tue Jun 16 08:40:49 PDT 2009  NO_QUERY   \n",
       "1599997         4  2193601991  Tue Jun 16 08:40:49 PDT 2009  NO_QUERY   \n",
       "1599998         4  2193602064  Tue Jun 16 08:40:49 PDT 2009  NO_QUERY   \n",
       "1599999         4  2193602129  Tue Jun 16 08:40:50 PDT 2009  NO_QUERY   \n",
       "\n",
       "                    user                                               text  \n",
       "1599995  AmandaMarie1028  Just woke up. Having no school is the best fee...  \n",
       "1599996      TheWDBoards  TheWDB.com - Very cool to hear old Walt interv...  \n",
       "1599997           bpbabe  Are you ready for your MoJo Makeover? Ask me f...  \n",
       "1599998     tinydiamondz  Happy 38th Birthday to my boo of alll time!!! ...  \n",
       "1599999   RyanTrevMorris  happy #charitytuesday @theNSPCC @SparksCharity...  "
      ]
     },
     "execution_count": 201,
     "metadata": {},
     "output_type": "execute_result"
    }
   ],
   "source": [
    "training.tail()"
   ]
  },
  {
   "cell_type": "code",
   "execution_count": 184,
   "metadata": {},
   "outputs": [],
   "source": [
    "X = training['text']\n",
    "y = training['polarity']"
   ]
  },
  {
   "cell_type": "code",
   "execution_count": 185,
   "metadata": {},
   "outputs": [
    {
     "data": {
      "text/plain": [
       "0    @switchfoot http://twitpic.com/2y1zl - Awww, t...\n",
       "1    is upset that he can't update his Facebook by ...\n",
       "2    @Kenichan I dived many times for the ball. Man...\n",
       "3      my whole body feels itchy and like its on fire \n",
       "4    @nationwideclass no, it's not behaving at all....\n",
       "Name: text, dtype: object"
      ]
     },
     "execution_count": 185,
     "metadata": {},
     "output_type": "execute_result"
    }
   ],
   "source": [
    "X.head()"
   ]
  },
  {
   "cell_type": "code",
   "execution_count": 186,
   "metadata": {
    "scrolled": true
   },
   "outputs": [
    {
     "data": {
      "text/plain": [
       "0    0\n",
       "1    0\n",
       "2    0\n",
       "3    0\n",
       "4    0\n",
       "Name: polarity, dtype: int64"
      ]
     },
     "execution_count": 186,
     "metadata": {},
     "output_type": "execute_result"
    }
   ],
   "source": [
    "y.head()"
   ]
  },
  {
   "cell_type": "code",
   "execution_count": 188,
   "metadata": {},
   "outputs": [],
   "source": [
    "from sklearn.utils import shuffle\n",
    "\n",
    "X, y = shuffle(X, y)\n",
    "\n",
    "X, y = X[:1000], y[:1000]"
   ]
  },
  {
   "cell_type": "code",
   "execution_count": 189,
   "metadata": {},
   "outputs": [],
   "source": [
    "from sklearn.svm import SVC\n",
    "from sklearn.model_selection import train_test_split\n",
    "X_train, X_test, y_train, y_test = train_test_split(X, y, test_size=0.25, random_state=3057)\n"
   ]
  },
  {
   "cell_type": "markdown",
   "metadata": {},
   "source": [
    "# Baseline models"
   ]
  },
  {
   "cell_type": "markdown",
   "metadata": {},
   "source": [
    "## Blind prediction"
   ]
  },
  {
   "cell_type": "markdown",
   "metadata": {},
   "source": [
    "If a classifier predicts negative for every validation data, it will get 47.6% accuracy."
   ]
  },
  {
   "cell_type": "code",
   "execution_count": 200,
   "metadata": {},
   "outputs": [
    {
     "name": "stdout",
     "output_type": "stream",
     "text": [
      "Length of training data: 750\n",
      "Training - Negative polarity percentage: 51.6\n",
      "Traiing - Positive polarity percentage: 48.4\n"
     ]
    }
   ],
   "source": [
    "#print(\"Train set has total {0} entries with {1:.2f}% negative, {2:.2f}% positive\".format(len(X_train),len(X_train[y_train == 0]) / (len(X_train)*1.))*100, len(X_train[y_train == 1]) / (len(X_train)*1.))*100))\n",
    "print(\"Length of training data:\", len(X_train))\n",
    "print(\"Training - Negative polarity percentage:\", len(X_train[y_train == 0]) / (len(X_train)*1.)*100)\n",
    "print(\"Traiing - Positive polarity percentage:\", len(X_train[y_train == 4]) / (len(X_train)*1.)*100)"
   ]
  },
  {
   "cell_type": "code",
   "execution_count": 202,
   "metadata": {},
   "outputs": [
    {
     "name": "stdout",
     "output_type": "stream",
     "text": [
      "Length of test data: 250\n",
      "Test - Negative polarity percentage: 47.599999999999994\n",
      "Test - Positive polarity percentage: 52.400000000000006\n"
     ]
    }
   ],
   "source": [
    "print(\"Length of test data:\", len(X_test))\n",
    "print(\"Test - Negative polarity percentage:\", len(X_test[y_test == 0]) / (len(X_test)*1.)*100)\n",
    "print(\"Test - Positive polarity percentage:\", len(X_test[y_test == 4]) / (len(X_test)*1.)*100)"
   ]
  },
  {
   "cell_type": "markdown",
   "metadata": {},
   "source": [
    "## Using Afinn"
   ]
  },
  {
   "cell_type": "code",
   "execution_count": 209,
   "metadata": {},
   "outputs": [],
   "source": [
    "from afinn import Afinn"
   ]
  },
  {
   "cell_type": "code",
   "execution_count": 210,
   "metadata": {},
   "outputs": [],
   "source": [
    "afinn = Afinn()"
   ]
  },
  {
   "cell_type": "code",
   "execution_count": 244,
   "metadata": {},
   "outputs": [],
   "source": [
    "#index = [i for i in range(1, len(X_train)+1)]\n",
    "#X_train_afinn = pd.DataFrame(X_train, index = [index], columns = \"text\")\n",
    "X_train_afinn = pd.DataFrame({'text':X_train[:]})"
   ]
  },
  {
   "cell_type": "code",
   "execution_count": 245,
   "metadata": {},
   "outputs": [
    {
     "data": {
      "text/html": [
       "<div>\n",
       "<style scoped>\n",
       "    .dataframe tbody tr th:only-of-type {\n",
       "        vertical-align: middle;\n",
       "    }\n",
       "\n",
       "    .dataframe tbody tr th {\n",
       "        vertical-align: top;\n",
       "    }\n",
       "\n",
       "    .dataframe thead th {\n",
       "        text-align: right;\n",
       "    }\n",
       "</style>\n",
       "<table border=\"1\" class=\"dataframe\">\n",
       "  <thead>\n",
       "    <tr style=\"text-align: right;\">\n",
       "      <th></th>\n",
       "      <th>text</th>\n",
       "    </tr>\n",
       "  </thead>\n",
       "  <tbody>\n",
       "    <tr>\n",
       "      <th>933432</th>\n",
       "      <td>@loadsoflaundry Thanks for the tweet!</td>\n",
       "    </tr>\n",
       "    <tr>\n",
       "      <th>1482268</th>\n",
       "      <td>@carolyngalvante it should!  did u register al...</td>\n",
       "    </tr>\n",
       "    <tr>\n",
       "      <th>1151939</th>\n",
       "      <td>Goodnight tweeps!  If u need me while im gone,...</td>\n",
       "    </tr>\n",
       "    <tr>\n",
       "      <th>673810</th>\n",
       "      <td>Still working, been on it since 9pm with a qui...</td>\n",
       "    </tr>\n",
       "    <tr>\n",
       "      <th>61303</th>\n",
       "      <td>eating scrambled egg!! i need a sunday dinner!!</td>\n",
       "    </tr>\n",
       "  </tbody>\n",
       "</table>\n",
       "</div>"
      ],
      "text/plain": [
       "                                                      text\n",
       "933432              @loadsoflaundry Thanks for the tweet! \n",
       "1482268  @carolyngalvante it should!  did u register al...\n",
       "1151939  Goodnight tweeps!  If u need me while im gone,...\n",
       "673810   Still working, been on it since 9pm with a qui...\n",
       "61303     eating scrambled egg!! i need a sunday dinner!! "
      ]
     },
     "execution_count": 245,
     "metadata": {},
     "output_type": "execute_result"
    }
   ],
   "source": [
    "X_train_afinn.head()"
   ]
  },
  {
   "cell_type": "code",
   "execution_count": 246,
   "metadata": {},
   "outputs": [
    {
     "data": {
      "text/plain": [
       "[2.0, 0.0, 5.0, 0.0, 0.0]"
      ]
     },
     "execution_count": 246,
     "metadata": {},
     "output_type": "execute_result"
    }
   ],
   "source": [
    "pscore = []\n",
    "\n",
    "for text in X_train_afinn[\"text\"]:\n",
    "    pscore.append(afinn.score(text))\n",
    "    \n",
    "pscore[:5]"
   ]
  },
  {
   "cell_type": "code",
   "execution_count": 247,
   "metadata": {},
   "outputs": [
    {
     "data": {
      "text/html": [
       "<div>\n",
       "<style scoped>\n",
       "    .dataframe tbody tr th:only-of-type {\n",
       "        vertical-align: middle;\n",
       "    }\n",
       "\n",
       "    .dataframe tbody tr th {\n",
       "        vertical-align: top;\n",
       "    }\n",
       "\n",
       "    .dataframe thead th {\n",
       "        text-align: right;\n",
       "    }\n",
       "</style>\n",
       "<table border=\"1\" class=\"dataframe\">\n",
       "  <thead>\n",
       "    <tr style=\"text-align: right;\">\n",
       "      <th></th>\n",
       "      <th>text</th>\n",
       "      <th>pscore</th>\n",
       "    </tr>\n",
       "  </thead>\n",
       "  <tbody>\n",
       "    <tr>\n",
       "      <th>933432</th>\n",
       "      <td>@loadsoflaundry Thanks for the tweet!</td>\n",
       "      <td>2.0</td>\n",
       "    </tr>\n",
       "    <tr>\n",
       "      <th>1482268</th>\n",
       "      <td>@carolyngalvante it should!  did u register al...</td>\n",
       "      <td>0.0</td>\n",
       "    </tr>\n",
       "    <tr>\n",
       "      <th>1151939</th>\n",
       "      <td>Goodnight tweeps!  If u need me while im gone,...</td>\n",
       "      <td>5.0</td>\n",
       "    </tr>\n",
       "    <tr>\n",
       "      <th>673810</th>\n",
       "      <td>Still working, been on it since 9pm with a qui...</td>\n",
       "      <td>0.0</td>\n",
       "    </tr>\n",
       "    <tr>\n",
       "      <th>61303</th>\n",
       "      <td>eating scrambled egg!! i need a sunday dinner!!</td>\n",
       "      <td>0.0</td>\n",
       "    </tr>\n",
       "  </tbody>\n",
       "</table>\n",
       "</div>"
      ],
      "text/plain": [
       "                                                      text  pscore\n",
       "933432              @loadsoflaundry Thanks for the tweet!      2.0\n",
       "1482268  @carolyngalvante it should!  did u register al...     0.0\n",
       "1151939  Goodnight tweeps!  If u need me while im gone,...     5.0\n",
       "673810   Still working, been on it since 9pm with a qui...     0.0\n",
       "61303     eating scrambled egg!! i need a sunday dinner!!      0.0"
      ]
     },
     "execution_count": 247,
     "metadata": {},
     "output_type": "execute_result"
    }
   ],
   "source": [
    "X_train_afinn['pscore'] = pscore\n",
    "X_train_afinn.head()"
   ]
  },
  {
   "cell_type": "code",
   "execution_count": 248,
   "metadata": {},
   "outputs": [
    {
     "data": {
      "image/png": "[encoded data removed]",
      "text/plain": [
       "<Figure size 432x288 with 1 Axes>"
      ]
     },
     "metadata": {},
     "output_type": "display_data"
    }
   ],
   "source": [
    "%matplotlib inline\n",
    "import matplotlib.pyplot as plt\n",
    "\n",
    "plt.boxplot([X_train_afinn['pscore']],labels=[\"Pixel\"])\n",
    "plt.show()"
   ]
  },
  {
   "cell_type": "code",
   "execution_count": 256,
   "metadata": {},
   "outputs": [
    {
     "name": "stdout",
     "output_type": "stream",
     "text": [
      "Positive Polarity\n",
      "--------------------------------------------------\n"
     ]
    }
   ],
   "source": [
    "print(\"Positive Polarity\")\n",
    "print(\"-\"*50)\n",
    "pos_pscore = 0\n",
    "dfin = X_train_afinn.sort_values(by='pscore')\n",
    "for index, row in dfin.iterrows():\n",
    "    #print((row['tweet_text'], row['pscore']))\n",
    "    if row['pscore']>0:\n",
    "        row['pscore']=4\n",
    "    #print(\"*\"*50)\n",
    "#pospol_score = pos_pscore/len(dataNov25fin)\n",
    "#print(pospol_score)"
   ]
  },
  {
   "cell_type": "code",
   "execution_count": 257,
   "metadata": {},
   "outputs": [
    {
     "data": {
      "text/html": [
       "<div>\n",
       "<style scoped>\n",
       "    .dataframe tbody tr th:only-of-type {\n",
       "        vertical-align: middle;\n",
       "    }\n",
       "\n",
       "    .dataframe tbody tr th {\n",
       "        vertical-align: top;\n",
       "    }\n",
       "\n",
       "    .dataframe thead th {\n",
       "        text-align: right;\n",
       "    }\n",
       "</style>\n",
       "<table border=\"1\" class=\"dataframe\">\n",
       "  <thead>\n",
       "    <tr style=\"text-align: right;\">\n",
       "      <th></th>\n",
       "      <th>text</th>\n",
       "      <th>pscore</th>\n",
       "    </tr>\n",
       "  </thead>\n",
       "  <tbody>\n",
       "    <tr>\n",
       "      <th>1232253</th>\n",
       "      <td>I'm no longer gonna punch ppl in the face now ...</td>\n",
       "      <td>-15.0</td>\n",
       "    </tr>\n",
       "    <tr>\n",
       "      <th>528335</th>\n",
       "      <td>@davidwhittam That is HORRIBLE and you are evi...</td>\n",
       "      <td>-9.0</td>\n",
       "    </tr>\n",
       "    <tr>\n",
       "      <th>353285</th>\n",
       "      <td>@katiebug1112 HELLO! Nothing happened. Got an ...</td>\n",
       "      <td>-8.0</td>\n",
       "    </tr>\n",
       "    <tr>\n",
       "      <th>186095</th>\n",
       "      <td>There was a thunderstorm yesterday and my poor...</td>\n",
       "      <td>-8.0</td>\n",
       "    </tr>\n",
       "    <tr>\n",
       "      <th>583372</th>\n",
       "      <td>UGH I HATE THUNDERSTORMS OMG AND THERE WAS A T...</td>\n",
       "      <td>-8.0</td>\n",
       "    </tr>\n",
       "  </tbody>\n",
       "</table>\n",
       "</div>"
      ],
      "text/plain": [
       "                                                      text  pscore\n",
       "1232253  I'm no longer gonna punch ppl in the face now ...   -15.0\n",
       "528335   @davidwhittam That is HORRIBLE and you are evi...    -9.0\n",
       "353285   @katiebug1112 HELLO! Nothing happened. Got an ...    -8.0\n",
       "186095   There was a thunderstorm yesterday and my poor...    -8.0\n",
       "583372   UGH I HATE THUNDERSTORMS OMG AND THERE WAS A T...    -8.0"
      ]
     },
     "execution_count": 257,
     "metadata": {},
     "output_type": "execute_result"
    }
   ],
   "source": [
    "dfin.head()"
   ]
  },
  {
   "cell_type": "code",
   "execution_count": 230,
   "metadata": {
    "scrolled": false
   },
   "outputs": [
    {
     "name": "stdout",
     "output_type": "stream",
     "text": [
      "Negative Polarity\n",
      "--------------------------------------------------\n"
     ]
    }
   ],
   "source": [
    "print(\"Negative Polarity\")\n",
    "print(\"-\"*50)\n",
    "neg_pscore = 0\n",
    "dataNov25fin = df.sort_values(by='pscore')\n",
    "for index, row in dataNov25fin.iterrows():\n",
    "    #print((row['tweet_text'], row['pscore']))\n",
    "    if row['pscore']<0:\n",
    "        row['pscore']=0\n",
    "    #print(\"*\"*50)\n",
    "#negpol_score = neg_pscore/len(dataNov25fin)\n",
    "#print(negpol_score)"
   ]
  },
  {
   "cell_type": "code",
   "execution_count": 231,
   "metadata": {},
   "outputs": [
    {
     "data": {
      "text/plain": [
       "(6465, 3)"
      ]
     },
     "execution_count": 231,
     "metadata": {},
     "output_type": "execute_result"
    }
   ],
   "source": [
    "df.shape"
   ]
  },
  {
   "cell_type": "code",
   "execution_count": null,
   "metadata": {},
   "outputs": [],
   "source": []
  },
  {
   "cell_type": "markdown",
   "metadata": {},
   "source": [
    "## Using textblob"
   ]
  },
  {
   "cell_type": "code",
   "execution_count": 4,
   "metadata": {
    "scrolled": true
   },
   "outputs": [],
   "source": [
    "trial = pd.read_csv(\"dataNov25final.csv\", index_col=0)\n",
    "trialtweet = trial"
   ]
  },
  {
   "cell_type": "code",
   "execution_count": 5,
   "metadata": {},
   "outputs": [],
   "source": [
    "trialtweet = trial['tweet_text'].values"
   ]
  },
  {
   "cell_type": "code",
   "execution_count": 6,
   "metadata": {},
   "outputs": [
    {
     "data": {
      "text/plain": [
       "'\"All the pixel killers must be in church.\" - My husband as he\\'s waiting for a que in blackops 4'"
      ]
     },
     "execution_count": 6,
     "metadata": {},
     "output_type": "execute_result"
    }
   ],
   "source": [
    "trialtweet[0]"
   ]
  },
  {
   "cell_type": "code",
   "execution_count": 27,
   "metadata": {},
   "outputs": [],
   "source": [
    "from textblob import TextBlob "
   ]
  },
  {
   "cell_type": "code",
   "execution_count": 40,
   "metadata": {},
   "outputs": [],
   "source": [
    "def get_tweet_sentiment(tweet): \n",
    "        ''' \n",
    "        Utility function to classify sentiment of passed tweet \n",
    "        using textblob's sentiment method \n",
    "        '''\n",
    "        # create TextBlob object of passed tweet text \n",
    "        analysis = TextBlob(tweet) \n",
    "        # set sentiment \n",
    "        if analysis.sentiment.polarity > 0: \n",
    "            return 'positive'\n",
    "        elif analysis.sentiment.polarity == 0: \n",
    "            return 'neutral'\n",
    "        else: \n",
    "            return 'negative'"
   ]
  },
  {
   "cell_type": "code",
   "execution_count": 45,
   "metadata": {},
   "outputs": [],
   "source": [
    "tweets = [] \n",
    "for tweet in trialtweet: \n",
    "    # empty dictionary to store required params of a tweet \n",
    "    parsed_tweet = {} \n",
    "  \n",
    "    # saving text of tweet \n",
    "    parsed_tweet['text'] = tweet\n",
    "    # saving sentiment of tweet \n",
    "    parsed_tweet['sentiment'] = get_tweet_sentiment(tweet)\n",
    "    tweets.append(parsed_tweet) \n",
    "  \n",
    "    "
   ]
  },
  {
   "cell_type": "code",
   "execution_count": 48,
   "metadata": {
    "scrolled": true
   },
   "outputs": [
    {
     "name": "stdout",
     "output_type": "stream",
     "text": [
      "Positive tweets percentage: 41.067285382830626 %\n",
      "Negative tweets percentage: 14.215003866976025 %\n",
      "\n",
      "\n",
      "Positive tweets:\n",
      "\"An obsession with pixel perfect rendering is futile.\"\n",
      "\n",
      "555 เจ็บปวดแต่จริง\n",
      "\"Far away fields are greener, but Irishness runs deep\"\n",
      "First attempt at pixel art!\n",
      "\n",
      "Let me know your opinions on it… https://t.co/jLzH4xTwmt\n",
      "\"I know not everyone can afford Paint and Aseprite, but worry not! #santria has got you covered for the most in-dep… https://t.co/jZ3gnHOK0c\n",
      "\"If you beat all the bonus stages you can get a super form and move super fast. Oh except you can still fall off th… https://t.co/PturN0hvcx\n",
      "\"Pixel Trapped: Halloween Fog\" #FREE Today https://t.co/mVzfKbDnzo #books https://t.co/AGnTIrtHyl\n",
      "\"Staff Of Light\" Pixel Art Animation by me. https://t.co/runTw4kBAR\n",
      "\"This looks like a cool game...right?\"\n",
      "\n",
      "#pixelart #pixel_art #pixelartist #pixel_artist #pixel #pixels https://t.co/STy4RDfdcV\n",
      "\"[Price mistake?] Pixel 3 and Pixel 3 XL glass screen protectors from Caseology are free right now\"  https://t.co/Vjtj46h8E2\n",
      "# Might be your lucky day 😁Google Pixel 3 XL giveaway @androidauth #giveaway @dgitdaily https://t.co/bkHMgF1P1g\n",
      "#3dprint : At Every Unique Voxel a Unique Design and Material Best Suited for That Point and Application. ... A vox… https://t.co/hLlljcxSnh\n",
      "\n",
      "\n",
      "Negative tweets:\n",
      "\"Better late than never.\"\n",
      "@Pixel_Dailies #broken #pixel_dailies #pixelart https://t.co/FORGfPIGuX\n",
      "#Google - #Pixel3Lite - Pixel 3 Lite (sargo) comparison with 6 other phones https://t.co/uffBwC85zH https://t.co/mIebVksQSa\n",
      "#SundayThoughts the pixel is hands down worst phone I've ever had. \n",
      "\n",
      "#pixel\n",
      "#fr why is sending a message on this dang site so daunting??  IT’S A PIXEL DRAGON GAME and yet i’m writing a messag… https://t.co/sgaKFIngXR\n",
      "#indiedev RT @zak_amana: c'mon slowpoke! Pokemon trainer for @Pixel_Dailies | 128x128 | 6 colours | #pixel_dailies… https://t.co/ihIWe3vEOi\n",
      "#pixel #gameart  RT @Conzeit: Not dead! just been taking stupid long to make this Peppino idle loop for a larger… https://t.co/O5GkeywmO3\n",
      "#pixel #gameart  RT @UnpackingALife: Pots and pans! Fun fact: Of all the items in the game, the pan is currently th… https://t.co/2qmiKzzhhi\n",
      "#pixel #gameart  RT @illufinch: kintsugi- repairing #broken things with gold. for todays #pixel_dailies… https://t.co/2QEKvFR27y\n",
      "#pixel #pixelart RT @NotCleverTom: A #broken phone screen upon seeing a repeated theme 😡😭. (Not really) I couldn’t… https://t.co/ubdwZjZkRJ\n",
      "#pixel #pixelart RT @illufinch: kintsugi- repairing #broken things with gold. for todays #pixel_dailies… https://t.co/7ekeWij6Fn\n"
     ]
    }
   ],
   "source": [
    "# picking positive tweets from tweets \n",
    "ptweets = [tweet for tweet in tweets if tweet['sentiment'] == 'positive'] \n",
    "# percentage of positive tweets \n",
    "print(\"Positive tweets percentage: {} %\".format(100*len(ptweets)/len(tweets))) \n",
    "# picking negative tweets from tweets \n",
    "ntweets = [tweet for tweet in tweets if tweet['sentiment'] == 'negative'] \n",
    "# percentage of negative tweets \n",
    "print(\"Negative tweets percentage: {} %\".format(100*len(ntweets)/len(tweets))) \n",
    "# percentage of neutral tweets \n",
    "#print(\"Neutral tweets percentage: {} %\".format(100*len(tweets - ntweets - ptweets)/len(tweets))) \n",
    "  \n",
    "# printing first 5 positive tweets \n",
    "print(\"\\n\\nPositive tweets:\") \n",
    "for tweet in ptweets[:10]: \n",
    "    print(tweet['text'])\n",
    "# printing first 5 negative tweets\n",
    "print(\"\\n\\nNegative tweets:\") \n",
    "for tweet in ntweets[:10]: \n",
    "    print(tweet['text']) "
   ]
  },
  {
   "cell_type": "code",
   "execution_count": 206,
   "metadata": {},
   "outputs": [
    {
     "name": "stdout",
     "output_type": "stream",
     "text": [
      "Accuracy Score: 16.80%\n",
      "--------------------------------------------------------------------------------\n",
      "Confusion Matrix\n",
      "\n",
      "          predicted_positive  predicted_negative\n",
      "positive                   0                   0\n",
      "negative                  77                  42\n",
      "--------------------------------------------------------------------------------\n",
      "Classification Report\n",
      "\n",
      "             precision    recall  f1-score   support\n",
      "\n",
      "          0       0.81      0.35      0.49       119\n",
      "          1       0.00      0.00      0.00         0\n",
      "          4       0.00      0.00      0.00       131\n",
      "\n",
      "avg / total       0.38      0.17      0.23       250\n",
      "\n"
     ]
    },
    {
     "name": "stderr",
     "output_type": "stream",
     "text": [
      "/opt/conda/lib/python3.5/site-packages/sklearn/metrics/classification.py:1135: UndefinedMetricWarning: Precision and F-score are ill-defined and being set to 0.0 in labels with no predicted samples.\n",
      "  'precision', 'predicted', average, warn_for)\n",
      "/opt/conda/lib/python3.5/site-packages/sklearn/metrics/classification.py:1137: UndefinedMetricWarning: Recall and F-score are ill-defined and being set to 0.0 in labels with no true samples.\n",
      "  'recall', 'true', average, warn_for)\n"
     ]
    }
   ],
   "source": [
    "from textblob import TextBlob\n",
    "from sklearn.metrics import accuracy_score\n",
    "from sklearn.metrics import classification_report, confusion_matrix\n",
    "tbresult = [TextBlob(i).sentiment.polarity for i in X_test]\n",
    "tbpred = [0 if n < 0 else 1 for n in tbresult]\n",
    "conmat = np.array(confusion_matrix(y_test, tbpred, labels=[1,0]))\n",
    "confusion = pd.DataFrame(conmat, index=['positive', 'negative'],\n",
    "                         columns=['predicted_positive','predicted_negative'])\n",
    "print(\"Accuracy Score: {0:.2f}%\".format(accuracy_score(y_test, tbpred)*100))\n",
    "print(\"-\"*80)\n",
    "print(\"Confusion Matrix\\n\")\n",
    "print(confusion)\n",
    "print(\"-\"*80)\n",
    "print(\"Classification Report\\n\")\n",
    "print(classification_report(y_test, tbpred))"
   ]
  },
  {
   "cell_type": "markdown",
   "metadata": {},
   "source": [
    "# Supervised learning  - classification using emoticon"
   ]
  },
  {
   "cell_type": "code",
   "execution_count": 5,
   "metadata": {},
   "outputs": [],
   "source": [
    "training = pd.read_csv(\"training.1600000.processed.noemoticon.csv\", names=[\"polarity\", \"tid\", \"date\", \"query\", \"user\", \"text\"], encoding=\"latin1\")"
   ]
  },
  {
   "cell_type": "code",
   "execution_count": 77,
   "metadata": {},
   "outputs": [],
   "source": [
    "#from sklearn.feature_extraction.text import TfidfVectorizer\n",
    "\n",
    "#tv = TfidfVectorizer(min_df=50)\n",
    "#X = tv.fit_transform(training['text'])"
   ]
  },
  {
   "cell_type": "code",
   "execution_count": 73,
   "metadata": {
    "scrolled": false
   },
   "outputs": [
    {
     "data": {
      "text/plain": [
       "(1600000, 3)"
      ]
     },
     "execution_count": 73,
     "metadata": {},
     "output_type": "execute_result"
    }
   ],
   "source": [
    "training.shape"
   ]
  },
  {
   "cell_type": "code",
   "execution_count": 8,
   "metadata": {},
   "outputs": [
    {
     "data": {
      "text/html": [
       "<div>\n",
       "<style scoped>\n",
       "    .dataframe tbody tr th:only-of-type {\n",
       "        vertical-align: middle;\n",
       "    }\n",
       "\n",
       "    .dataframe tbody tr th {\n",
       "        vertical-align: top;\n",
       "    }\n",
       "\n",
       "    .dataframe thead th {\n",
       "        text-align: right;\n",
       "    }\n",
       "</style>\n",
       "<table border=\"1\" class=\"dataframe\">\n",
       "  <thead>\n",
       "    <tr style=\"text-align: right;\">\n",
       "      <th></th>\n",
       "      <th>polarity</th>\n",
       "      <th>tid</th>\n",
       "      <th>date</th>\n",
       "      <th>query</th>\n",
       "      <th>user</th>\n",
       "      <th>text</th>\n",
       "    </tr>\n",
       "  </thead>\n",
       "  <tbody>\n",
       "    <tr>\n",
       "      <th>0</th>\n",
       "      <td>0</td>\n",
       "      <td>1467810369</td>\n",
       "      <td>Mon Apr 06 22:19:45 PDT 2009</td>\n",
       "      <td>NO_QUERY</td>\n",
       "      <td>_TheSpecialOne_</td>\n",
       "      <td>@switchfoot http://twitpic.com/2y1zl - Awww, t...</td>\n",
       "    </tr>\n",
       "    <tr>\n",
       "      <th>1</th>\n",
       "      <td>0</td>\n",
       "      <td>1467810672</td>\n",
       "      <td>Mon Apr 06 22:19:49 PDT 2009</td>\n",
       "      <td>NO_QUERY</td>\n",
       "      <td>scotthamilton</td>\n",
       "      <td>is upset that he can't update his Facebook by ...</td>\n",
       "    </tr>\n",
       "    <tr>\n",
       "      <th>2</th>\n",
       "      <td>0</td>\n",
       "      <td>1467810917</td>\n",
       "      <td>Mon Apr 06 22:19:53 PDT 2009</td>\n",
       "      <td>NO_QUERY</td>\n",
       "      <td>mattycus</td>\n",
       "      <td>@Kenichan I dived many times for the ball. Man...</td>\n",
       "    </tr>\n",
       "    <tr>\n",
       "      <th>3</th>\n",
       "      <td>0</td>\n",
       "      <td>1467811184</td>\n",
       "      <td>Mon Apr 06 22:19:57 PDT 2009</td>\n",
       "      <td>NO_QUERY</td>\n",
       "      <td>ElleCTF</td>\n",
       "      <td>my whole body feels itchy and like its on fire</td>\n",
       "    </tr>\n",
       "    <tr>\n",
       "      <th>4</th>\n",
       "      <td>0</td>\n",
       "      <td>1467811193</td>\n",
       "      <td>Mon Apr 06 22:19:57 PDT 2009</td>\n",
       "      <td>NO_QUERY</td>\n",
       "      <td>Karoli</td>\n",
       "      <td>@nationwideclass no, it's not behaving at all....</td>\n",
       "    </tr>\n",
       "  </tbody>\n",
       "</table>\n",
       "</div>"
      ],
      "text/plain": [
       "   polarity         tid                          date     query  \\\n",
       "0         0  1467810369  Mon Apr 06 22:19:45 PDT 2009  NO_QUERY   \n",
       "1         0  1467810672  Mon Apr 06 22:19:49 PDT 2009  NO_QUERY   \n",
       "2         0  1467810917  Mon Apr 06 22:19:53 PDT 2009  NO_QUERY   \n",
       "3         0  1467811184  Mon Apr 06 22:19:57 PDT 2009  NO_QUERY   \n",
       "4         0  1467811193  Mon Apr 06 22:19:57 PDT 2009  NO_QUERY   \n",
       "\n",
       "              user                                               text  \n",
       "0  _TheSpecialOne_  @switchfoot http://twitpic.com/2y1zl - Awww, t...  \n",
       "1    scotthamilton  is upset that he can't update his Facebook by ...  \n",
       "2         mattycus  @Kenichan I dived many times for the ball. Man...  \n",
       "3          ElleCTF    my whole body feels itchy and like its on fire   \n",
       "4           Karoli  @nationwideclass no, it's not behaving at all....  "
      ]
     },
     "execution_count": 8,
     "metadata": {},
     "output_type": "execute_result"
    }
   ],
   "source": [
    "training.head()"
   ]
  },
  {
   "cell_type": "code",
   "execution_count": 16,
   "metadata": {},
   "outputs": [
    {
     "data": {
      "text/plain": [
       "4    800000\n",
       "0    800000\n",
       "Name: polarity, dtype: int64"
      ]
     },
     "execution_count": 16,
     "metadata": {},
     "output_type": "execute_result"
    }
   ],
   "source": [
    "training.polarity.value_counts()"
   ]
  },
  {
   "cell_type": "code",
   "execution_count": 17,
   "metadata": {},
   "outputs": [],
   "source": [
    "training.drop(['tid','date','query','user'],axis=1,inplace=True)"
   ]
  },
  {
   "cell_type": "code",
   "execution_count": 19,
   "metadata": {},
   "outputs": [
    {
     "data": {
      "text/html": [
       "<div>\n",
       "<style scoped>\n",
       "    .dataframe tbody tr th:only-of-type {\n",
       "        vertical-align: middle;\n",
       "    }\n",
       "\n",
       "    .dataframe tbody tr th {\n",
       "        vertical-align: top;\n",
       "    }\n",
       "\n",
       "    .dataframe thead th {\n",
       "        text-align: right;\n",
       "    }\n",
       "</style>\n",
       "<table border=\"1\" class=\"dataframe\">\n",
       "  <thead>\n",
       "    <tr style=\"text-align: right;\">\n",
       "      <th></th>\n",
       "      <th>polarity</th>\n",
       "      <th>text</th>\n",
       "    </tr>\n",
       "  </thead>\n",
       "  <tbody>\n",
       "    <tr>\n",
       "      <th>0</th>\n",
       "      <td>0</td>\n",
       "      <td>@switchfoot http://twitpic.com/2y1zl - Awww, t...</td>\n",
       "    </tr>\n",
       "    <tr>\n",
       "      <th>1</th>\n",
       "      <td>0</td>\n",
       "      <td>is upset that he can't update his Facebook by ...</td>\n",
       "    </tr>\n",
       "    <tr>\n",
       "      <th>2</th>\n",
       "      <td>0</td>\n",
       "      <td>@Kenichan I dived many times for the ball. Man...</td>\n",
       "    </tr>\n",
       "    <tr>\n",
       "      <th>3</th>\n",
       "      <td>0</td>\n",
       "      <td>my whole body feels itchy and like its on fire</td>\n",
       "    </tr>\n",
       "    <tr>\n",
       "      <th>4</th>\n",
       "      <td>0</td>\n",
       "      <td>@nationwideclass no, it's not behaving at all....</td>\n",
       "    </tr>\n",
       "    <tr>\n",
       "      <th>5</th>\n",
       "      <td>0</td>\n",
       "      <td>@Kwesidei not the whole crew</td>\n",
       "    </tr>\n",
       "    <tr>\n",
       "      <th>6</th>\n",
       "      <td>0</td>\n",
       "      <td>Need a hug</td>\n",
       "    </tr>\n",
       "    <tr>\n",
       "      <th>7</th>\n",
       "      <td>0</td>\n",
       "      <td>@LOLTrish hey  long time no see! Yes.. Rains a...</td>\n",
       "    </tr>\n",
       "    <tr>\n",
       "      <th>8</th>\n",
       "      <td>0</td>\n",
       "      <td>@Tatiana_K nope they didn't have it</td>\n",
       "    </tr>\n",
       "    <tr>\n",
       "      <th>9</th>\n",
       "      <td>0</td>\n",
       "      <td>@twittera que me muera ?</td>\n",
       "    </tr>\n",
       "  </tbody>\n",
       "</table>\n",
       "</div>"
      ],
      "text/plain": [
       "   polarity                                               text\n",
       "0         0  @switchfoot http://twitpic.com/2y1zl - Awww, t...\n",
       "1         0  is upset that he can't update his Facebook by ...\n",
       "2         0  @Kenichan I dived many times for the ball. Man...\n",
       "3         0    my whole body feels itchy and like its on fire \n",
       "4         0  @nationwideclass no, it's not behaving at all....\n",
       "5         0                      @Kwesidei not the whole crew \n",
       "6         0                                        Need a hug \n",
       "7         0  @LOLTrish hey  long time no see! Yes.. Rains a...\n",
       "8         0               @Tatiana_K nope they didn't have it \n",
       "9         0                          @twittera que me muera ? "
      ]
     },
     "execution_count": 19,
     "metadata": {},
     "output_type": "execute_result"
    }
   ],
   "source": [
    "training[training.polarity == 0].head(10)"
   ]
  },
  {
   "cell_type": "code",
   "execution_count": 20,
   "metadata": {},
   "outputs": [
    {
     "data": {
      "text/html": [
       "<div>\n",
       "<style scoped>\n",
       "    .dataframe tbody tr th:only-of-type {\n",
       "        vertical-align: middle;\n",
       "    }\n",
       "\n",
       "    .dataframe tbody tr th {\n",
       "        vertical-align: top;\n",
       "    }\n",
       "\n",
       "    .dataframe thead th {\n",
       "        text-align: right;\n",
       "    }\n",
       "</style>\n",
       "<table border=\"1\" class=\"dataframe\">\n",
       "  <thead>\n",
       "    <tr style=\"text-align: right;\">\n",
       "      <th></th>\n",
       "      <th>polarity</th>\n",
       "      <th>text</th>\n",
       "    </tr>\n",
       "  </thead>\n",
       "  <tbody>\n",
       "    <tr>\n",
       "      <th>800000</th>\n",
       "      <td>4</td>\n",
       "      <td>I LOVE @Health4UandPets u guys r the best!!</td>\n",
       "    </tr>\n",
       "    <tr>\n",
       "      <th>800001</th>\n",
       "      <td>4</td>\n",
       "      <td>im meeting up with one of my besties tonight! ...</td>\n",
       "    </tr>\n",
       "    <tr>\n",
       "      <th>800002</th>\n",
       "      <td>4</td>\n",
       "      <td>@DaRealSunisaKim Thanks for the Twitter add, S...</td>\n",
       "    </tr>\n",
       "    <tr>\n",
       "      <th>800003</th>\n",
       "      <td>4</td>\n",
       "      <td>Being sick can be really cheap when it hurts t...</td>\n",
       "    </tr>\n",
       "    <tr>\n",
       "      <th>800004</th>\n",
       "      <td>4</td>\n",
       "      <td>@LovesBrooklyn2 he has that effect on everyone</td>\n",
       "    </tr>\n",
       "    <tr>\n",
       "      <th>800005</th>\n",
       "      <td>4</td>\n",
       "      <td>@ProductOfFear You can tell him that I just bu...</td>\n",
       "    </tr>\n",
       "    <tr>\n",
       "      <th>800006</th>\n",
       "      <td>4</td>\n",
       "      <td>@r_keith_hill Thans for your response. Ihad al...</td>\n",
       "    </tr>\n",
       "    <tr>\n",
       "      <th>800007</th>\n",
       "      <td>4</td>\n",
       "      <td>@KeepinUpWKris I am so jealous, hope you had a...</td>\n",
       "    </tr>\n",
       "    <tr>\n",
       "      <th>800008</th>\n",
       "      <td>4</td>\n",
       "      <td>@tommcfly ah, congrats mr fletcher for finally...</td>\n",
       "    </tr>\n",
       "    <tr>\n",
       "      <th>800009</th>\n",
       "      <td>4</td>\n",
       "      <td>@e4VoIP I RESPONDED  Stupid cat is helping me ...</td>\n",
       "    </tr>\n",
       "  </tbody>\n",
       "</table>\n",
       "</div>"
      ],
      "text/plain": [
       "        polarity                                               text\n",
       "800000         4       I LOVE @Health4UandPets u guys r the best!! \n",
       "800001         4  im meeting up with one of my besties tonight! ...\n",
       "800002         4  @DaRealSunisaKim Thanks for the Twitter add, S...\n",
       "800003         4  Being sick can be really cheap when it hurts t...\n",
       "800004         4    @LovesBrooklyn2 he has that effect on everyone \n",
       "800005         4  @ProductOfFear You can tell him that I just bu...\n",
       "800006         4  @r_keith_hill Thans for your response. Ihad al...\n",
       "800007         4  @KeepinUpWKris I am so jealous, hope you had a...\n",
       "800008         4  @tommcfly ah, congrats mr fletcher for finally...\n",
       "800009         4  @e4VoIP I RESPONDED  Stupid cat is helping me ..."
      ]
     },
     "execution_count": 20,
     "metadata": {},
     "output_type": "execute_result"
    }
   ],
   "source": [
    "training[training.polarity == 4].head(10)"
   ]
  },
  {
   "cell_type": "code",
   "execution_count": 21,
   "metadata": {},
   "outputs": [],
   "source": [
    "training['pre_clean_len'] = [len(t) for t in training.text]"
   ]
  },
  {
   "cell_type": "code",
   "execution_count": 22,
   "metadata": {},
   "outputs": [],
   "source": [
    "df = training"
   ]
  },
  {
   "cell_type": "code",
   "execution_count": 25,
   "metadata": {},
   "outputs": [
    {
     "data": {
      "image/png": "[encoded data removed]",
      "text/plain": [
       "<Figure size 360x360 with 1 Axes>"
      ]
     },
     "metadata": {},
     "output_type": "display_data"
    }
   ],
   "source": [
    "fig, ax = plt.subplots(figsize=(5, 5))\n",
    "plt.boxplot(df.pre_clean_len)\n",
    "plt.show()"
   ]
  },
  {
   "cell_type": "code",
   "execution_count": 26,
   "metadata": {},
   "outputs": [
    {
     "data": {
      "text/html": [
       "<div>\n",
       "<style scoped>\n",
       "    .dataframe tbody tr th:only-of-type {\n",
       "        vertical-align: middle;\n",
       "    }\n",
       "\n",
       "    .dataframe tbody tr th {\n",
       "        vertical-align: top;\n",
       "    }\n",
       "\n",
       "    .dataframe thead th {\n",
       "        text-align: right;\n",
       "    }\n",
       "</style>\n",
       "<table border=\"1\" class=\"dataframe\">\n",
       "  <thead>\n",
       "    <tr style=\"text-align: right;\">\n",
       "      <th></th>\n",
       "      <th>polarity</th>\n",
       "      <th>text</th>\n",
       "      <th>pre_clean_len</th>\n",
       "    </tr>\n",
       "  </thead>\n",
       "  <tbody>\n",
       "    <tr>\n",
       "      <th>213</th>\n",
       "      <td>0</td>\n",
       "      <td>Awwh babs... you look so sad underneith that s...</td>\n",
       "      <td>142</td>\n",
       "    </tr>\n",
       "    <tr>\n",
       "      <th>226</th>\n",
       "      <td>0</td>\n",
       "      <td>Tuesdayï¿½ll start with reflection ï¿½n then a...</td>\n",
       "      <td>141</td>\n",
       "    </tr>\n",
       "    <tr>\n",
       "      <th>279</th>\n",
       "      <td>0</td>\n",
       "      <td>Whinging. My client&amp;amp;boss don't understand ...</td>\n",
       "      <td>145</td>\n",
       "    </tr>\n",
       "    <tr>\n",
       "      <th>343</th>\n",
       "      <td>0</td>\n",
       "      <td>@TheLeagueSF Not Fun &amp;amp; Furious? The new ma...</td>\n",
       "      <td>145</td>\n",
       "    </tr>\n",
       "    <tr>\n",
       "      <th>400</th>\n",
       "      <td>0</td>\n",
       "      <td>#3 woke up and was having an accident - &amp;quot;...</td>\n",
       "      <td>144</td>\n",
       "    </tr>\n",
       "    <tr>\n",
       "      <th>464</th>\n",
       "      <td>0</td>\n",
       "      <td>My bathtub drain is fired: it haz 1 job 2 do, ...</td>\n",
       "      <td>146</td>\n",
       "    </tr>\n",
       "    <tr>\n",
       "      <th>492</th>\n",
       "      <td>0</td>\n",
       "      <td>pears &amp;amp; Brie, bottle of Cabernet, and &amp;quo...</td>\n",
       "      <td>150</td>\n",
       "    </tr>\n",
       "    <tr>\n",
       "      <th>747</th>\n",
       "      <td>0</td>\n",
       "      <td>Have an invite for &amp;quot;Healthy Dining&amp;quot; ...</td>\n",
       "      <td>141</td>\n",
       "    </tr>\n",
       "    <tr>\n",
       "      <th>957</th>\n",
       "      <td>0</td>\n",
       "      <td>Damnit I was really digging this season of Rea...</td>\n",
       "      <td>141</td>\n",
       "    </tr>\n",
       "    <tr>\n",
       "      <th>1064</th>\n",
       "      <td>0</td>\n",
       "      <td>Why do I keep looking...I know that what I rea...</td>\n",
       "      <td>141</td>\n",
       "    </tr>\n",
       "  </tbody>\n",
       "</table>\n",
       "</div>"
      ],
      "text/plain": [
       "      polarity                                               text  \\\n",
       "213          0  Awwh babs... you look so sad underneith that s...   \n",
       "226          0  Tuesdayï¿½ll start with reflection ï¿½n then a...   \n",
       "279          0  Whinging. My client&amp;boss don't understand ...   \n",
       "343          0  @TheLeagueSF Not Fun &amp; Furious? The new ma...   \n",
       "400          0  #3 woke up and was having an accident - &quot;...   \n",
       "464          0  My bathtub drain is fired: it haz 1 job 2 do, ...   \n",
       "492          0  pears &amp; Brie, bottle of Cabernet, and &quo...   \n",
       "747          0  Have an invite for &quot;Healthy Dining&quot; ...   \n",
       "957          0  Damnit I was really digging this season of Rea...   \n",
       "1064         0  Why do I keep looking...I know that what I rea...   \n",
       "\n",
       "      pre_clean_len  \n",
       "213             142  \n",
       "226             141  \n",
       "279             145  \n",
       "343             145  \n",
       "400             144  \n",
       "464             146  \n",
       "492             150  \n",
       "747             141  \n",
       "957             141  \n",
       "1064            141  "
      ]
     },
     "execution_count": 26,
     "metadata": {},
     "output_type": "execute_result"
    }
   ],
   "source": [
    "df[df.pre_clean_len > 140].head(10)"
   ]
  },
  {
   "cell_type": "code",
   "execution_count": 29,
   "metadata": {},
   "outputs": [
    {
     "name": "stdout",
     "output_type": "stream",
     "text": [
      "Whinging. My client&boss don't understand English well. Rewrote some text unreadable. It's written by v. good writer&reviewed correctly. \n"
     ]
    }
   ],
   "source": [
    "# Decoding HTML to general text\n",
    "from bs4 import BeautifulSoup\n",
    "example1 = BeautifulSoup(df.text[279], 'lxml')\n",
    "print(example1.get_text())"
   ]
  },
  {
   "cell_type": "code",
   "execution_count": 30,
   "metadata": {},
   "outputs": [
    {
     "data": {
      "text/plain": [
       "'@TheLeagueSF Not Fun &amp; Furious? The new mantra for the Bay 2 Breakers? It was getting 2 rambunctious;the city overreacted &amp; clamped down '"
      ]
     },
     "execution_count": 30,
     "metadata": {},
     "output_type": "execute_result"
    }
   ],
   "source": [
    "df.text[343]"
   ]
  },
  {
   "cell_type": "code",
   "execution_count": 32,
   "metadata": {},
   "outputs": [
    {
     "data": {
      "text/plain": [
       "' Not Fun &amp; Furious? The new mantra for the Bay 2 Breakers? It was getting 2 rambunctious;the city overreacted &amp; clamped down '"
      ]
     },
     "execution_count": 32,
     "metadata": {},
     "output_type": "execute_result"
    }
   ],
   "source": [
    "# Remove '@’mention\n",
    "import re\n",
    "re.sub(r'@[A-Za-z0-9]+','',df.text[343])"
   ]
  },
  {
   "cell_type": "code",
   "execution_count": 42,
   "metadata": {},
   "outputs": [
    {
     "data": {
      "text/plain": [
       "\"@switchfoot http://twitpic.com/2y1zl - Awww, that's a bummer.  You shoulda got David Carr of Third Day to do it. ;D\""
      ]
     },
     "execution_count": 42,
     "metadata": {},
     "output_type": "execute_result"
    }
   ],
   "source": [
    "# Remove URL links\n",
    "df.text[0]"
   ]
  },
  {
   "cell_type": "code",
   "execution_count": 34,
   "metadata": {},
   "outputs": [
    {
     "data": {
      "text/plain": [
       "\"@switchfoot  - Awww, that's a bummer.  You shoulda got David Carr of Third Day to do it. ;D\""
      ]
     },
     "execution_count": 34,
     "metadata": {},
     "output_type": "execute_result"
    }
   ],
   "source": [
    "re.sub('https?://[A-Za-z0-9./]+','',df.text[0])"
   ]
  },
  {
   "cell_type": "code",
   "execution_count": 40,
   "metadata": {},
   "outputs": [
    {
     "data": {
      "text/plain": [
       "\"@machineplay I'm so sorry you're having to go through this. Again.  #therapyfail\""
      ]
     },
     "execution_count": 40,
     "metadata": {},
     "output_type": "execute_result"
    }
   ],
   "source": [
    "# remove hashtag / numbers. Remove \"#\" and retain the text\n",
    "\n",
    "df.text[175]"
   ]
  },
  {
   "cell_type": "code",
   "execution_count": 41,
   "metadata": {},
   "outputs": [
    {
     "data": {
      "text/plain": [
       "' machineplay I m so sorry you re having to go through this  Again    therapyfail'"
      ]
     },
     "execution_count": 41,
     "metadata": {},
     "output_type": "execute_result"
    }
   ],
   "source": [
    "re.sub(\"[^a-zA-Z]\", \" \", df.text[175])"
   ]
  },
  {
   "cell_type": "code",
   "execution_count": 46,
   "metadata": {},
   "outputs": [
    {
     "data": {
      "text/plain": [
       "['awww that s a bummer you shoulda got david carr of third day to do it d',\n",
       " 'is upset that he can t update his facebook by texting it and might cry as a result school today also blah',\n",
       " 'i dived many times for the ball managed to save the rest go out of bounds',\n",
       " 'my whole body feels itchy and like its on fire',\n",
       " 'no it s not behaving at all i m mad why am i here because i can t see you all over there',\n",
       " 'not the whole crew',\n",
       " 'need a hug',\n",
       " 'hey long time no see yes rains a bit only a bit lol i m fine thanks how s you',\n",
       " 'k nope they didn t have it',\n",
       " 'que me muera']"
      ]
     },
     "execution_count": 46,
     "metadata": {},
     "output_type": "execute_result"
    }
   ],
   "source": [
    "from nltk.tokenize import WordPunctTokenizer\n",
    "tok = WordPunctTokenizer()\n",
    "\n",
    "def cleaner(text):\n",
    "    soup = BeautifulSoup(text, 'lxml')\n",
    "    souped_text = soup.get_text()\n",
    "    text_rmat = re.sub(r'@[A-Za-z0-9]+','', souped_text)\n",
    "    text_rmurl = re.sub('https?://[A-Za-z0-9./]+','',text_rmat)\n",
    "    text_rmwww = re.sub(r'www.[^ ]+','',text_rmurl)\n",
    "    text_rmhash = re.sub(\"[^a-zA-Z]\", \" \", text_rmwww)\n",
    "    text_lower = text_rmhash.lower()\n",
    "    \n",
    "    # tokenize and join together to remove unneccessary white spaces\n",
    "    text_words = tok.tokenize(text_lower)\n",
    "    return (\" \".join(text_words)).strip()\n",
    "testing = df.text[:10]\n",
    "test_result = []\n",
    "for t in testing:\n",
    "    test_result.append(cleaner(t))\n",
    "test_result"
   ]
  },
  {
   "cell_type": "markdown",
   "metadata": {},
   "source": [
    "Below is the updated datacleaning function. The order of the cleaning is\n",
    "\n",
    "- Souping\n",
    "- BOM removing\n",
    "- url address(‘http:’pattern), twitter ID removing\n",
    "- url address(‘www.'pattern) removing\n",
    "- lower-case\n",
    "- removing numbers and special characters\n",
    "- tokenizing and joining"
   ]
  },
  {
   "cell_type": "code",
   "execution_count": 52,
   "metadata": {},
   "outputs": [
    {
     "data": {
      "text/plain": [
       "0"
      ]
     },
     "execution_count": 52,
     "metadata": {},
     "output_type": "execute_result"
    }
   ],
   "source": [
    "# Check for null values\n",
    "np.sum(training.isnull().any(axis=1))"
   ]
  },
  {
   "cell_type": "code",
   "execution_count": 53,
   "metadata": {},
   "outputs": [
    {
     "name": "stdout",
     "output_type": "stream",
     "text": [
      "<class 'pandas.core.frame.DataFrame'>\n",
      "RangeIndex: 1600000 entries, 0 to 1599999\n",
      "Data columns (total 3 columns):\n",
      "polarity         1600000 non-null int64\n",
      "text             1600000 non-null object\n",
      "pre_clean_len    1600000 non-null int64\n",
      "dtypes: int64(2), object(1)\n",
      "memory usage: 36.6+ MB\n"
     ]
    }
   ],
   "source": [
    "#drop null values\n",
    "training.dropna(inplace=True)\n",
    "training.reset_index(drop=True,inplace=True)\n",
    "training.info()"
   ]
  },
  {
   "cell_type": "code",
   "execution_count": 64,
   "metadata": {},
   "outputs": [
    {
     "data": {
      "image/png": "[encoded data removed]",
      "text/plain": [
       "<Figure size 864x720 with 1 Axes>"
      ]
     },
     "metadata": {},
     "output_type": "display_data"
    }
   ],
   "source": [
    "my_df = training[:1000]\n",
    "neg_tweets = my_df[my_df.polarity == 0]\n",
    "neg_string = []\n",
    "for t in neg_tweets.text:\n",
    "    neg_string.append(t)\n",
    "neg_string = pd.Series(neg_string).str.cat(sep=' ')\n",
    "from wordcloud import WordCloud\n",
    "\n",
    "wordcloud = WordCloud(width=1600, height=800,max_font_size=200).generate(neg_string)\n",
    "plt.figure(figsize=(12,10))\n",
    "plt.imshow(wordcloud, interpolation=\"bilinear\")\n",
    "plt.axis(\"off\")\n",
    "plt.show()\n"
   ]
  },
  {
   "cell_type": "code",
   "execution_count": 72,
   "metadata": {},
   "outputs": [
    {
     "ename": "AttributeError",
     "evalue": "Can only use .str accessor with string values, which use np.object_ dtype in pandas",
     "output_type": "error",
     "traceback": [
      "\u001b[0;31m---------------------------------------------------------------------------\u001b[0m",
      "\u001b[0;31mAttributeError\u001b[0m                            Traceback (most recent call last)",
      "\u001b[0;32m<ipython-input-72-948613316033>\u001b[0m in \u001b[0;36m<module>\u001b[0;34m()\u001b[0m\n\u001b[1;32m      3\u001b[0m \u001b[0;32mfor\u001b[0m \u001b[0mt\u001b[0m \u001b[0;32min\u001b[0m \u001b[0mpos_tweets\u001b[0m\u001b[0;34m.\u001b[0m\u001b[0mtext\u001b[0m\u001b[0;34m:\u001b[0m\u001b[0;34m\u001b[0m\u001b[0m\n\u001b[1;32m      4\u001b[0m     \u001b[0mpos_string\u001b[0m\u001b[0;34m.\u001b[0m\u001b[0mappend\u001b[0m\u001b[0;34m(\u001b[0m\u001b[0mt\u001b[0m\u001b[0;34m)\u001b[0m\u001b[0;34m\u001b[0m\u001b[0m\n\u001b[0;32m----> 5\u001b[0;31m \u001b[0mpos_string\u001b[0m \u001b[0;34m=\u001b[0m \u001b[0mpd\u001b[0m\u001b[0;34m.\u001b[0m\u001b[0mSeries\u001b[0m\u001b[0;34m(\u001b[0m\u001b[0mpos_string\u001b[0m\u001b[0;34m)\u001b[0m\u001b[0;34m.\u001b[0m\u001b[0mstr\u001b[0m\u001b[0;34m.\u001b[0m\u001b[0mcat\u001b[0m\u001b[0;34m(\u001b[0m\u001b[0msep\u001b[0m\u001b[0;34m=\u001b[0m\u001b[0;34m' '\u001b[0m\u001b[0;34m)\u001b[0m\u001b[0;34m\u001b[0m\u001b[0m\n\u001b[0m\u001b[1;32m      6\u001b[0m \u001b[0mwordcloud\u001b[0m \u001b[0;34m=\u001b[0m \u001b[0mWordCloud\u001b[0m\u001b[0;34m(\u001b[0m\u001b[0mwidth\u001b[0m\u001b[0;34m=\u001b[0m\u001b[0;36m1600\u001b[0m\u001b[0;34m,\u001b[0m \u001b[0mheight\u001b[0m\u001b[0;34m=\u001b[0m\u001b[0;36m800\u001b[0m\u001b[0;34m,\u001b[0m\u001b[0mmax_font_size\u001b[0m\u001b[0;34m=\u001b[0m\u001b[0;36m200\u001b[0m\u001b[0;34m,\u001b[0m\u001b[0mcolormap\u001b[0m\u001b[0;34m=\u001b[0m\u001b[0;34m'magma'\u001b[0m\u001b[0;34m)\u001b[0m\u001b[0;34m.\u001b[0m\u001b[0mgenerate\u001b[0m\u001b[0;34m(\u001b[0m\u001b[0mpos_string\u001b[0m\u001b[0;34m)\u001b[0m\u001b[0;34m\u001b[0m\u001b[0m\n\u001b[1;32m      7\u001b[0m \u001b[0mplt\u001b[0m\u001b[0;34m.\u001b[0m\u001b[0mfigure\u001b[0m\u001b[0;34m(\u001b[0m\u001b[0mfigsize\u001b[0m\u001b[0;34m=\u001b[0m\u001b[0;34m(\u001b[0m\u001b[0;36m12\u001b[0m\u001b[0;34m,\u001b[0m\u001b[0;36m10\u001b[0m\u001b[0;34m)\u001b[0m\u001b[0;34m)\u001b[0m\u001b[0;34m\u001b[0m\u001b[0m\n",
      "\u001b[0;32m/opt/conda/lib/python3.5/site-packages/pandas/core/generic.py\u001b[0m in \u001b[0;36m__getattr__\u001b[0;34m(self, name)\u001b[0m\n\u001b[1;32m   4370\u001b[0m         if (name in self._internal_names_set or name in self._metadata or\n\u001b[1;32m   4371\u001b[0m                 name in self._accessors):\n\u001b[0;32m-> 4372\u001b[0;31m             \u001b[0;32mreturn\u001b[0m \u001b[0mobject\u001b[0m\u001b[0;34m.\u001b[0m\u001b[0m__getattribute__\u001b[0m\u001b[0;34m(\u001b[0m\u001b[0mself\u001b[0m\u001b[0;34m,\u001b[0m \u001b[0mname\u001b[0m\u001b[0;34m)\u001b[0m\u001b[0;34m\u001b[0m\u001b[0m\n\u001b[0m\u001b[1;32m   4373\u001b[0m         \u001b[0;32melse\u001b[0m\u001b[0;34m:\u001b[0m\u001b[0;34m\u001b[0m\u001b[0m\n\u001b[1;32m   4374\u001b[0m             \u001b[0;32mif\u001b[0m \u001b[0mself\u001b[0m\u001b[0;34m.\u001b[0m\u001b[0m_info_axis\u001b[0m\u001b[0;34m.\u001b[0m\u001b[0m_can_hold_identifiers_and_holds_name\u001b[0m\u001b[0;34m(\u001b[0m\u001b[0mname\u001b[0m\u001b[0;34m)\u001b[0m\u001b[0;34m:\u001b[0m\u001b[0;34m\u001b[0m\u001b[0m\n",
      "\u001b[0;32m/opt/conda/lib/python3.5/site-packages/pandas/core/accessor.py\u001b[0m in \u001b[0;36m__get__\u001b[0;34m(self, obj, cls)\u001b[0m\n\u001b[1;32m    131\u001b[0m             \u001b[0;31m# we're accessing the attribute of the class, i.e., Dataset.geo\u001b[0m\u001b[0;34m\u001b[0m\u001b[0;34m\u001b[0m\u001b[0m\n\u001b[1;32m    132\u001b[0m             \u001b[0;32mreturn\u001b[0m \u001b[0mself\u001b[0m\u001b[0;34m.\u001b[0m\u001b[0m_accessor\u001b[0m\u001b[0;34m\u001b[0m\u001b[0m\n\u001b[0;32m--> 133\u001b[0;31m         \u001b[0maccessor_obj\u001b[0m \u001b[0;34m=\u001b[0m \u001b[0mself\u001b[0m\u001b[0;34m.\u001b[0m\u001b[0m_accessor\u001b[0m\u001b[0;34m(\u001b[0m\u001b[0mobj\u001b[0m\u001b[0;34m)\u001b[0m\u001b[0;34m\u001b[0m\u001b[0m\n\u001b[0m\u001b[1;32m    134\u001b[0m         \u001b[0;31m# Replace the property with the accessor object. Inspired by:\u001b[0m\u001b[0;34m\u001b[0m\u001b[0;34m\u001b[0m\u001b[0m\n\u001b[1;32m    135\u001b[0m         \u001b[0;31m# http://www.pydanny.com/cached-property.html\u001b[0m\u001b[0;34m\u001b[0m\u001b[0;34m\u001b[0m\u001b[0m\n",
      "\u001b[0;32m/opt/conda/lib/python3.5/site-packages/pandas/core/strings.py\u001b[0m in \u001b[0;36m__init__\u001b[0;34m(self, data)\u001b[0m\n\u001b[1;32m   1893\u001b[0m \u001b[0;34m\u001b[0m\u001b[0m\n\u001b[1;32m   1894\u001b[0m     \u001b[0;32mdef\u001b[0m \u001b[0m__init__\u001b[0m\u001b[0;34m(\u001b[0m\u001b[0mself\u001b[0m\u001b[0;34m,\u001b[0m \u001b[0mdata\u001b[0m\u001b[0;34m)\u001b[0m\u001b[0;34m:\u001b[0m\u001b[0;34m\u001b[0m\u001b[0m\n\u001b[0;32m-> 1895\u001b[0;31m         \u001b[0mself\u001b[0m\u001b[0;34m.\u001b[0m\u001b[0m_validate\u001b[0m\u001b[0;34m(\u001b[0m\u001b[0mdata\u001b[0m\u001b[0;34m)\u001b[0m\u001b[0;34m\u001b[0m\u001b[0m\n\u001b[0m\u001b[1;32m   1896\u001b[0m         \u001b[0mself\u001b[0m\u001b[0;34m.\u001b[0m\u001b[0m_is_categorical\u001b[0m \u001b[0;34m=\u001b[0m \u001b[0mis_categorical_dtype\u001b[0m\u001b[0;34m(\u001b[0m\u001b[0mdata\u001b[0m\u001b[0;34m)\u001b[0m\u001b[0;34m\u001b[0m\u001b[0m\n\u001b[1;32m   1897\u001b[0m \u001b[0;34m\u001b[0m\u001b[0m\n",
      "\u001b[0;32m/opt/conda/lib/python3.5/site-packages/pandas/core/strings.py\u001b[0m in \u001b[0;36m_validate\u001b[0;34m(data)\u001b[0m\n\u001b[1;32m   1915\u001b[0m             \u001b[0;31m# (instead of test for object dtype), but that isn't practical for\u001b[0m\u001b[0;34m\u001b[0m\u001b[0;34m\u001b[0m\u001b[0m\n\u001b[1;32m   1916\u001b[0m             \u001b[0;31m# performance reasons until we have a str dtype (GH 9343)\u001b[0m\u001b[0;34m\u001b[0m\u001b[0;34m\u001b[0m\u001b[0m\n\u001b[0;32m-> 1917\u001b[0;31m             raise AttributeError(\"Can only use .str accessor with string \"\n\u001b[0m\u001b[1;32m   1918\u001b[0m                                  \u001b[0;34m\"values, which use np.object_ dtype in \"\u001b[0m\u001b[0;34m\u001b[0m\u001b[0m\n\u001b[1;32m   1919\u001b[0m                                  \"pandas\")\n",
      "\u001b[0;31mAttributeError\u001b[0m: Can only use .str accessor with string values, which use np.object_ dtype in pandas"
     ]
    }
   ],
   "source": [
    "pos_tweets = my_df[my_df.polarity == 4]\n",
    "pos_string = []\n",
    "for t in pos_tweets.text:\n",
    "    pos_string.append(t)\n",
    "pos_string = pd.Series(pos_string).str.cat(sep=' ')\n",
    "wordcloud = WordCloud(width=1600, height=800,max_font_size=200,colormap='magma').generate(pos_string) \n",
    "plt.figure(figsize=(12,10)) \n",
    "plt.imshow(wordcloud, interpolation=\"bilinear\") \n",
    "plt.axis(\"off\") \n",
    "plt.show()\n"
   ]
  },
  {
   "cell_type": "code",
   "execution_count": null,
   "metadata": {},
   "outputs": [],
   "source": []
  },
  {
   "cell_type": "code",
   "execution_count": null,
   "metadata": {},
   "outputs": [],
   "source": []
  },
  {
   "cell_type": "code",
   "execution_count": null,
   "metadata": {},
   "outputs": [],
   "source": []
  },
  {
   "cell_type": "code",
   "execution_count": null,
   "metadata": {},
   "outputs": [],
   "source": []
  },
  {
   "cell_type": "code",
   "execution_count": null,
   "metadata": {},
   "outputs": [],
   "source": []
  },
  {
   "cell_type": "code",
   "execution_count": null,
   "metadata": {},
   "outputs": [],
   "source": []
  },
  {
   "cell_type": "code",
   "execution_count": 11,
   "metadata": {},
   "outputs": [],
   "source": [
    "X = training['text']\n",
    "y = training['polarity']\n"
   ]
  },
  {
   "cell_type": "code",
   "execution_count": 14,
   "metadata": {},
   "outputs": [
    {
     "data": {
      "text/plain": [
       "0    @switchfoot http://twitpic.com/2y1zl - Awww, t...\n",
       "1    is upset that he can't update his Facebook by ...\n",
       "2    @Kenichan I dived many times for the ball. Man...\n",
       "3      my whole body feels itchy and like its on fire \n",
       "4    @nationwideclass no, it's not behaving at all....\n",
       "Name: text, dtype: object"
      ]
     },
     "execution_count": 14,
     "metadata": {},
     "output_type": "execute_result"
    }
   ],
   "source": [
    "X.head()"
   ]
  },
  {
   "cell_type": "code",
   "execution_count": 15,
   "metadata": {},
   "outputs": [
    {
     "data": {
      "text/plain": [
       "0    0\n",
       "1    0\n",
       "2    0\n",
       "3    0\n",
       "4    0\n",
       "Name: polarity, dtype: int64"
      ]
     },
     "execution_count": 15,
     "metadata": {},
     "output_type": "execute_result"
    }
   ],
   "source": [
    "y.head()"
   ]
  },
  {
   "cell_type": "code",
   "execution_count": 80,
   "metadata": {},
   "outputs": [
    {
     "name": "stdout",
     "output_type": "stream",
     "text": [
      "[LibSVM]"
     ]
    },
    {
     "data": {
      "text/plain": [
       "SVC(C=1.0, cache_size=200, class_weight=None, coef0=0.0,\n",
       "  decision_function_shape='ovr', degree=3, gamma='auto', kernel='linear',\n",
       "  max_iter=-1, probability=False, random_state=None, shrinking=True,\n",
       "  tol=0.001, verbose=3)"
      ]
     },
     "execution_count": 80,
     "metadata": {},
     "output_type": "execute_result"
    }
   ],
   "source": [
    "from sklearn.svm import SVC\n",
    "from sklearn.model_selection import train_test_split\n",
    "X_train, X_test, y_train, y_test = train_test_split(X, y, test_size=0.25, random_state=3057)\n",
    "clf = SVC(kernel=\"linear\", verbose=3)\n",
    "clf.fit(X_train, y_train)"
   ]
  },
  {
   "cell_type": "code",
   "execution_count": 81,
   "metadata": {},
   "outputs": [],
   "source": [
    "tweet_tfidf = tv.transform(dataNov25fin['tweet_text'])"
   ]
  },
  {
   "cell_type": "code",
   "execution_count": 82,
   "metadata": {},
   "outputs": [],
   "source": [
    "tweet_pred = clf.predict(tweet_tfidf)"
   ]
  },
  {
   "cell_type": "code",
   "execution_count": 83,
   "metadata": {},
   "outputs": [],
   "source": [
    "dataNov25fin[\"sent_pred\"] = tweet_pred"
   ]
  },
  {
   "cell_type": "code",
   "execution_count": 84,
   "metadata": {
    "scrolled": false
   },
   "outputs": [
    {
     "name": "stdout",
     "output_type": "stream",
     "text": [
      "('RT @softedhearts: the signs as bitches\\n\\naries: tough bitch\\ntaurus: stupid bitch\\ngemini: resting bitch face bitch\\ncancer: sensitive bitch\\nle…', 0)\n",
      "**************************************************\n",
      "('@HQawiyy Nah it’s shit data. I was worried that it would fuck up my pixel data\\n\\nI already have 15,000+ View Content… https://t.co/rzomjFaZ94', 4)\n",
      "**************************************************\n",
      "(\"I FUCKING HATE THESE SOUNDS AND THESE PIXEL VOMIT HEADS\\n\\ni didn't kno i was playing a horror game\", 0)\n",
      "**************************************************\n",
      "('@kissedbygravity I got an Android too, a Google Pixel XL specifically. I hate iPhones. Both their battery and storage fucking suck.', 0)\n",
      "**************************************************\n",
      "('If that stink bug on my window sill isn’t dead he probably high as hell', 0)\n",
      "**************************************************\n",
      "(\"@eclecticbrotha Sorry not sorry, I tuned him out.\\nGoogle ain't updated this BS Pixel XL with the latest dumb fuck p… https://t.co/u43zhiIdSO\", 0)\n",
      "**************************************************\n",
      "('2nd day with mai pixel 3XL and im faking sad right nw battery life worst than my 5year old phone.', 0)\n",
      "**************************************************\n",
      "(\"@StevenP72041125 Plus, you forgot to mention how I'm a racist Nazi, who killed Jesus while denouncing my disdain fo… https://t.co/CKOn8r68M5\", 4)\n",
      "**************************************************\n",
      "('RT @_Spilling_Tea: Retweet if you too are not dead, only tired and ugly https://t.co/wlm16VPqjG', 0)\n",
      "**************************************************\n",
      "('RT @moth_sprout: Fuckin pissed https://t.co/wfUybP6eHn', 4)\n",
      "**************************************************\n",
      "('RT @PyjamaOdengie: Yall hold on what tje fuck i was lookong for pixel art of bts that i could recreate in minecraft what the fUCK dID I FIN…', 4)\n",
      "**************************************************\n",
      "(\"RT @fluffysmolcloud: I forgot to mention, but the worst that's come out of the SSBU leaks is just.\\n\\nPeople fucking giving out the ROM to SS…\", 0)\n",
      "**************************************************\n",
      "(\"this #thotaudit shit is fuckin hilarious, biggest war between 4chan and SJWs I've ever seen\", 4)\n",
      "**************************************************\n",
      "(\"The Google pixel 3 is fuckin lit- I'm never switching back to Apple or Samsung fuck all that noise\", 0)\n",
      "**************************************************\n",
      "(\"Holy shit 1 month till Christmas, I'm fucking hyping up rn\", 4)\n",
      "**************************************************\n",
      "('This bitch is dead https://t.co/Wkyjweg7Qd', 0)\n",
      "**************************************************\n",
      "('Yall hold on what tje fuck i was lookong for pixel art of bts that i could recreate in minecraft what the fUCK dID… https://t.co/eddH8oVz36', 4)\n",
      "**************************************************\n",
      "(\"@squibbot wait tHIS IS A BOT OH SHIT\\nI'M DUMB\", 4)\n",
      "**************************************************\n",
      "('RT @MicaBurton: Black Klansman is a hard movie to watch. So fucking hard. But my god does everyone need to watch it. It is sadly so relevan…', 0)\n",
      "**************************************************\n",
      "('RT @realTheePaint: what the fuck else did you think it was moron https://t.co/fVmH7o7Mz0', 4)\n",
      "**************************************************\n",
      "(\"ugh I hate making pixel icons for minecraft, but the mod I'm working on would be pretty boring without textures\", 0)\n",
      "**************************************************\n",
      "(\"RT @selneversleeps: ur fave pokemon's final ugly ass evolution https://t.co/gBCUzqbpLP\", 4)\n",
      "**************************************************\n",
      "(\"Missed tonight's stream? Never fear here is a quick clip of the madness you missed. Thanks @Sakaane \\n\\nhttps://t.co/rKAluZIhu1\", 0)\n",
      "**************************************************\n",
      "('RT @lambcurl: a fiend who steals your friends body and calls you a bitch! (#fma) https://t.co/7UJ6sxXjTa', 4)\n",
      "**************************************************\n",
      "(\"RT @JIR0US: thanksgiving is literally the worst holiday and u can't change my mind\\n\\n-historically shit\\n-u gotta hang out with a bunch of fa…\", 0)\n",
      "**************************************************\n",
      "('Pixel, you drunk fuck.', 4)\n",
      "**************************************************\n",
      "('RT @lilezvert: weeaboos are all fucking methheads i swear https://t.co/4ULSgzl4NU', 4)\n",
      "**************************************************\n",
      "('@Google cut the crap..make #Allo sms capable..get some exclusiveness to your #Pixel line-up. Apple is killing it wi… https://t.co/JdyKarCXxX', 4)\n",
      "**************************************************\n",
      "('@Ieagueofvillain Fuck yes!! I was meaning to watch that but i kinda forgot it exists oops', 0)\n",
      "**************************************************\n",
      "('playing this sick ass pixel game', 0)\n",
      "**************************************************\n",
      "('Worst thing about switching to the pixel has to be the loss of Apple music', 0)\n",
      "**************************************************\n",
      "('twinkle’s levi phase was SO weird she would message me at random ass hours gushing over her pixel boyfriend and his… https://t.co/ivu4sZDo4u', 0)\n",
      "**************************************************\n",
      "('@heymiker @melgotserved I switched from iPhone to Pixel last year, and I hate the Pixel even more than I hate Mike… https://t.co/9QzmKvUz6w', 0)\n",
      "**************************************************\n",
      "('@VerizonSupport my pixel 3 does not turn on wifi calling. And error message says emergency address management app fails. Any suggestions?', 0)\n",
      "**************************************************\n",
      "('Some old as hell pixel mess I did--- idk when the kirby stuff and  Prinny were made, but I did the pokemon X Maple… https://t.co/HprRIYlCTL', 0)\n",
      "**************************************************\n",
      "('RT @Not1FuckisGiven: “On today’s episode of white people aren’t scared of shit but equal rights” https://t.co/WVydqYECrB', 0)\n",
      "**************************************************\n",
      "(\"@StevenP72041125 Damn your are new at this, your piss ant little comments show who's brain is RIDDLED with syphilis… https://t.co/62HnRoHaay\", 4)\n",
      "**************************************************\n",
      "('RT @edgedestroys: \"you can\\'t fire me I quit\" lmao piss yourself for an eternity you rancid sack of shit https://t.co/TtUouzJTvi', 4)\n",
      "**************************************************\n",
      "(\"What sucks about the Pixel phone, there's no way to up the touch sensitivity. I refuse to take off my screen protector. Google, why?\", 0)\n",
      "**************************************************\n",
      "('Alright pixel ads you can stop telling me that my shopping cart misses me FOOL ME 5x - YOU ARE ABUSING POWER', 0)\n",
      "**************************************************\n",
      "('@demonyongs I literally did and you said. I’m bad at real life pool something abt also being bad at pixel pool', 0)\n",
      "**************************************************\n",
      "('theres a singular fucking purple pixel i missed in the original here its fixed get your coochie cronus https://t.co/tntsZ9ZGyt', 4)\n",
      "**************************************************\n",
      "('RT @suffera6le: theres a singular fucking purple pixel i missed in the original here its fixed get your coochie cronus https://t.co/tntsZ9Z…', 4)\n",
      "**************************************************\n",
      "('@Steve6620 @AndroidAuth @DGiTDaily damnit thunder... when you gunna realize that you aint gettin no god damn google pixel?', 0)\n",
      "**************************************************\n",
      "('@LapizTheRelic nows not the time for hentai when i could be making celeste pixel art\\n*fucking cries*', 0)\n",
      "**************************************************\n",
      "('RT @EG_Fade: Some old as hell pixel mess I did--- idk when the kirby stuff and  Prinny were made, but I did the pokemon X Maple this year..…', 0)\n",
      "**************************************************\n",
      "('@catchdhanish @Google Google is awful on that end. Even the after sales service is such a drag ._. buying the pixel phone = much regret.', 0)\n",
      "**************************************************\n",
      "('Notice any difference?  I used a binary marker^^ and oh my god its a pain in the ass man to use! Total props and re… https://t.co/pmIPSe5GhQ', 0)\n",
      "**************************************************\n",
      "('@darren_cullen Ike is also hates extraterrestrials and a complete fascist, and his reptillian agenda is complete BS… https://t.co/wiwDhbzO69', 4)\n",
      "**************************************************\n",
      "('RT @niathejawn: Soon as a bitch call me ugly in a argument I automatically know I’ve won. Couldn’t think of nothing else so you started lyi…', 0)\n",
      "**************************************************\n"
     ]
    }
   ],
   "source": [
    "for index, row in dataNov25fin.head(50).iterrows():\n",
    "    print((row['tweet_text'], row['sent_pred']))\n",
    "    print(\"*\"*50)"
   ]
  },
  {
   "cell_type": "markdown",
   "metadata": {},
   "source": [
    "## Using Pipeline and gridsearch"
   ]
  },
  {
   "cell_type": "code",
   "execution_count": 8,
   "metadata": {},
   "outputs": [],
   "source": [
    "training = pd.read_csv(\"training.1600000.processed.noemoticon.csv\", names=[\"polarity\", \"tid\", \"date\", \"query\", \"user\", \"text\"], encoding=\"latin1\")"
   ]
  },
  {
   "cell_type": "code",
   "execution_count": 9,
   "metadata": {},
   "outputs": [],
   "source": [
    "#tv = TfidfVectorizer(min_df=50)\n",
    "X = training['text']"
   ]
  },
  {
   "cell_type": "code",
   "execution_count": 10,
   "metadata": {
    "scrolled": false
   },
   "outputs": [
    {
     "data": {
      "text/plain": [
       "(1600000,)"
      ]
     },
     "execution_count": 10,
     "metadata": {},
     "output_type": "execute_result"
    }
   ],
   "source": [
    "X.shape"
   ]
  },
  {
   "cell_type": "code",
   "execution_count": 11,
   "metadata": {},
   "outputs": [],
   "source": [
    "y = training['polarity']\n",
    "\n",
    "from sklearn.utils import shuffle\n",
    "\n",
    "X, y = shuffle(X, y)\n",
    "\n",
    "X, y = X[:50000], y[:50000]"
   ]
  },
  {
   "cell_type": "code",
   "execution_count": 12,
   "metadata": {},
   "outputs": [],
   "source": [
    "from time import time\n",
    "from sklearn.feature_extraction.text import TfidfVectorizer\n",
    "from sklearn.feature_extraction.text import CountVectorizer\n",
    "from sklearn.feature_extraction.text import TfidfTransformer\n",
    "from sklearn.model_selection import GridSearchCV\n",
    "from sklearn.pipeline import Pipeline\n",
    "from sklearn.svm import SVC\n",
    "from sklearn.model_selection import train_test_split\n",
    "\n"
   ]
  },
  {
   "cell_type": "code",
   "execution_count": 13,
   "metadata": {},
   "outputs": [],
   "source": [
    "pipeline = Pipeline([\n",
    "    ('vect', CountVectorizer()),  #http://scikit-learn.org/stable/modules/feature_extraction.html\n",
    "    ('tfidf', TfidfTransformer()), #ignore for now\n",
    "    ('clf', SVC()),  #let's use logistic regression\n",
    "])"
   ]
  },
  {
   "cell_type": "code",
   "execution_count": 14,
   "metadata": {},
   "outputs": [],
   "source": [
    "parameters = { #listed in the form of \"step__parameter\", e.g, clf__penalty\n",
    "    #'vect__max_df': (0.5, 0.75, 1.0),\n",
    "    #'vect__max_features': (None, 500),\n",
    "    'vect__ngram_range': ((1, 1), (1, 2)),  # unigrams (single words) or bigrams (or sequence of words of length 2)\n",
    "    #'tfidf__use_idf': (True, False),\n",
    "    'tfidf__norm': ('l1', 'l2'),\n",
    "    #'clf__alpha': (0.00001, 0.000001),\n",
    "    #'clf__penalty': ('l1', 'l2', 'elasticnet'),\n",
    "    #'clf__loss': ('log', 'hinge'),  #hinge linear SVM\n",
    "    #'clf__max_iter': (2)\n",
    "    #'clf__n_iter': (10, 50)\n",
    "}"
   ]
  },
  {
   "cell_type": "code",
   "execution_count": 15,
   "metadata": {},
   "outputs": [],
   "source": [
    "grid_search = GridSearchCV(pipeline, parameters, cv=3, n_jobs=-1, verbose=1)"
   ]
  },
  {
   "cell_type": "code",
   "execution_count": null,
   "metadata": {},
   "outputs": [
    {
     "name": "stdout",
     "output_type": "stream",
     "text": [
      "Fitting 3 folds for each of 4 candidates, totalling 12 fits\n"
     ]
    }
   ],
   "source": [
    "from sklearn.svm import SVC\n",
    "from sklearn.model_selection import train_test_split\n",
    "X_train, X_test, y_train, y_test = train_test_split(X, y, test_size=0.25, random_state=3057)\n",
    "#clf = SVC(kernel=\"linear\", verbose=3)\n",
    "grid_search.fit(X_train, y_train)"
   ]
  },
  {
   "cell_type": "code",
   "execution_count": 81,
   "metadata": {},
   "outputs": [],
   "source": [
    "tweet_tfidf = tv.transform(dataNov25fin['tweet_text'])"
   ]
  },
  {
   "cell_type": "code",
   "execution_count": 82,
   "metadata": {},
   "outputs": [],
   "source": [
    "tweet_pred = clf.predict(tweet_tfidf)"
   ]
  },
  {
   "cell_type": "code",
   "execution_count": 83,
   "metadata": {},
   "outputs": [],
   "source": [
    "dataNov25fin[\"sent_pred\"] = tweet_pred"
   ]
  },
  {
   "cell_type": "code",
   "execution_count": 84,
   "metadata": {},
   "outputs": [
    {
     "name": "stdout",
     "output_type": "stream",
     "text": [
      "('RT @softedhearts: the signs as bitches\\n\\naries: tough bitch\\ntaurus: stupid bitch\\ngemini: resting bitch face bitch\\ncancer: sensitive bitch\\nle…', 0)\n",
      "**************************************************\n",
      "('@HQawiyy Nah it’s shit data. I was worried that it would fuck up my pixel data\\n\\nI already have 15,000+ View Content… https://t.co/rzomjFaZ94', 4)\n",
      "**************************************************\n",
      "(\"I FUCKING HATE THESE SOUNDS AND THESE PIXEL VOMIT HEADS\\n\\ni didn't kno i was playing a horror game\", 0)\n",
      "**************************************************\n",
      "('@kissedbygravity I got an Android too, a Google Pixel XL specifically. I hate iPhones. Both their battery and storage fucking suck.', 0)\n",
      "**************************************************\n",
      "('If that stink bug on my window sill isn’t dead he probably high as hell', 0)\n",
      "**************************************************\n",
      "(\"@eclecticbrotha Sorry not sorry, I tuned him out.\\nGoogle ain't updated this BS Pixel XL with the latest dumb fuck p… https://t.co/u43zhiIdSO\", 0)\n",
      "**************************************************\n",
      "('2nd day with mai pixel 3XL and im faking sad right nw battery life worst than my 5year old phone.', 0)\n",
      "**************************************************\n",
      "(\"@StevenP72041125 Plus, you forgot to mention how I'm a racist Nazi, who killed Jesus while denouncing my disdain fo… https://t.co/CKOn8r68M5\", 4)\n",
      "**************************************************\n",
      "('RT @_Spilling_Tea: Retweet if you too are not dead, only tired and ugly https://t.co/wlm16VPqjG', 0)\n",
      "**************************************************\n",
      "('RT @moth_sprout: Fuckin pissed https://t.co/wfUybP6eHn', 4)\n",
      "**************************************************\n",
      "('RT @PyjamaOdengie: Yall hold on what tje fuck i was lookong for pixel art of bts that i could recreate in minecraft what the fUCK dID I FIN…', 4)\n",
      "**************************************************\n",
      "(\"RT @fluffysmolcloud: I forgot to mention, but the worst that's come out of the SSBU leaks is just.\\n\\nPeople fucking giving out the ROM to SS…\", 0)\n",
      "**************************************************\n",
      "(\"this #thotaudit shit is fuckin hilarious, biggest war between 4chan and SJWs I've ever seen\", 4)\n",
      "**************************************************\n",
      "(\"The Google pixel 3 is fuckin lit- I'm never switching back to Apple or Samsung fuck all that noise\", 0)\n",
      "**************************************************\n",
      "(\"Holy shit 1 month till Christmas, I'm fucking hyping up rn\", 4)\n",
      "**************************************************\n",
      "('This bitch is dead https://t.co/Wkyjweg7Qd', 0)\n",
      "**************************************************\n",
      "('Yall hold on what tje fuck i was lookong for pixel art of bts that i could recreate in minecraft what the fUCK dID… https://t.co/eddH8oVz36', 4)\n",
      "**************************************************\n",
      "(\"@squibbot wait tHIS IS A BOT OH SHIT\\nI'M DUMB\", 4)\n",
      "**************************************************\n",
      "('RT @MicaBurton: Black Klansman is a hard movie to watch. So fucking hard. But my god does everyone need to watch it. It is sadly so relevan…', 0)\n",
      "**************************************************\n",
      "('RT @realTheePaint: what the fuck else did you think it was moron https://t.co/fVmH7o7Mz0', 4)\n",
      "**************************************************\n",
      "(\"ugh I hate making pixel icons for minecraft, but the mod I'm working on would be pretty boring without textures\", 0)\n",
      "**************************************************\n",
      "(\"RT @selneversleeps: ur fave pokemon's final ugly ass evolution https://t.co/gBCUzqbpLP\", 4)\n",
      "**************************************************\n",
      "(\"Missed tonight's stream? Never fear here is a quick clip of the madness you missed. Thanks @Sakaane \\n\\nhttps://t.co/rKAluZIhu1\", 0)\n",
      "**************************************************\n",
      "('RT @lambcurl: a fiend who steals your friends body and calls you a bitch! (#fma) https://t.co/7UJ6sxXjTa', 4)\n",
      "**************************************************\n",
      "(\"RT @JIR0US: thanksgiving is literally the worst holiday and u can't change my mind\\n\\n-historically shit\\n-u gotta hang out with a bunch of fa…\", 0)\n",
      "**************************************************\n",
      "('Pixel, you drunk fuck.', 4)\n",
      "**************************************************\n",
      "('RT @lilezvert: weeaboos are all fucking methheads i swear https://t.co/4ULSgzl4NU', 4)\n",
      "**************************************************\n",
      "('@Google cut the crap..make #Allo sms capable..get some exclusiveness to your #Pixel line-up. Apple is killing it wi… https://t.co/JdyKarCXxX', 4)\n",
      "**************************************************\n",
      "('@Ieagueofvillain Fuck yes!! I was meaning to watch that but i kinda forgot it exists oops', 0)\n",
      "**************************************************\n",
      "('playing this sick ass pixel game', 0)\n",
      "**************************************************\n",
      "('Worst thing about switching to the pixel has to be the loss of Apple music', 0)\n",
      "**************************************************\n",
      "('twinkle’s levi phase was SO weird she would message me at random ass hours gushing over her pixel boyfriend and his… https://t.co/ivu4sZDo4u', 0)\n",
      "**************************************************\n",
      "('@heymiker @melgotserved I switched from iPhone to Pixel last year, and I hate the Pixel even more than I hate Mike… https://t.co/9QzmKvUz6w', 0)\n",
      "**************************************************\n",
      "('@VerizonSupport my pixel 3 does not turn on wifi calling. And error message says emergency address management app fails. Any suggestions?', 0)\n",
      "**************************************************\n",
      "('Some old as hell pixel mess I did--- idk when the kirby stuff and  Prinny were made, but I did the pokemon X Maple… https://t.co/HprRIYlCTL', 0)\n",
      "**************************************************\n",
      "('RT @Not1FuckisGiven: “On today’s episode of white people aren’t scared of shit but equal rights” https://t.co/WVydqYECrB', 0)\n",
      "**************************************************\n",
      "(\"@StevenP72041125 Damn your are new at this, your piss ant little comments show who's brain is RIDDLED with syphilis… https://t.co/62HnRoHaay\", 4)\n",
      "**************************************************\n",
      "('RT @edgedestroys: \"you can\\'t fire me I quit\" lmao piss yourself for an eternity you rancid sack of shit https://t.co/TtUouzJTvi', 4)\n",
      "**************************************************\n",
      "(\"What sucks about the Pixel phone, there's no way to up the touch sensitivity. I refuse to take off my screen protector. Google, why?\", 0)\n",
      "**************************************************\n",
      "('Alright pixel ads you can stop telling me that my shopping cart misses me FOOL ME 5x - YOU ARE ABUSING POWER', 0)\n",
      "**************************************************\n",
      "('@demonyongs I literally did and you said. I’m bad at real life pool something abt also being bad at pixel pool', 0)\n",
      "**************************************************\n",
      "('theres a singular fucking purple pixel i missed in the original here its fixed get your coochie cronus https://t.co/tntsZ9ZGyt', 4)\n",
      "**************************************************\n",
      "('RT @suffera6le: theres a singular fucking purple pixel i missed in the original here its fixed get your coochie cronus https://t.co/tntsZ9Z…', 4)\n",
      "**************************************************\n",
      "('@Steve6620 @AndroidAuth @DGiTDaily damnit thunder... when you gunna realize that you aint gettin no god damn google pixel?', 0)\n",
      "**************************************************\n",
      "('@LapizTheRelic nows not the time for hentai when i could be making celeste pixel art\\n*fucking cries*', 0)\n",
      "**************************************************\n",
      "('RT @EG_Fade: Some old as hell pixel mess I did--- idk when the kirby stuff and  Prinny were made, but I did the pokemon X Maple this year..…', 0)\n",
      "**************************************************\n",
      "('@catchdhanish @Google Google is awful on that end. Even the after sales service is such a drag ._. buying the pixel phone = much regret.', 0)\n",
      "**************************************************\n",
      "('Notice any difference?  I used a binary marker^^ and oh my god its a pain in the ass man to use! Total props and re… https://t.co/pmIPSe5GhQ', 0)\n",
      "**************************************************\n",
      "('@darren_cullen Ike is also hates extraterrestrials and a complete fascist, and his reptillian agenda is complete BS… https://t.co/wiwDhbzO69', 4)\n",
      "**************************************************\n",
      "('RT @niathejawn: Soon as a bitch call me ugly in a argument I automatically know I’ve won. Couldn’t think of nothing else so you started lyi…', 0)\n",
      "**************************************************\n"
     ]
    }
   ],
   "source": [
    "for index, row in dataNov25fin.head(50).iterrows():\n",
    "    print((row['tweet_text'], row['sent_pred']))\n",
    "    print(\"*\"*50)"
   ]
  },
  {
   "cell_type": "code",
   "execution_count": null,
   "metadata": {},
   "outputs": [],
   "source": []
  },
  {
   "cell_type": "markdown",
   "metadata": {},
   "source": [
    "## SGDClassifier"
   ]
  },
  {
   "cell_type": "code",
   "execution_count": null,
   "metadata": {},
   "outputs": [],
   "source": []
  },
  {
   "cell_type": "code",
   "execution_count": null,
   "metadata": {},
   "outputs": [],
   "source": []
  },
  {
   "cell_type": "code",
   "execution_count": null,
   "metadata": {},
   "outputs": [],
   "source": []
  },
  {
   "cell_type": "code",
   "execution_count": null,
   "metadata": {},
   "outputs": [],
   "source": []
  },
  {
   "cell_type": "markdown",
   "metadata": {},
   "source": [
    "# Visualizations"
   ]
  },
  {
   "cell_type": "code",
   "execution_count": 174,
   "metadata": {},
   "outputs": [
    {
     "ename": "AttributeError",
     "evalue": "'DataFrame' object has no attribute 'polarity'",
     "output_type": "error",
     "traceback": [
      "\u001b[0;31m---------------------------------------------------------------------------\u001b[0m",
      "\u001b[0;31mAttributeError\u001b[0m                            Traceback (most recent call last)",
      "\u001b[0;32m<ipython-input-174-ab1158ffd9f7>\u001b[0m in \u001b[0;36m<module>\u001b[0;34m()\u001b[0m\n\u001b[1;32m      1\u001b[0m \u001b[0mmy_df\u001b[0m \u001b[0;34m=\u001b[0m \u001b[0mdf\u001b[0m\u001b[0;34m[\u001b[0m\u001b[0;34m:\u001b[0m\u001b[0;36m1000\u001b[0m\u001b[0;34m]\u001b[0m\u001b[0;34m\u001b[0m\u001b[0m\n\u001b[0;32m----> 2\u001b[0;31m \u001b[0mneg_tweets\u001b[0m \u001b[0;34m=\u001b[0m \u001b[0mmy_df\u001b[0m\u001b[0;34m[\u001b[0m\u001b[0mmy_df\u001b[0m\u001b[0;34m.\u001b[0m\u001b[0mpolarity\u001b[0m \u001b[0;34m==\u001b[0m \u001b[0;36m0\u001b[0m\u001b[0;34m]\u001b[0m\u001b[0;34m\u001b[0m\u001b[0m\n\u001b[0m\u001b[1;32m      3\u001b[0m \u001b[0mneg_string\u001b[0m \u001b[0;34m=\u001b[0m \u001b[0;34m[\u001b[0m\u001b[0;34m]\u001b[0m\u001b[0;34m\u001b[0m\u001b[0m\n\u001b[1;32m      4\u001b[0m \u001b[0;32mfor\u001b[0m \u001b[0mt\u001b[0m \u001b[0;32min\u001b[0m \u001b[0mneg_tweets\u001b[0m\u001b[0;34m.\u001b[0m\u001b[0mtext\u001b[0m\u001b[0;34m:\u001b[0m\u001b[0;34m\u001b[0m\u001b[0m\n\u001b[1;32m      5\u001b[0m     \u001b[0mneg_string\u001b[0m\u001b[0;34m.\u001b[0m\u001b[0mappend\u001b[0m\u001b[0;34m(\u001b[0m\u001b[0mt\u001b[0m\u001b[0;34m)\u001b[0m\u001b[0;34m\u001b[0m\u001b[0m\n",
      "\u001b[0;32m/opt/conda/lib/python3.5/site-packages/pandas/core/generic.py\u001b[0m in \u001b[0;36m__getattr__\u001b[0;34m(self, name)\u001b[0m\n\u001b[1;32m   4374\u001b[0m             \u001b[0;32mif\u001b[0m \u001b[0mself\u001b[0m\u001b[0;34m.\u001b[0m\u001b[0m_info_axis\u001b[0m\u001b[0;34m.\u001b[0m\u001b[0m_can_hold_identifiers_and_holds_name\u001b[0m\u001b[0;34m(\u001b[0m\u001b[0mname\u001b[0m\u001b[0;34m)\u001b[0m\u001b[0;34m:\u001b[0m\u001b[0;34m\u001b[0m\u001b[0m\n\u001b[1;32m   4375\u001b[0m                 \u001b[0;32mreturn\u001b[0m \u001b[0mself\u001b[0m\u001b[0;34m[\u001b[0m\u001b[0mname\u001b[0m\u001b[0;34m]\u001b[0m\u001b[0;34m\u001b[0m\u001b[0m\n\u001b[0;32m-> 4376\u001b[0;31m             \u001b[0;32mreturn\u001b[0m \u001b[0mobject\u001b[0m\u001b[0;34m.\u001b[0m\u001b[0m__getattribute__\u001b[0m\u001b[0;34m(\u001b[0m\u001b[0mself\u001b[0m\u001b[0;34m,\u001b[0m \u001b[0mname\u001b[0m\u001b[0;34m)\u001b[0m\u001b[0;34m\u001b[0m\u001b[0m\n\u001b[0m\u001b[1;32m   4377\u001b[0m \u001b[0;34m\u001b[0m\u001b[0m\n\u001b[1;32m   4378\u001b[0m     \u001b[0;32mdef\u001b[0m \u001b[0m__setattr__\u001b[0m\u001b[0;34m(\u001b[0m\u001b[0mself\u001b[0m\u001b[0;34m,\u001b[0m \u001b[0mname\u001b[0m\u001b[0;34m,\u001b[0m \u001b[0mvalue\u001b[0m\u001b[0;34m)\u001b[0m\u001b[0;34m:\u001b[0m\u001b[0;34m\u001b[0m\u001b[0m\n",
      "\u001b[0;31mAttributeError\u001b[0m: 'DataFrame' object has no attribute 'polarity'"
     ]
    }
   ],
   "source": [
    "my_df = df[:1000]\n",
    "neg_tweets = my_df[my_df.polarity == 0]\n",
    "neg_string = []\n",
    "for t in neg_tweets.text:\n",
    "    neg_string.append(t)\n",
    "neg_string = pd.Series(neg_string).str.cat(sep=' ')\n",
    "from wordcloud import WordCloud\n",
    "\n",
    "wordcloud = WordCloud(width=1600, height=800,max_font_size=200).generate(neg_string)\n",
    "plt.figure(figsize=(12,10))\n",
    "plt.imshow(wordcloud, interpolation=\"bilinear\")\n",
    "plt.axis(\"off\")\n",
    "plt.show()\n"
   ]
  },
  {
   "cell_type": "code",
   "execution_count": 72,
   "metadata": {},
   "outputs": [
    {
     "ename": "AttributeError",
     "evalue": "Can only use .str accessor with string values, which use np.object_ dtype in pandas",
     "output_type": "error",
     "traceback": [
      "\u001b[0;31m---------------------------------------------------------------------------\u001b[0m",
      "\u001b[0;31mAttributeError\u001b[0m                            Traceback (most recent call last)",
      "\u001b[0;32m<ipython-input-72-948613316033>\u001b[0m in \u001b[0;36m<module>\u001b[0;34m()\u001b[0m\n\u001b[1;32m      3\u001b[0m \u001b[0;32mfor\u001b[0m \u001b[0mt\u001b[0m \u001b[0;32min\u001b[0m \u001b[0mpos_tweets\u001b[0m\u001b[0;34m.\u001b[0m\u001b[0mtext\u001b[0m\u001b[0;34m:\u001b[0m\u001b[0;34m\u001b[0m\u001b[0m\n\u001b[1;32m      4\u001b[0m     \u001b[0mpos_string\u001b[0m\u001b[0;34m.\u001b[0m\u001b[0mappend\u001b[0m\u001b[0;34m(\u001b[0m\u001b[0mt\u001b[0m\u001b[0;34m)\u001b[0m\u001b[0;34m\u001b[0m\u001b[0m\n\u001b[0;32m----> 5\u001b[0;31m \u001b[0mpos_string\u001b[0m \u001b[0;34m=\u001b[0m \u001b[0mpd\u001b[0m\u001b[0;34m.\u001b[0m\u001b[0mSeries\u001b[0m\u001b[0;34m(\u001b[0m\u001b[0mpos_string\u001b[0m\u001b[0;34m)\u001b[0m\u001b[0;34m.\u001b[0m\u001b[0mstr\u001b[0m\u001b[0;34m.\u001b[0m\u001b[0mcat\u001b[0m\u001b[0;34m(\u001b[0m\u001b[0msep\u001b[0m\u001b[0;34m=\u001b[0m\u001b[0;34m' '\u001b[0m\u001b[0;34m)\u001b[0m\u001b[0;34m\u001b[0m\u001b[0m\n\u001b[0m\u001b[1;32m      6\u001b[0m \u001b[0mwordcloud\u001b[0m \u001b[0;34m=\u001b[0m \u001b[0mWordCloud\u001b[0m\u001b[0;34m(\u001b[0m\u001b[0mwidth\u001b[0m\u001b[0;34m=\u001b[0m\u001b[0;36m1600\u001b[0m\u001b[0;34m,\u001b[0m \u001b[0mheight\u001b[0m\u001b[0;34m=\u001b[0m\u001b[0;36m800\u001b[0m\u001b[0;34m,\u001b[0m\u001b[0mmax_font_size\u001b[0m\u001b[0;34m=\u001b[0m\u001b[0;36m200\u001b[0m\u001b[0;34m,\u001b[0m\u001b[0mcolormap\u001b[0m\u001b[0;34m=\u001b[0m\u001b[0;34m'magma'\u001b[0m\u001b[0;34m)\u001b[0m\u001b[0;34m.\u001b[0m\u001b[0mgenerate\u001b[0m\u001b[0;34m(\u001b[0m\u001b[0mpos_string\u001b[0m\u001b[0;34m)\u001b[0m\u001b[0;34m\u001b[0m\u001b[0m\n\u001b[1;32m      7\u001b[0m \u001b[0mplt\u001b[0m\u001b[0;34m.\u001b[0m\u001b[0mfigure\u001b[0m\u001b[0;34m(\u001b[0m\u001b[0mfigsize\u001b[0m\u001b[0;34m=\u001b[0m\u001b[0;34m(\u001b[0m\u001b[0;36m12\u001b[0m\u001b[0;34m,\u001b[0m\u001b[0;36m10\u001b[0m\u001b[0;34m)\u001b[0m\u001b[0;34m)\u001b[0m\u001b[0;34m\u001b[0m\u001b[0m\n",
      "\u001b[0;32m/opt/conda/lib/python3.5/site-packages/pandas/core/generic.py\u001b[0m in \u001b[0;36m__getattr__\u001b[0;34m(self, name)\u001b[0m\n\u001b[1;32m   4370\u001b[0m         if (name in self._internal_names_set or name in self._metadata or\n\u001b[1;32m   4371\u001b[0m                 name in self._accessors):\n\u001b[0;32m-> 4372\u001b[0;31m             \u001b[0;32mreturn\u001b[0m \u001b[0mobject\u001b[0m\u001b[0;34m.\u001b[0m\u001b[0m__getattribute__\u001b[0m\u001b[0;34m(\u001b[0m\u001b[0mself\u001b[0m\u001b[0;34m,\u001b[0m \u001b[0mname\u001b[0m\u001b[0;34m)\u001b[0m\u001b[0;34m\u001b[0m\u001b[0m\n\u001b[0m\u001b[1;32m   4373\u001b[0m         \u001b[0;32melse\u001b[0m\u001b[0;34m:\u001b[0m\u001b[0;34m\u001b[0m\u001b[0m\n\u001b[1;32m   4374\u001b[0m             \u001b[0;32mif\u001b[0m \u001b[0mself\u001b[0m\u001b[0;34m.\u001b[0m\u001b[0m_info_axis\u001b[0m\u001b[0;34m.\u001b[0m\u001b[0m_can_hold_identifiers_and_holds_name\u001b[0m\u001b[0;34m(\u001b[0m\u001b[0mname\u001b[0m\u001b[0;34m)\u001b[0m\u001b[0;34m:\u001b[0m\u001b[0;34m\u001b[0m\u001b[0m\n",
      "\u001b[0;32m/opt/conda/lib/python3.5/site-packages/pandas/core/accessor.py\u001b[0m in \u001b[0;36m__get__\u001b[0;34m(self, obj, cls)\u001b[0m\n\u001b[1;32m    131\u001b[0m             \u001b[0;31m# we're accessing the attribute of the class, i.e., Dataset.geo\u001b[0m\u001b[0;34m\u001b[0m\u001b[0;34m\u001b[0m\u001b[0m\n\u001b[1;32m    132\u001b[0m             \u001b[0;32mreturn\u001b[0m \u001b[0mself\u001b[0m\u001b[0;34m.\u001b[0m\u001b[0m_accessor\u001b[0m\u001b[0;34m\u001b[0m\u001b[0m\n\u001b[0;32m--> 133\u001b[0;31m         \u001b[0maccessor_obj\u001b[0m \u001b[0;34m=\u001b[0m \u001b[0mself\u001b[0m\u001b[0;34m.\u001b[0m\u001b[0m_accessor\u001b[0m\u001b[0;34m(\u001b[0m\u001b[0mobj\u001b[0m\u001b[0;34m)\u001b[0m\u001b[0;34m\u001b[0m\u001b[0m\n\u001b[0m\u001b[1;32m    134\u001b[0m         \u001b[0;31m# Replace the property with the accessor object. Inspired by:\u001b[0m\u001b[0;34m\u001b[0m\u001b[0;34m\u001b[0m\u001b[0m\n\u001b[1;32m    135\u001b[0m         \u001b[0;31m# http://www.pydanny.com/cached-property.html\u001b[0m\u001b[0;34m\u001b[0m\u001b[0;34m\u001b[0m\u001b[0m\n",
      "\u001b[0;32m/opt/conda/lib/python3.5/site-packages/pandas/core/strings.py\u001b[0m in \u001b[0;36m__init__\u001b[0;34m(self, data)\u001b[0m\n\u001b[1;32m   1893\u001b[0m \u001b[0;34m\u001b[0m\u001b[0m\n\u001b[1;32m   1894\u001b[0m     \u001b[0;32mdef\u001b[0m \u001b[0m__init__\u001b[0m\u001b[0;34m(\u001b[0m\u001b[0mself\u001b[0m\u001b[0;34m,\u001b[0m \u001b[0mdata\u001b[0m\u001b[0;34m)\u001b[0m\u001b[0;34m:\u001b[0m\u001b[0;34m\u001b[0m\u001b[0m\n\u001b[0;32m-> 1895\u001b[0;31m         \u001b[0mself\u001b[0m\u001b[0;34m.\u001b[0m\u001b[0m_validate\u001b[0m\u001b[0;34m(\u001b[0m\u001b[0mdata\u001b[0m\u001b[0;34m)\u001b[0m\u001b[0;34m\u001b[0m\u001b[0m\n\u001b[0m\u001b[1;32m   1896\u001b[0m         \u001b[0mself\u001b[0m\u001b[0;34m.\u001b[0m\u001b[0m_is_categorical\u001b[0m \u001b[0;34m=\u001b[0m \u001b[0mis_categorical_dtype\u001b[0m\u001b[0;34m(\u001b[0m\u001b[0mdata\u001b[0m\u001b[0;34m)\u001b[0m\u001b[0;34m\u001b[0m\u001b[0m\n\u001b[1;32m   1897\u001b[0m \u001b[0;34m\u001b[0m\u001b[0m\n",
      "\u001b[0;32m/opt/conda/lib/python3.5/site-packages/pandas/core/strings.py\u001b[0m in \u001b[0;36m_validate\u001b[0;34m(data)\u001b[0m\n\u001b[1;32m   1915\u001b[0m             \u001b[0;31m# (instead of test for object dtype), but that isn't practical for\u001b[0m\u001b[0;34m\u001b[0m\u001b[0;34m\u001b[0m\u001b[0m\n\u001b[1;32m   1916\u001b[0m             \u001b[0;31m# performance reasons until we have a str dtype (GH 9343)\u001b[0m\u001b[0;34m\u001b[0m\u001b[0;34m\u001b[0m\u001b[0m\n\u001b[0;32m-> 1917\u001b[0;31m             raise AttributeError(\"Can only use .str accessor with string \"\n\u001b[0m\u001b[1;32m   1918\u001b[0m                                  \u001b[0;34m\"values, which use np.object_ dtype in \"\u001b[0m\u001b[0;34m\u001b[0m\u001b[0m\n\u001b[1;32m   1919\u001b[0m                                  \"pandas\")\n",
      "\u001b[0;31mAttributeError\u001b[0m: Can only use .str accessor with string values, which use np.object_ dtype in pandas"
     ]
    }
   ],
   "source": [
    "pos_tweets = my_df[my_df.polarity == 4]\n",
    "pos_string = []\n",
    "for t in pos_tweets.text:\n",
    "    pos_string.append(t)\n",
    "pos_string = pd.Series(pos_string).str.cat(sep=' ')\n",
    "wordcloud = WordCloud(width=1600, height=800,max_font_size=200,colormap='magma').generate(pos_string) \n",
    "plt.figure(figsize=(12,10)) \n",
    "plt.imshow(wordcloud, interpolation=\"bilinear\") \n",
    "plt.axis(\"off\") \n",
    "plt.show()\n"
   ]
  }
 ],
 "metadata": {
  "anaconda-cloud": {},
  "kernelspec": {
   "display_name": "Python 3",
   "language": "python",
   "name": "python3"
  },
  "language_info": {
   "codemirror_mode": {
    "name": "ipython",
    "version": 3
   },
   "file_extension": ".py",
   "mimetype": "text/x-python",
   "name": "python",
   "nbconvert_exporter": "python",
   "pygments_lexer": "ipython3",
   "version": "3.5.5"
  },
  "toc": {
   "base_numbering": 1,
   "nav_menu": {},
   "number_sections": true,
   "sideBar": true,
   "skip_h1_title": false,
   "title_cell": "Table of Contents",
   "title_sidebar": "Contents",
   "toc_cell": false,
   "toc_position": {},
   "toc_section_display": true,
   "toc_window_display": true
  }
 },
 "nbformat": 4,
 "nbformat_minor": 1
}
